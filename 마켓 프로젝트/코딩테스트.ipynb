{
 "cells": [
  {
   "cell_type": "markdown",
   "metadata": {},
   "source": [
    "# 카카오 코딩테스트 1"
   ]
  },
  {
   "cell_type": "code",
   "execution_count": 1,
   "metadata": {},
   "outputs": [],
   "source": [
    "n = 5\n",
    "arr1 = [9,20,28,18,11]\n",
    "arr2 = [30,1,21,17,28]"
   ]
  },
  {
   "cell_type": "code",
   "execution_count": 11,
   "metadata": {},
   "outputs": [
    {
     "name": "stdout",
     "output_type": "stream",
     "text": [
      "11111\n",
      "10101\n",
      "11101\n",
      "10011\n",
      "11111\n"
     ]
    }
   ],
   "source": [
    "for i in range(n):\n",
    "    result = arr1[i] | arr2[i]\n",
    "    print(\"{0:b}\".format(result))"
   ]
  },
  {
   "cell_type": "code",
   "execution_count": 21,
   "metadata": {},
   "outputs": [
    {
     "name": "stdout",
     "output_type": "stream",
     "text": [
      "#####\n",
      "# # #\n",
      "### #\n",
      "#  ##\n",
      "#####\n"
     ]
    }
   ],
   "source": [
    "for i in range(n):\n",
    "    result = arr1[i] | arr2[i]\n",
    "    result = \"{0:b}\".format(result)\n",
    "    for j in range(n):\n",
    "        string = str(result)\n",
    "        if string[j] == \"1\":\n",
    "            print(\"#\",end=\"\")\n",
    "        else :\n",
    "            print(\" \",end=\"\")\n",
    "    print(\"\")"
   ]
  },
  {
   "cell_type": "markdown",
   "metadata": {},
   "source": [
    "# 카카오 코딩테스트 2"
   ]
  },
  {
   "cell_type": "code",
   "execution_count": 125,
   "metadata": {},
   "outputs": [
    {
     "name": "stdout",
     "output_type": "stream",
     "text": [
      "Dart score : 1D2S#10S\n"
     ]
    }
   ],
   "source": [
    "scanner = input(\"Dart score : \")\n",
    "len_score = len(scanner) # 입력된 값의 길이\n",
    "step = 1 # 1: 점수 2:보너스 3:옵션\n",
    "lenPos = 0 # 입력된 값의 위치\n",
    "score_pos = 0 # 점수의 좌표\n",
    "score = [0,0,0]"
   ]
  },
  {
   "cell_type": "code",
   "execution_count": 30,
   "metadata": {},
   "outputs": [
    {
     "data": {
      "text/plain": [
       "'1S2D*3T'"
      ]
     },
     "execution_count": 30,
     "metadata": {},
     "output_type": "execute_result"
    }
   ],
   "source": [
    "scanner"
   ]
  },
  {
   "cell_type": "code",
   "execution_count": 126,
   "metadata": {},
   "outputs": [],
   "source": [
    "while lenPos<len_score :\n",
    "    target = scanner[lenPos]\n",
    "    if step == 1: #1.1 1단계 점수 처리( 숫자만 올 수 있다.)\n",
    "        try :\n",
    "            score[score_pos] = int(target)\n",
    "            step+=1\n",
    "        except : # 1.3 3단계 옵션 처리\n",
    "            if target == \"*\": # 1.3.1 스타상\n",
    "                score[score_pos-1] = score[score_pos-1]*2\n",
    "                if score_pos>1:\n",
    "                    score[score_pos-2] = score[score_pos-2]*2\n",
    "            elif target == \"#\": #1.3.2 아차상\n",
    "                score[score_pos-1] = score[score_pos-1]*(-1)\n",
    "            else:\n",
    "                print('유효한 다트 점수가 아닙니다.')\n",
    "                        \n",
    "    elif step == 2: # 1.2. 2단계 보너스 처리\n",
    "        if target == 'S':#1.2.1 single\n",
    "            score[score_pos] = pow(score[score_pos],1)\n",
    "        elif target == 'D': #1.2.2 double\n",
    "            score[score_pos] = pow(score[score_pos],2)\n",
    "        elif target == 'T':#1.2.3 triple\n",
    "            score[score_pos] = pow(score[score_pos],3)\n",
    "        elif target == '0': #10점 처리\n",
    "            if score[score_pos] == 1:\n",
    "                score[score_pos] = 10\n",
    "                score_pos-=1\n",
    "                step+=1\n",
    "        else:\n",
    "            print('유효한 다트 점수가 아닙니다.')\n",
    "            \n",
    "        score_pos+=1\n",
    "        step-=1\n",
    "        \n",
    "    lenPos+=1"
   ]
  },
  {
   "cell_type": "code",
   "execution_count": 127,
   "metadata": {},
   "outputs": [
    {
     "name": "stdout",
     "output_type": "stream",
     "text": [
      "9\n"
     ]
    }
   ],
   "source": [
    "print(score[0]+score[1]+score[2])"
   ]
  },
  {
   "cell_type": "code",
   "execution_count": 105,
   "metadata": {},
   "outputs": [
    {
     "data": {
      "text/plain": [
       "'T'"
      ]
     },
     "execution_count": 105,
     "metadata": {},
     "output_type": "execute_result"
    }
   ],
   "source": [
    "target"
   ]
  },
  {
   "cell_type": "code",
   "execution_count": 117,
   "metadata": {},
   "outputs": [
    {
     "data": {
      "text/plain": [
       "[2, 8, 27]"
      ]
     },
     "execution_count": 117,
     "metadata": {},
     "output_type": "execute_result"
    }
   ],
   "source": [
    "score"
   ]
  },
  {
   "cell_type": "code",
   "execution_count": 112,
   "metadata": {},
   "outputs": [
    {
     "ename": "ValueError",
     "evalue": "invalid literal for int() with base 10: 'S'",
     "output_type": "error",
     "traceback": [
      "\u001b[0;31m---------------------------------------------------------------------------\u001b[0m",
      "\u001b[0;31mValueError\u001b[0m                                Traceback (most recent call last)",
      "\u001b[0;32m<ipython-input-112-6dae25624a95>\u001b[0m in \u001b[0;36m<module>\u001b[0;34m\u001b[0m\n\u001b[0;32m----> 1\u001b[0;31m \u001b[0mint\u001b[0m\u001b[0;34m(\u001b[0m\u001b[0mscanner\u001b[0m\u001b[0;34m[\u001b[0m\u001b[0;36m1\u001b[0m\u001b[0;34m]\u001b[0m\u001b[0;34m)\u001b[0m\u001b[0;34m\u001b[0m\u001b[0;34m\u001b[0m\u001b[0m\n\u001b[0m",
      "\u001b[0;31mValueError\u001b[0m: invalid literal for int() with base 10: 'S'"
     ]
    }
   ],
   "source": [
    "int(scanner[1])"
   ]
  },
  {
   "cell_type": "code",
   "execution_count": null,
   "metadata": {},
   "outputs": [],
   "source": []
  }
 ],
 "metadata": {
  "kernelspec": {
   "display_name": "Python 3",
   "language": "python",
   "name": "python3"
  },
  "language_info": {
   "codemirror_mode": {
    "name": "ipython",
    "version": 3
   },
   "file_extension": ".py",
   "mimetype": "text/x-python",
   "name": "python",
   "nbconvert_exporter": "python",
   "pygments_lexer": "ipython3",
   "version": "3.7.4"
  }
 },
 "nbformat": 4,
 "nbformat_minor": 2
}
