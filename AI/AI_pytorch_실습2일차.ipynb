{
 "cells": [
  {
   "cell_type": "markdown",
   "metadata": {},
   "source": [
    "# Linear Regression\n",
    "\n",
    "(preliminary: Linear Model)\n",
    "\n",
    "1. Library and Data, Preprocessing\n",
    "\n",
    "2. Compute W and b with 3 methods\n",
    "\n",
    "3. [Advanced] Regularization: Ridge, Lasso"
   ]
  },
  {
   "cell_type": "markdown",
   "metadata": {},
   "source": [
    "## Least square regression\n",
    "\n",
    "1. 해석적으로 문제플 푼다\n",
    "\n",
    "\n",
    "(y-y')^2 , where y' = wx + b\n",
    "\n",
    "(y-wx-b)^2\n",
    "\n",
    "w = closed form formula\n",
    "\n",
    "loss식을 0으로 만드는 점을 직접 찾을 수 있다.\n",
    "\n",
    "2. 수치적으로 문제를 푼다\n",
    "\n",
    "\n",
    "gradient 최적화\n"
   ]
  },
  {
   "cell_type": "markdown",
   "metadata": {},
   "source": [
    "# Library"
   ]
  },
  {
   "cell_type": "code",
   "execution_count": 4,
   "metadata": {},
   "outputs": [],
   "source": [
    "import numpy as np\n",
    "from sklearn.linear_model import LinearRegression\n",
    "from matplotlib import pyplot as plt\n",
    "\n",
    "import torch\n",
    "import torch.nn as nn # for neural network models\n",
    "import torch.optim as optim # for optimization\n",
    "import torch.nn.init as init # for initialization"
   ]
  },
  {
   "cell_type": "markdown",
   "metadata": {},
   "source": [
    "# simple data"
   ]
  },
  {
   "cell_type": "code",
   "execution_count": 5,
   "metadata": {},
   "outputs": [
    {
     "data": {
      "image/png": "[encoded data removed]",
      "text/plain": [
       "<Figure size 432x288 with 1 Axes>"
      ]
     },
     "metadata": {
      "needs_background": "light"
     },
     "output_type": "display_data"
    }
   ],
   "source": [
    "plt.figure()\n",
    "\n",
    "# true data\n",
    "N = 40\n",
    "X = np.linspace(-np.pi/2, np.pi/2, N).reshape(N,1) #40*1\n",
    "y = np.sin(X)\n",
    "plt.plot(X,y)\n",
    "\n",
    "#add noise\n",
    "y += 0.1*np.random.randn(N,1) #40*1\n",
    "\n",
    "plt.scatter(X,y)\n",
    "plt.title('since wave data')\n",
    "plt.show()"
   ]
  },
  {
   "cell_type": "markdown",
   "metadata": {},
   "source": [
    "# Make feature"
   ]
  },
  {
   "cell_type": "code",
   "execution_count": 6,
   "metadata": {},
   "outputs": [
    {
     "name": "stdout",
     "output_type": "stream",
     "text": [
      "PHI.shape:  (40, 2)\n",
      "PHI[:3]\n",
      " [[ 1.         -1.57079633]\n",
      " [ 1.         -1.49024267]\n",
      " [ 1.         -1.40968901]]\n"
     ]
    }
   ],
   "source": [
    "n_feature = 2\n",
    "\n",
    "PHI = np.ones(X.shape[0]).reshape(-1,1) #40*1\n",
    "for i in range(1, n_feature):\n",
    "    PHI = np.concatenate((PHI, np.power(X,i)), axis = 1)\n",
    "print('PHI.shape: ', PHI.shape) #40*2\n",
    "print('PHI[:3]\\n', PHI[:3])\n",
    "\n",
    "#shuffle\n",
    "idx = np.random.permutation(N)\n",
    "shuffle_X = X[idx]\n",
    "shuffle_PHI = PHI[idx]\n",
    "shuffle_y = y[idx]"
   ]
  },
  {
   "cell_type": "markdown",
   "metadata": {},
   "source": [
    "# Split train / test dataset"
   ]
  },
  {
   "cell_type": "code",
   "execution_count": 7,
   "metadata": {},
   "outputs": [
    {
     "name": "stdout",
     "output_type": "stream",
     "text": [
      "[[ 1.         -1.16802804]\n",
      " [ 1.          1.16802804]\n",
      " [ 1.          0.2819378 ]\n",
      " [ 1.         -0.60415243]\n",
      " [ 1.         -0.04027683]\n",
      " [ 1.         -0.44304512]\n",
      " [ 1.          0.12083049]\n",
      " [ 1.         -0.20138414]\n",
      " [ 1.          0.04027683]\n",
      " [ 1.         -0.76525975]\n",
      " [ 1.         -1.57079633]\n",
      " [ 1.         -0.52359878]\n",
      " [ 1.          0.52359878]\n",
      " [ 1.          0.76525975]\n",
      " [ 1.          1.57079633]\n",
      " [ 1.          0.60415243]\n",
      " [ 1.         -0.36249146]\n",
      " [ 1.          1.08747438]\n",
      " [ 1.         -1.49024267]\n",
      " [ 1.          0.44304512]]\n",
      "(20, 2)\n",
      "[[ 1.         -1.16802804]\n",
      " [ 1.          1.16802804]\n",
      " [ 1.          0.2819378 ]\n",
      " [ 1.         -0.60415243]\n",
      " [ 1.         -0.04027683]\n",
      " [ 1.         -0.44304512]\n",
      " [ 1.          0.12083049]\n",
      " [ 1.         -0.20138414]\n",
      " [ 1.          0.04027683]\n",
      " [ 1.         -0.76525975]\n",
      " [ 1.         -1.57079633]\n",
      " [ 1.         -0.52359878]\n",
      " [ 1.          0.52359878]\n",
      " [ 1.          0.76525975]\n",
      " [ 1.          1.57079633]\n",
      " [ 1.          0.60415243]\n",
      " [ 1.         -0.36249146]\n",
      " [ 1.          1.08747438]\n",
      " [ 1.         -1.49024267]\n",
      " [ 1.          0.44304512]\n",
      " [ 1.         -0.2819378 ]\n",
      " [ 1.          0.36249146]\n",
      " [ 1.          0.92636706]\n",
      " [ 1.          0.68470609]\n",
      " [ 1.         -1.32913535]\n",
      " [ 1.         -1.2485817 ]\n",
      " [ 1.          1.00692072]\n",
      " [ 1.         -0.92636706]\n",
      " [ 1.          0.20138414]\n",
      " [ 1.          1.2485817 ]\n",
      " [ 1.         -0.12083049]\n",
      " [ 1.          1.49024267]\n",
      " [ 1.         -1.00692072]\n",
      " [ 1.         -1.40968901]\n",
      " [ 1.         -1.08747438]\n",
      " [ 1.          1.40968901]\n",
      " [ 1.          1.32913535]\n",
      " [ 1.         -0.68470609]\n",
      " [ 1.         -0.84581341]\n",
      " [ 1.          0.84581341]]\n",
      "(40, 2)\n"
     ]
    }
   ],
   "source": [
    "n = N-20\n",
    "\n",
    "#train data\n",
    "X_train = shuffle_X[:n]\n",
    "PHI_train = shuffle_PHI[:n]\n",
    "y_train = shuffle_y[:n]\n",
    "\n",
    "print(PHI_train)\n",
    "print(PHI_train.shape)\n",
    "\n",
    "#test data\n",
    "X_test = shuffle_X[:]\n",
    "PHI_test = shuffle_PHI[:]\n",
    "y_test = shuffle_y[:]\n",
    "\n",
    "print(PHI_test)\n",
    "print(PHI_test.shape)"
   ]
  },
  {
   "cell_type": "code",
   "execution_count": 9,
   "metadata": {},
   "outputs": [
    {
     "data": {
      "text/plain": [
       "Text(0.5, 1.0, 'since wave test data')"
      ]
     },
     "execution_count": 9,
     "metadata": {},
     "output_type": "execute_result"
    },
    {
     "data": {
      "image/png": "[encoded data removed]",
      "text/plain": [
       "<Figure size 432x288 with 1 Axes>"
      ]
     },
     "metadata": {
      "needs_background": "light"
     },
     "output_type": "display_data"
    },
    {
     "data": {
      "image/png": "[encoded data removed]",
      "text/plain": [
       "<Figure size 432x288 with 1 Axes>"
      ]
     },
     "metadata": {
      "needs_background": "light"
     },
     "output_type": "display_data"
    }
   ],
   "source": [
    "#plot\n",
    "plt.figure()\n",
    "plt.scatter(X_train, y_train, label = 'train')\n",
    "plt.title('since wave train data')\n",
    "plt.show()\n",
    "\n",
    "#plot\n",
    "plt.figure()\n",
    "plt.scatter(X_test, y_test, label = 'test')\n",
    "plt.title('since wave test data')\n",
    "plt.show()"
   ]
  },
  {
   "cell_type": "markdown",
   "metadata": {},
   "source": [
    "# Linear Regression(Formula)\n",
    "\n",
    "## method 1: compute W and b with numpy"
   ]
  },
  {
   "cell_type": "code",
   "execution_count": 11,
   "metadata": {},
   "outputs": [
    {
     "name": "stdout",
     "output_type": "stream",
     "text": [
      "[b, W] = W_\n",
      "W_shape:  (2, 1)\n",
      "W_ \n",
      " [[-0.02699883]\n",
      " [ 0.75069478]]\n"
     ]
    }
   ],
   "source": [
    "#compute W_ with PHI_train\n",
    "W_ = np.linalg.inv(PHI_train.T @ PHI_train) @ PHI_train.T @ y_train\n",
    "print('[b, W] = W_')\n",
    "print('W_shape: ', W_.shape)\n",
    "print('W_ \\n', W_)"
   ]
  },
  {
   "cell_type": "markdown",
   "metadata": {},
   "source": [
    "y = wx + b"
   ]
  },
  {
   "cell_type": "code",
   "execution_count": 14,
   "metadata": {},
   "outputs": [
    {
     "data": {
      "image/png": "[encoded data removed]",
      "text/plain": [
       "<Figure size 432x288 with 1 Axes>"
      ]
     },
     "metadata": {
      "needs_background": "light"
     },
     "output_type": "display_data"
    },
    {
     "data": {
      "image/png": "[encoded data removed]",
      "text/plain": [
       "<Figure size 432x288 with 1 Axes>"
      ]
     },
     "metadata": {
      "needs_background": "light"
     },
     "output_type": "display_data"
    }
   ],
   "source": [
    "plt.figure()\n",
    "plt.scatter(X_train, PHI_train @ W_, label= 'pred')\n",
    "plt.scatter(X_train, y_train, label = 'target')\n",
    "plt.title('train data')\n",
    "plt.show()\n",
    "\n",
    "plt.figure()\n",
    "plt.scatter(X_test, PHI_test @ W_, label= 'pred')\n",
    "plt.scatter(X_test, y_test, label = 'target')\n",
    "plt.title('test data')\n",
    "plt.show()"
   ]
  },
  {
   "cell_type": "markdown",
   "metadata": {},
   "source": [
    "# Linear Regression(Formula)\n",
    "\n",
    "## method 2: compute W and b with sklearn library"
   ]
  },
  {
   "cell_type": "code",
   "execution_count": 16,
   "metadata": {},
   "outputs": [
    {
     "name": "stdout",
     "output_type": "stream",
     "text": [
      "b:  [-0.02699883]\n",
      "W:  [[0.75069478]]\n"
     ]
    }
   ],
   "source": [
    "reg = LinearRegression()\n",
    "reg.fit(X_train, y_train)\n",
    "\n",
    "print('b: ',reg.intercept_ )\n",
    "print('W: ',reg.coef_)"
   ]
  },
  {
   "cell_type": "code",
   "execution_count": 17,
   "metadata": {},
   "outputs": [
    {
     "data": {
      "image/png": "[encoded data removed]",
      "text/plain": [
       "<Figure size 432x288 with 1 Axes>"
      ]
     },
     "metadata": {
      "needs_background": "light"
     },
     "output_type": "display_data"
    },
    {
     "data": {
      "image/png": "[encoded data removed]",
      "text/plain": [
       "<Figure size 432x288 with 1 Axes>"
      ]
     },
     "metadata": {
      "needs_background": "light"
     },
     "output_type": "display_data"
    }
   ],
   "source": [
    "plt.figure()\n",
    "plt.scatter(X_train, reg.predict(X_train), label= 'pred')\n",
    "plt.scatter(X_train, y_train, label = 'target')\n",
    "plt.title('train data')\n",
    "plt.show()\n",
    "\n",
    "plt.figure()\n",
    "plt.scatter(X_test, reg.predict(X_test), label= 'pred')\n",
    "plt.scatter(X_test, y_test, label = 'target')\n",
    "plt.title('test data')\n",
    "plt.show()"
   ]
  },
  {
   "cell_type": "code",
   "execution_count": null,
   "metadata": {},
   "outputs": [],
   "source": []
  }
 ],
 "metadata": {
  "kernelspec": {
   "display_name": "Pytorch",
   "language": "python",
   "name": "pytorch"
  },
  "language_info": {
   "codemirror_mode": {
    "name": "ipython",
    "version": 3
   },
   "file_extension": ".py",
   "mimetype": "text/x-python",
   "name": "python",
   "nbconvert_exporter": "python",
   "pygments_lexer": "ipython3",
   "version": "3.8.2"
  }
 },
 "nbformat": 4,
 "nbformat_minor": 4
}
