{
 "cells": [
  {
   "cell_type": "markdown",
   "metadata": {},
   "source": [
    "# 과제실습 3 딕셔너리 - 실습1"
   ]
  },
  {
   "cell_type": "code",
   "execution_count": 1,
   "metadata": {},
   "outputs": [
    {
     "name": "stdout",
     "output_type": "stream",
     "text": [
      "1 2 10 "
     ]
    }
   ],
   "source": [
    "d = {'youn':1, 'park':2, 'kim':10}\n",
    "\n",
    "for i in d.values():\n",
    "    print(i, end= ' ')"
   ]
  },
  {
   "cell_type": "markdown",
   "metadata": {},
   "source": [
    "# 실습2"
   ]
  },
  {
   "cell_type": "code",
   "execution_count": 2,
   "metadata": {},
   "outputs": [],
   "source": [
    "d = {'one':1,'two':2, 'three':3, 'four':4, 'five':5}"
   ]
  },
  {
   "cell_type": "code",
   "execution_count": 3,
   "metadata": {
    "scrolled": true
   },
   "outputs": [
    {
     "name": "stdout",
     "output_type": "stream",
     "text": [
      "five 5\n",
      "four 4\n",
      "one 1\n",
      "three 3\n",
      "two 2\n"
     ]
    }
   ],
   "source": [
    "for i in sorted(d):\n",
    "    print(i, d[i])"
   ]
  },
  {
   "cell_type": "markdown",
   "metadata": {},
   "source": [
    "# 실습3"
   ]
  },
  {
   "cell_type": "code",
   "execution_count": 8,
   "metadata": {},
   "outputs": [
    {
     "name": "stdout",
     "output_type": "stream",
     "text": [
      "Enter a sentence:Python is fun!\n"
     ]
    }
   ],
   "source": [
    "S = input(\"Enter a sentence:\")\n",
    "D = {}\n",
    "for i in set(S) :\n",
    "     D[i] = S.count(i)\n"
   ]
  },
  {
   "cell_type": "code",
   "execution_count": 9,
   "metadata": {},
   "outputs": [
    {
     "name": "stdout",
     "output_type": "stream",
     "text": [
      "{'h': 1, 'o': 1, 'f': 1, 'n': 2, 't': 1, 's': 1, 'y': 1, 'i': 1, '!': 1, 'P': 1, ' ': 2, 'u': 1}\n"
     ]
    }
   ],
   "source": [
    "print(D)"
   ]
  },
  {
   "cell_type": "markdown",
   "metadata": {},
   "source": [
    "# 과제실습 4 파일 - 실습1"
   ]
  },
  {
   "cell_type": "code",
   "execution_count": 10,
   "metadata": {},
   "outputs": [
    {
     "name": "stdout",
     "output_type": "stream",
     "text": [
      "line 3\n",
      "third 1\n",
      "first 1\n",
      "second 1\n"
     ]
    }
   ],
   "source": [
    "f = open(\"test.txt\", \"r\")\n",
    "data = f.read()\n",
    "d = {}\n",
    "for i in set(data.split()):\n",
    "    d[i] = data.split().count(i)\n",
    "\n",
    "for j,k in d.items():\n",
    "    print(j,k)"
   ]
  },
  {
   "cell_type": "markdown",
   "metadata": {},
   "source": [
    "# 실습2"
   ]
  },
  {
   "cell_type": "code",
   "execution_count": 11,
   "metadata": {},
   "outputs": [
    {
     "name": "stdout",
     "output_type": "stream",
     "text": [
      "Enter a file name:test.txt\n",
      "FIRST LINE\n",
      "SECOND LINE\n",
      "THIRD LINE\n"
     ]
    }
   ],
   "source": [
    "f = input(\"Enter a file name:\")\n",
    "data = open(f, 'r')\n",
    "print(data.read().upper())"
   ]
  },
  {
   "cell_type": "markdown",
   "metadata": {},
   "source": [
    "# 실습4"
   ]
  },
  {
   "cell_type": "code",
   "execution_count": 90,
   "metadata": {},
   "outputs": [],
   "source": [
    "score = open(\"score.txt\",\"r\")\n",
    "\n",
    "report = open(\"report.txt\", \"w\")\n",
    "\n",
    "for line in score:\n",
    "    Id,m,f  = line.split()\n",
    "    avg = int(m)*0.4+int(f)*0.6\n",
    "    s = ''\n",
    "    if avg >= 90 :\n",
    "        s = \"A\"\n",
    "    elif avg >=80 and avg <90:\n",
    "        s = \"B\"\n",
    "    elif avg >=70 and avg <80:\n",
    "        s = \"C\"\n",
    "    elif avg >=60 and avg <70:\n",
    "        s = \"D\"\n",
    "    else:\n",
    "        s = \"F\"\n",
    "    data = \"%s %s %s %.1f(%s)\\n\" %(Id, m, f, avg,s)\n",
    "    report.write(data)\n",
    "\n",
    "report.close()"
   ]
  },
  {
   "cell_type": "markdown",
   "metadata": {},
   "source": [
    "# Pythonic Code - 실습1"
   ]
  },
  {
   "cell_type": "code",
   "execution_count": 25,
   "metadata": {},
   "outputs": [
    {
     "name": "stdout",
     "output_type": "stream",
     "text": [
      "{'one': 1, 'two': 2, 'three': 3, 'four': 4}\n"
     ]
    }
   ],
   "source": [
    "L1 = ['one','two','three','four']\n",
    "L2 = [1,2,3,4]\n",
    "ls = list(zip(L1,L2))\n",
    "d  = {}\n",
    "for i,j in ls :\n",
    "    d[i] = j\n",
    "    \n",
    "print(d)"
   ]
  }
 ],
 "metadata": {
  "kernelspec": {
   "display_name": "Python 3",
   "language": "python",
   "name": "python3"
  },
  "language_info": {
   "codemirror_mode": {
    "name": "ipython",
    "version": 3
   },
   "file_extension": ".py",
   "mimetype": "text/x-python",
   "name": "python",
   "nbconvert_exporter": "python",
   "pygments_lexer": "ipython3",
   "version": "3.7.4"
  }
 },
 "nbformat": 4,
 "nbformat_minor": 2
}
