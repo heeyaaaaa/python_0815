{
 "cells": [
  {
   "cell_type": "code",
   "execution_count": 1,
   "metadata": {},
   "outputs": [],
   "source": [
    "import numpy as np\n",
    "from scipy import stats\n",
    "import scipy.stats\n",
    "import pandas as pd\n",
    "import statsmodels.api as sm\n",
    "\n",
    "import matplotlib.pyplot as plt\n",
    "import matplotlib\n",
    "matplotlib.rc('axes',unicode_minus = False)\n",
    "\n",
    "\n",
    "\n",
    "import seaborn as sns\n",
    "from statsmodels.stats.proportion import proportions_ztest"
   ]
  },
  {
   "cell_type": "code",
   "execution_count": 2,
   "metadata": {
    "scrolled": true
   },
   "outputs": [
    {
     "data": {
      "image/png": "[encoded data removed]",
      "text/plain": [
       "<Figure size 432x288 with 1 Axes>"
      ]
     },
     "metadata": {
      "needs_background": "light"
     },
     "output_type": "display_data"
    }
   ],
   "source": [
    "# path = fm.FontProperties(fname = font_location)\n",
    "data = np.random.randint(-100, 100, 50).cumsum()\n",
    "plt.title('가격변동 추이')\n",
    "plt.plot(range(50), data, 'r')\n",
    "plt.ylabel('가격')\n",
    "plt.show()"
   ]
  },
  {
   "cell_type": "markdown",
   "metadata": {},
   "source": [
    "# 기술통계"
   ]
  },
  {
   "cell_type": "code",
   "execution_count": 5,
   "metadata": {},
   "outputs": [],
   "source": [
    "ds_mycars = pd.read_csv(\"mycars.csv\", engine = \"python\")"
   ]
  },
  {
   "cell_type": "code",
   "execution_count": 6,
   "metadata": {},
   "outputs": [
    {
     "data": {
      "text/html": [
       "<div>\n",
       "<style scoped>\n",
       "    .dataframe tbody tr th:only-of-type {\n",
       "        vertical-align: middle;\n",
       "    }\n",
       "\n",
       "    .dataframe tbody tr th {\n",
       "        vertical-align: top;\n",
       "    }\n",
       "\n",
       "    .dataframe thead th {\n",
       "        text-align: right;\n",
       "    }\n",
       "</style>\n",
       "<table border=\"1\" class=\"dataframe\">\n",
       "  <thead>\n",
       "    <tr style=\"text-align: right;\">\n",
       "      <th></th>\n",
       "      <th>manufacturer</th>\n",
       "      <th>model</th>\n",
       "      <th>displacement</th>\n",
       "      <th>year</th>\n",
       "      <th>cylinder</th>\n",
       "      <th>automatic</th>\n",
       "      <th>driving</th>\n",
       "      <th>mpg</th>\n",
       "      <th>highway_mileage</th>\n",
       "      <th>fuel</th>\n",
       "      <th>class</th>\n",
       "    </tr>\n",
       "  </thead>\n",
       "  <tbody>\n",
       "    <tr>\n",
       "      <td>0</td>\n",
       "      <td>audi</td>\n",
       "      <td>a4</td>\n",
       "      <td>1.8</td>\n",
       "      <td>1999</td>\n",
       "      <td>4</td>\n",
       "      <td>auto</td>\n",
       "      <td>f</td>\n",
       "      <td>18</td>\n",
       "      <td>29</td>\n",
       "      <td>p</td>\n",
       "      <td>compact</td>\n",
       "    </tr>\n",
       "    <tr>\n",
       "      <td>1</td>\n",
       "      <td>audi</td>\n",
       "      <td>a4</td>\n",
       "      <td>1.8</td>\n",
       "      <td>1999</td>\n",
       "      <td>4</td>\n",
       "      <td>manual</td>\n",
       "      <td>f</td>\n",
       "      <td>21</td>\n",
       "      <td>29</td>\n",
       "      <td>p</td>\n",
       "      <td>compact</td>\n",
       "    </tr>\n",
       "    <tr>\n",
       "      <td>2</td>\n",
       "      <td>audi</td>\n",
       "      <td>a4</td>\n",
       "      <td>2.0</td>\n",
       "      <td>2008</td>\n",
       "      <td>4</td>\n",
       "      <td>manual</td>\n",
       "      <td>f</td>\n",
       "      <td>20</td>\n",
       "      <td>31</td>\n",
       "      <td>p</td>\n",
       "      <td>compact</td>\n",
       "    </tr>\n",
       "    <tr>\n",
       "      <td>3</td>\n",
       "      <td>audi</td>\n",
       "      <td>a4</td>\n",
       "      <td>2.0</td>\n",
       "      <td>2008</td>\n",
       "      <td>4</td>\n",
       "      <td>auto</td>\n",
       "      <td>f</td>\n",
       "      <td>21</td>\n",
       "      <td>30</td>\n",
       "      <td>p</td>\n",
       "      <td>compact</td>\n",
       "    </tr>\n",
       "    <tr>\n",
       "      <td>4</td>\n",
       "      <td>audi</td>\n",
       "      <td>a4</td>\n",
       "      <td>2.8</td>\n",
       "      <td>1999</td>\n",
       "      <td>6</td>\n",
       "      <td>auto</td>\n",
       "      <td>f</td>\n",
       "      <td>16</td>\n",
       "      <td>26</td>\n",
       "      <td>p</td>\n",
       "      <td>compact</td>\n",
       "    </tr>\n",
       "  </tbody>\n",
       "</table>\n",
       "</div>"
      ],
      "text/plain": [
       "  manufacturer model  displacement  year  cylinder automatic driving  mpg  \\\n",
       "0         audi    a4           1.8  1999         4      auto       f   18   \n",
       "1         audi    a4           1.8  1999         4    manual       f   21   \n",
       "2         audi    a4           2.0  2008         4    manual       f   20   \n",
       "3         audi    a4           2.0  2008         4      auto       f   21   \n",
       "4         audi    a4           2.8  1999         6      auto       f   16   \n",
       "\n",
       "   highway_mileage fuel    class  \n",
       "0               29    p  compact  \n",
       "1               29    p  compact  \n",
       "2               31    p  compact  \n",
       "3               30    p  compact  \n",
       "4               26    p  compact  "
      ]
     },
     "execution_count": 6,
     "metadata": {},
     "output_type": "execute_result"
    }
   ],
   "source": [
    "ds_mycars.head()"
   ]
  },
  {
   "cell_type": "code",
   "execution_count": 7,
   "metadata": {},
   "outputs": [
    {
     "data": {
      "text/html": [
       "<div>\n",
       "<style scoped>\n",
       "    .dataframe tbody tr th:only-of-type {\n",
       "        vertical-align: middle;\n",
       "    }\n",
       "\n",
       "    .dataframe tbody tr th {\n",
       "        vertical-align: top;\n",
       "    }\n",
       "\n",
       "    .dataframe thead th {\n",
       "        text-align: right;\n",
       "    }\n",
       "</style>\n",
       "<table border=\"1\" class=\"dataframe\">\n",
       "  <thead>\n",
       "    <tr style=\"text-align: right;\">\n",
       "      <th></th>\n",
       "      <th>displacement</th>\n",
       "      <th>year</th>\n",
       "      <th>cylinder</th>\n",
       "      <th>mpg</th>\n",
       "      <th>highway_mileage</th>\n",
       "    </tr>\n",
       "  </thead>\n",
       "  <tbody>\n",
       "    <tr>\n",
       "      <td>count</td>\n",
       "      <td>234.000</td>\n",
       "      <td>234.00</td>\n",
       "      <td>234.000</td>\n",
       "      <td>234.000</td>\n",
       "      <td>234.000</td>\n",
       "    </tr>\n",
       "    <tr>\n",
       "      <td>mean</td>\n",
       "      <td>3.472</td>\n",
       "      <td>2003.50</td>\n",
       "      <td>5.889</td>\n",
       "      <td>16.859</td>\n",
       "      <td>23.440</td>\n",
       "    </tr>\n",
       "    <tr>\n",
       "      <td>std</td>\n",
       "      <td>1.292</td>\n",
       "      <td>4.51</td>\n",
       "      <td>1.612</td>\n",
       "      <td>4.256</td>\n",
       "      <td>5.955</td>\n",
       "    </tr>\n",
       "    <tr>\n",
       "      <td>min</td>\n",
       "      <td>1.600</td>\n",
       "      <td>1999.00</td>\n",
       "      <td>4.000</td>\n",
       "      <td>9.000</td>\n",
       "      <td>12.000</td>\n",
       "    </tr>\n",
       "    <tr>\n",
       "      <td>25%</td>\n",
       "      <td>2.400</td>\n",
       "      <td>1999.00</td>\n",
       "      <td>4.000</td>\n",
       "      <td>14.000</td>\n",
       "      <td>18.000</td>\n",
       "    </tr>\n",
       "    <tr>\n",
       "      <td>50%</td>\n",
       "      <td>3.300</td>\n",
       "      <td>2003.50</td>\n",
       "      <td>6.000</td>\n",
       "      <td>17.000</td>\n",
       "      <td>24.000</td>\n",
       "    </tr>\n",
       "    <tr>\n",
       "      <td>75%</td>\n",
       "      <td>4.600</td>\n",
       "      <td>2008.00</td>\n",
       "      <td>8.000</td>\n",
       "      <td>19.000</td>\n",
       "      <td>27.000</td>\n",
       "    </tr>\n",
       "    <tr>\n",
       "      <td>max</td>\n",
       "      <td>7.000</td>\n",
       "      <td>2008.00</td>\n",
       "      <td>8.000</td>\n",
       "      <td>35.000</td>\n",
       "      <td>44.000</td>\n",
       "    </tr>\n",
       "  </tbody>\n",
       "</table>\n",
       "</div>"
      ],
      "text/plain": [
       "       displacement     year  cylinder      mpg  highway_mileage\n",
       "count       234.000   234.00   234.000  234.000          234.000\n",
       "mean          3.472  2003.50     5.889   16.859           23.440\n",
       "std           1.292     4.51     1.612    4.256            5.955\n",
       "min           1.600  1999.00     4.000    9.000           12.000\n",
       "25%           2.400  1999.00     4.000   14.000           18.000\n",
       "50%           3.300  2003.50     6.000   17.000           24.000\n",
       "75%           4.600  2008.00     8.000   19.000           27.000\n",
       "max           7.000  2008.00     8.000   35.000           44.000"
      ]
     },
     "execution_count": 7,
     "metadata": {},
     "output_type": "execute_result"
    }
   ],
   "source": [
    "ds_mycars.describe().round(3)"
   ]
  },
  {
   "cell_type": "code",
   "execution_count": 8,
   "metadata": {},
   "outputs": [],
   "source": [
    "df = ds_mycars[['model','mpg']]"
   ]
  },
  {
   "cell_type": "code",
   "execution_count": 9,
   "metadata": {},
   "outputs": [
    {
     "data": {
      "text/html": [
       "<div>\n",
       "<style scoped>\n",
       "    .dataframe tbody tr th:only-of-type {\n",
       "        vertical-align: middle;\n",
       "    }\n",
       "\n",
       "    .dataframe tbody tr th {\n",
       "        vertical-align: top;\n",
       "    }\n",
       "\n",
       "    .dataframe thead tr th {\n",
       "        text-align: left;\n",
       "    }\n",
       "\n",
       "    .dataframe thead tr:last-of-type th {\n",
       "        text-align: right;\n",
       "    }\n",
       "</style>\n",
       "<table border=\"1\" class=\"dataframe\">\n",
       "  <thead>\n",
       "    <tr>\n",
       "      <th></th>\n",
       "      <th colspan=\"8\" halign=\"left\">mpg</th>\n",
       "    </tr>\n",
       "    <tr>\n",
       "      <th></th>\n",
       "      <th>count</th>\n",
       "      <th>mean</th>\n",
       "      <th>std</th>\n",
       "      <th>min</th>\n",
       "      <th>25%</th>\n",
       "      <th>50%</th>\n",
       "      <th>75%</th>\n",
       "      <th>max</th>\n",
       "    </tr>\n",
       "    <tr>\n",
       "      <th>model</th>\n",
       "      <th></th>\n",
       "      <th></th>\n",
       "      <th></th>\n",
       "      <th></th>\n",
       "      <th></th>\n",
       "      <th></th>\n",
       "      <th></th>\n",
       "      <th></th>\n",
       "    </tr>\n",
       "  </thead>\n",
       "  <tbody>\n",
       "    <tr>\n",
       "      <td>4runner 4wd</td>\n",
       "      <td>6.0</td>\n",
       "      <td>15.166667</td>\n",
       "      <td>0.752773</td>\n",
       "      <td>14.0</td>\n",
       "      <td>15.00</td>\n",
       "      <td>15.0</td>\n",
       "      <td>15.75</td>\n",
       "      <td>16.0</td>\n",
       "    </tr>\n",
       "    <tr>\n",
       "      <td>a4</td>\n",
       "      <td>7.0</td>\n",
       "      <td>18.857143</td>\n",
       "      <td>1.864454</td>\n",
       "      <td>16.0</td>\n",
       "      <td>18.00</td>\n",
       "      <td>18.0</td>\n",
       "      <td>20.50</td>\n",
       "      <td>21.0</td>\n",
       "    </tr>\n",
       "    <tr>\n",
       "      <td>a4 quattro</td>\n",
       "      <td>8.0</td>\n",
       "      <td>17.125000</td>\n",
       "      <td>1.807722</td>\n",
       "      <td>15.0</td>\n",
       "      <td>15.75</td>\n",
       "      <td>17.0</td>\n",
       "      <td>18.25</td>\n",
       "      <td>20.0</td>\n",
       "    </tr>\n",
       "    <tr>\n",
       "      <td>a6 quattro</td>\n",
       "      <td>3.0</td>\n",
       "      <td>16.000000</td>\n",
       "      <td>1.000000</td>\n",
       "      <td>15.0</td>\n",
       "      <td>15.50</td>\n",
       "      <td>16.0</td>\n",
       "      <td>16.50</td>\n",
       "      <td>17.0</td>\n",
       "    </tr>\n",
       "    <tr>\n",
       "      <td>altima</td>\n",
       "      <td>6.0</td>\n",
       "      <td>20.666667</td>\n",
       "      <td>1.966384</td>\n",
       "      <td>19.0</td>\n",
       "      <td>19.00</td>\n",
       "      <td>20.0</td>\n",
       "      <td>22.50</td>\n",
       "      <td>23.0</td>\n",
       "    </tr>\n",
       "    <tr>\n",
       "      <td>c1500 suburban 2wd</td>\n",
       "      <td>5.0</td>\n",
       "      <td>12.800000</td>\n",
       "      <td>1.303840</td>\n",
       "      <td>11.0</td>\n",
       "      <td>12.00</td>\n",
       "      <td>13.0</td>\n",
       "      <td>14.00</td>\n",
       "      <td>14.0</td>\n",
       "    </tr>\n",
       "    <tr>\n",
       "      <td>camry</td>\n",
       "      <td>7.0</td>\n",
       "      <td>19.857143</td>\n",
       "      <td>1.463850</td>\n",
       "      <td>18.0</td>\n",
       "      <td>18.50</td>\n",
       "      <td>21.0</td>\n",
       "      <td>21.00</td>\n",
       "      <td>21.0</td>\n",
       "    </tr>\n",
       "    <tr>\n",
       "      <td>camry solara</td>\n",
       "      <td>7.0</td>\n",
       "      <td>19.857143</td>\n",
       "      <td>1.772811</td>\n",
       "      <td>18.0</td>\n",
       "      <td>18.00</td>\n",
       "      <td>21.0</td>\n",
       "      <td>21.00</td>\n",
       "      <td>22.0</td>\n",
       "    </tr>\n",
       "    <tr>\n",
       "      <td>caravan 2wd</td>\n",
       "      <td>11.0</td>\n",
       "      <td>15.818182</td>\n",
       "      <td>1.834022</td>\n",
       "      <td>11.0</td>\n",
       "      <td>15.50</td>\n",
       "      <td>16.0</td>\n",
       "      <td>17.00</td>\n",
       "      <td>18.0</td>\n",
       "    </tr>\n",
       "    <tr>\n",
       "      <td>civic</td>\n",
       "      <td>9.0</td>\n",
       "      <td>24.444444</td>\n",
       "      <td>1.943651</td>\n",
       "      <td>21.0</td>\n",
       "      <td>24.00</td>\n",
       "      <td>24.0</td>\n",
       "      <td>25.00</td>\n",
       "      <td>28.0</td>\n",
       "    </tr>\n",
       "    <tr>\n",
       "      <td>corolla</td>\n",
       "      <td>5.0</td>\n",
       "      <td>25.600000</td>\n",
       "      <td>1.673320</td>\n",
       "      <td>24.0</td>\n",
       "      <td>24.00</td>\n",
       "      <td>26.0</td>\n",
       "      <td>26.00</td>\n",
       "      <td>28.0</td>\n",
       "    </tr>\n",
       "    <tr>\n",
       "      <td>corvette</td>\n",
       "      <td>5.0</td>\n",
       "      <td>15.400000</td>\n",
       "      <td>0.547723</td>\n",
       "      <td>15.0</td>\n",
       "      <td>15.00</td>\n",
       "      <td>15.0</td>\n",
       "      <td>16.00</td>\n",
       "      <td>16.0</td>\n",
       "    </tr>\n",
       "    <tr>\n",
       "      <td>dakota pickup 4wd</td>\n",
       "      <td>9.0</td>\n",
       "      <td>12.777778</td>\n",
       "      <td>1.986063</td>\n",
       "      <td>9.0</td>\n",
       "      <td>11.00</td>\n",
       "      <td>14.0</td>\n",
       "      <td>14.00</td>\n",
       "      <td>15.0</td>\n",
       "    </tr>\n",
       "    <tr>\n",
       "      <td>durango 4wd</td>\n",
       "      <td>7.0</td>\n",
       "      <td>11.857143</td>\n",
       "      <td>1.573592</td>\n",
       "      <td>9.0</td>\n",
       "      <td>11.00</td>\n",
       "      <td>13.0</td>\n",
       "      <td>13.00</td>\n",
       "      <td>13.0</td>\n",
       "    </tr>\n",
       "    <tr>\n",
       "      <td>expedition 2wd</td>\n",
       "      <td>3.0</td>\n",
       "      <td>11.333333</td>\n",
       "      <td>0.577350</td>\n",
       "      <td>11.0</td>\n",
       "      <td>11.00</td>\n",
       "      <td>11.0</td>\n",
       "      <td>11.50</td>\n",
       "      <td>12.0</td>\n",
       "    </tr>\n",
       "    <tr>\n",
       "      <td>explorer 4wd</td>\n",
       "      <td>6.0</td>\n",
       "      <td>13.666667</td>\n",
       "      <td>0.816497</td>\n",
       "      <td>13.0</td>\n",
       "      <td>13.00</td>\n",
       "      <td>13.5</td>\n",
       "      <td>14.00</td>\n",
       "      <td>15.0</td>\n",
       "    </tr>\n",
       "    <tr>\n",
       "      <td>f150 pickup 4wd</td>\n",
       "      <td>7.0</td>\n",
       "      <td>13.000000</td>\n",
       "      <td>1.000000</td>\n",
       "      <td>11.0</td>\n",
       "      <td>13.00</td>\n",
       "      <td>13.0</td>\n",
       "      <td>13.50</td>\n",
       "      <td>14.0</td>\n",
       "    </tr>\n",
       "    <tr>\n",
       "      <td>forester awd</td>\n",
       "      <td>6.0</td>\n",
       "      <td>18.833333</td>\n",
       "      <td>0.983192</td>\n",
       "      <td>18.0</td>\n",
       "      <td>18.00</td>\n",
       "      <td>18.5</td>\n",
       "      <td>19.75</td>\n",
       "      <td>20.0</td>\n",
       "    </tr>\n",
       "    <tr>\n",
       "      <td>grand cherokee 4wd</td>\n",
       "      <td>8.0</td>\n",
       "      <td>13.500000</td>\n",
       "      <td>2.507133</td>\n",
       "      <td>9.0</td>\n",
       "      <td>12.50</td>\n",
       "      <td>14.0</td>\n",
       "      <td>15.00</td>\n",
       "      <td>17.0</td>\n",
       "    </tr>\n",
       "    <tr>\n",
       "      <td>grand prix</td>\n",
       "      <td>5.0</td>\n",
       "      <td>17.000000</td>\n",
       "      <td>1.000000</td>\n",
       "      <td>16.0</td>\n",
       "      <td>16.00</td>\n",
       "      <td>17.0</td>\n",
       "      <td>18.00</td>\n",
       "      <td>18.0</td>\n",
       "    </tr>\n",
       "    <tr>\n",
       "      <td>gti</td>\n",
       "      <td>5.0</td>\n",
       "      <td>20.000000</td>\n",
       "      <td>2.000000</td>\n",
       "      <td>17.0</td>\n",
       "      <td>19.00</td>\n",
       "      <td>21.0</td>\n",
       "      <td>21.00</td>\n",
       "      <td>22.0</td>\n",
       "    </tr>\n",
       "    <tr>\n",
       "      <td>impreza awd</td>\n",
       "      <td>8.0</td>\n",
       "      <td>19.625000</td>\n",
       "      <td>0.744024</td>\n",
       "      <td>19.0</td>\n",
       "      <td>19.00</td>\n",
       "      <td>19.5</td>\n",
       "      <td>20.00</td>\n",
       "      <td>21.0</td>\n",
       "    </tr>\n",
       "    <tr>\n",
       "      <td>jetta</td>\n",
       "      <td>9.0</td>\n",
       "      <td>21.222222</td>\n",
       "      <td>4.867694</td>\n",
       "      <td>16.0</td>\n",
       "      <td>19.00</td>\n",
       "      <td>21.0</td>\n",
       "      <td>21.00</td>\n",
       "      <td>33.0</td>\n",
       "    </tr>\n",
       "    <tr>\n",
       "      <td>k1500 tahoe 4wd</td>\n",
       "      <td>4.0</td>\n",
       "      <td>12.500000</td>\n",
       "      <td>1.732051</td>\n",
       "      <td>11.0</td>\n",
       "      <td>11.00</td>\n",
       "      <td>12.5</td>\n",
       "      <td>14.00</td>\n",
       "      <td>14.0</td>\n",
       "    </tr>\n",
       "    <tr>\n",
       "      <td>land cruiser wagon 4wd</td>\n",
       "      <td>2.0</td>\n",
       "      <td>12.000000</td>\n",
       "      <td>1.414214</td>\n",
       "      <td>11.0</td>\n",
       "      <td>11.50</td>\n",
       "      <td>12.0</td>\n",
       "      <td>12.50</td>\n",
       "      <td>13.0</td>\n",
       "    </tr>\n",
       "    <tr>\n",
       "      <td>malibu</td>\n",
       "      <td>5.0</td>\n",
       "      <td>18.800000</td>\n",
       "      <td>1.923538</td>\n",
       "      <td>17.0</td>\n",
       "      <td>18.00</td>\n",
       "      <td>18.0</td>\n",
       "      <td>19.00</td>\n",
       "      <td>22.0</td>\n",
       "    </tr>\n",
       "    <tr>\n",
       "      <td>maxima</td>\n",
       "      <td>3.0</td>\n",
       "      <td>18.666667</td>\n",
       "      <td>0.577350</td>\n",
       "      <td>18.0</td>\n",
       "      <td>18.50</td>\n",
       "      <td>19.0</td>\n",
       "      <td>19.00</td>\n",
       "      <td>19.0</td>\n",
       "    </tr>\n",
       "    <tr>\n",
       "      <td>mountaineer 4wd</td>\n",
       "      <td>4.0</td>\n",
       "      <td>13.250000</td>\n",
       "      <td>0.500000</td>\n",
       "      <td>13.0</td>\n",
       "      <td>13.00</td>\n",
       "      <td>13.0</td>\n",
       "      <td>13.25</td>\n",
       "      <td>14.0</td>\n",
       "    </tr>\n",
       "    <tr>\n",
       "      <td>mustang</td>\n",
       "      <td>9.0</td>\n",
       "      <td>15.888889</td>\n",
       "      <td>1.452966</td>\n",
       "      <td>14.0</td>\n",
       "      <td>15.00</td>\n",
       "      <td>15.0</td>\n",
       "      <td>17.00</td>\n",
       "      <td>18.0</td>\n",
       "    </tr>\n",
       "    <tr>\n",
       "      <td>navigator 2wd</td>\n",
       "      <td>3.0</td>\n",
       "      <td>11.333333</td>\n",
       "      <td>0.577350</td>\n",
       "      <td>11.0</td>\n",
       "      <td>11.00</td>\n",
       "      <td>11.0</td>\n",
       "      <td>11.50</td>\n",
       "      <td>12.0</td>\n",
       "    </tr>\n",
       "    <tr>\n",
       "      <td>new beetle</td>\n",
       "      <td>6.0</td>\n",
       "      <td>24.000000</td>\n",
       "      <td>6.511528</td>\n",
       "      <td>19.0</td>\n",
       "      <td>20.00</td>\n",
       "      <td>20.5</td>\n",
       "      <td>27.00</td>\n",
       "      <td>35.0</td>\n",
       "    </tr>\n",
       "    <tr>\n",
       "      <td>passat</td>\n",
       "      <td>7.0</td>\n",
       "      <td>18.571429</td>\n",
       "      <td>1.902379</td>\n",
       "      <td>16.0</td>\n",
       "      <td>17.50</td>\n",
       "      <td>18.0</td>\n",
       "      <td>20.00</td>\n",
       "      <td>21.0</td>\n",
       "    </tr>\n",
       "    <tr>\n",
       "      <td>pathfinder 4wd</td>\n",
       "      <td>4.0</td>\n",
       "      <td>13.750000</td>\n",
       "      <td>1.258306</td>\n",
       "      <td>12.0</td>\n",
       "      <td>13.50</td>\n",
       "      <td>14.0</td>\n",
       "      <td>14.25</td>\n",
       "      <td>15.0</td>\n",
       "    </tr>\n",
       "    <tr>\n",
       "      <td>ram 1500 pickup 4wd</td>\n",
       "      <td>10.0</td>\n",
       "      <td>11.400000</td>\n",
       "      <td>1.505545</td>\n",
       "      <td>9.0</td>\n",
       "      <td>11.00</td>\n",
       "      <td>11.5</td>\n",
       "      <td>12.75</td>\n",
       "      <td>13.0</td>\n",
       "    </tr>\n",
       "    <tr>\n",
       "      <td>range rover</td>\n",
       "      <td>4.0</td>\n",
       "      <td>11.500000</td>\n",
       "      <td>0.577350</td>\n",
       "      <td>11.0</td>\n",
       "      <td>11.00</td>\n",
       "      <td>11.5</td>\n",
       "      <td>12.00</td>\n",
       "      <td>12.0</td>\n",
       "    </tr>\n",
       "    <tr>\n",
       "      <td>sonata</td>\n",
       "      <td>7.0</td>\n",
       "      <td>19.000000</td>\n",
       "      <td>1.414214</td>\n",
       "      <td>18.0</td>\n",
       "      <td>18.00</td>\n",
       "      <td>18.0</td>\n",
       "      <td>20.00</td>\n",
       "      <td>21.0</td>\n",
       "    </tr>\n",
       "    <tr>\n",
       "      <td>tiburon</td>\n",
       "      <td>7.0</td>\n",
       "      <td>18.285714</td>\n",
       "      <td>1.603567</td>\n",
       "      <td>16.0</td>\n",
       "      <td>17.00</td>\n",
       "      <td>19.0</td>\n",
       "      <td>19.50</td>\n",
       "      <td>20.0</td>\n",
       "    </tr>\n",
       "    <tr>\n",
       "      <td>toyota tacoma 4wd</td>\n",
       "      <td>7.0</td>\n",
       "      <td>15.571429</td>\n",
       "      <td>0.786796</td>\n",
       "      <td>15.0</td>\n",
       "      <td>15.00</td>\n",
       "      <td>15.0</td>\n",
       "      <td>16.00</td>\n",
       "      <td>17.0</td>\n",
       "    </tr>\n",
       "  </tbody>\n",
       "</table>\n",
       "</div>"
      ],
      "text/plain": [
       "                         mpg                                                 \\\n",
       "                       count       mean       std   min    25%   50%    75%   \n",
       "model                                                                         \n",
       "4runner 4wd              6.0  15.166667  0.752773  14.0  15.00  15.0  15.75   \n",
       "a4                       7.0  18.857143  1.864454  16.0  18.00  18.0  20.50   \n",
       "a4 quattro               8.0  17.125000  1.807722  15.0  15.75  17.0  18.25   \n",
       "a6 quattro               3.0  16.000000  1.000000  15.0  15.50  16.0  16.50   \n",
       "altima                   6.0  20.666667  1.966384  19.0  19.00  20.0  22.50   \n",
       "c1500 suburban 2wd       5.0  12.800000  1.303840  11.0  12.00  13.0  14.00   \n",
       "camry                    7.0  19.857143  1.463850  18.0  18.50  21.0  21.00   \n",
       "camry solara             7.0  19.857143  1.772811  18.0  18.00  21.0  21.00   \n",
       "caravan 2wd             11.0  15.818182  1.834022  11.0  15.50  16.0  17.00   \n",
       "civic                    9.0  24.444444  1.943651  21.0  24.00  24.0  25.00   \n",
       "corolla                  5.0  25.600000  1.673320  24.0  24.00  26.0  26.00   \n",
       "corvette                 5.0  15.400000  0.547723  15.0  15.00  15.0  16.00   \n",
       "dakota pickup 4wd        9.0  12.777778  1.986063   9.0  11.00  14.0  14.00   \n",
       "durango 4wd              7.0  11.857143  1.573592   9.0  11.00  13.0  13.00   \n",
       "expedition 2wd           3.0  11.333333  0.577350  11.0  11.00  11.0  11.50   \n",
       "explorer 4wd             6.0  13.666667  0.816497  13.0  13.00  13.5  14.00   \n",
       "f150 pickup 4wd          7.0  13.000000  1.000000  11.0  13.00  13.0  13.50   \n",
       "forester awd             6.0  18.833333  0.983192  18.0  18.00  18.5  19.75   \n",
       "grand cherokee 4wd       8.0  13.500000  2.507133   9.0  12.50  14.0  15.00   \n",
       "grand prix               5.0  17.000000  1.000000  16.0  16.00  17.0  18.00   \n",
       "gti                      5.0  20.000000  2.000000  17.0  19.00  21.0  21.00   \n",
       "impreza awd              8.0  19.625000  0.744024  19.0  19.00  19.5  20.00   \n",
       "jetta                    9.0  21.222222  4.867694  16.0  19.00  21.0  21.00   \n",
       "k1500 tahoe 4wd          4.0  12.500000  1.732051  11.0  11.00  12.5  14.00   \n",
       "land cruiser wagon 4wd   2.0  12.000000  1.414214  11.0  11.50  12.0  12.50   \n",
       "malibu                   5.0  18.800000  1.923538  17.0  18.00  18.0  19.00   \n",
       "maxima                   3.0  18.666667  0.577350  18.0  18.50  19.0  19.00   \n",
       "mountaineer 4wd          4.0  13.250000  0.500000  13.0  13.00  13.0  13.25   \n",
       "mustang                  9.0  15.888889  1.452966  14.0  15.00  15.0  17.00   \n",
       "navigator 2wd            3.0  11.333333  0.577350  11.0  11.00  11.0  11.50   \n",
       "new beetle               6.0  24.000000  6.511528  19.0  20.00  20.5  27.00   \n",
       "passat                   7.0  18.571429  1.902379  16.0  17.50  18.0  20.00   \n",
       "pathfinder 4wd           4.0  13.750000  1.258306  12.0  13.50  14.0  14.25   \n",
       "ram 1500 pickup 4wd     10.0  11.400000  1.505545   9.0  11.00  11.5  12.75   \n",
       "range rover              4.0  11.500000  0.577350  11.0  11.00  11.5  12.00   \n",
       "sonata                   7.0  19.000000  1.414214  18.0  18.00  18.0  20.00   \n",
       "tiburon                  7.0  18.285714  1.603567  16.0  17.00  19.0  19.50   \n",
       "toyota tacoma 4wd        7.0  15.571429  0.786796  15.0  15.00  15.0  16.00   \n",
       "\n",
       "                              \n",
       "                         max  \n",
       "model                         \n",
       "4runner 4wd             16.0  \n",
       "a4                      21.0  \n",
       "a4 quattro              20.0  \n",
       "a6 quattro              17.0  \n",
       "altima                  23.0  \n",
       "c1500 suburban 2wd      14.0  \n",
       "camry                   21.0  \n",
       "camry solara            22.0  \n",
       "caravan 2wd             18.0  \n",
       "civic                   28.0  \n",
       "corolla                 28.0  \n",
       "corvette                16.0  \n",
       "dakota pickup 4wd       15.0  \n",
       "durango 4wd             13.0  \n",
       "expedition 2wd          12.0  \n",
       "explorer 4wd            15.0  \n",
       "f150 pickup 4wd         14.0  \n",
       "forester awd            20.0  \n",
       "grand cherokee 4wd      17.0  \n",
       "grand prix              18.0  \n",
       "gti                     22.0  \n",
       "impreza awd             21.0  \n",
       "jetta                   33.0  \n",
       "k1500 tahoe 4wd         14.0  \n",
       "land cruiser wagon 4wd  13.0  \n",
       "malibu                  22.0  \n",
       "maxima                  19.0  \n",
       "mountaineer 4wd         14.0  \n",
       "mustang                 18.0  \n",
       "navigator 2wd           12.0  \n",
       "new beetle              35.0  \n",
       "passat                  21.0  \n",
       "pathfinder 4wd          15.0  \n",
       "ram 1500 pickup 4wd     13.0  \n",
       "range rover             12.0  \n",
       "sonata                  21.0  \n",
       "tiburon                 20.0  \n",
       "toyota tacoma 4wd       17.0  "
      ]
     },
     "execution_count": 9,
     "metadata": {},
     "output_type": "execute_result"
    }
   ],
   "source": [
    "df.groupby('model').describe()"
   ]
  },
  {
   "cell_type": "code",
   "execution_count": 10,
   "metadata": {},
   "outputs": [
    {
     "data": {
      "text/html": [
       "<div>\n",
       "<style scoped>\n",
       "    .dataframe tbody tr th:only-of-type {\n",
       "        vertical-align: middle;\n",
       "    }\n",
       "\n",
       "    .dataframe tbody tr th {\n",
       "        vertical-align: top;\n",
       "    }\n",
       "\n",
       "    .dataframe thead tr th {\n",
       "        text-align: left;\n",
       "    }\n",
       "\n",
       "    .dataframe thead tr:last-of-type th {\n",
       "        text-align: right;\n",
       "    }\n",
       "</style>\n",
       "<table border=\"1\" class=\"dataframe\">\n",
       "  <thead>\n",
       "    <tr>\n",
       "      <th></th>\n",
       "      <th colspan=\"8\" halign=\"left\">mpg</th>\n",
       "    </tr>\n",
       "    <tr>\n",
       "      <th></th>\n",
       "      <th>count</th>\n",
       "      <th>mean</th>\n",
       "      <th>std</th>\n",
       "      <th>min</th>\n",
       "      <th>25%</th>\n",
       "      <th>50%</th>\n",
       "      <th>75%</th>\n",
       "      <th>max</th>\n",
       "    </tr>\n",
       "    <tr>\n",
       "      <th>manufacturer</th>\n",
       "      <th></th>\n",
       "      <th></th>\n",
       "      <th></th>\n",
       "      <th></th>\n",
       "      <th></th>\n",
       "      <th></th>\n",
       "      <th></th>\n",
       "      <th></th>\n",
       "    </tr>\n",
       "  </thead>\n",
       "  <tbody>\n",
       "    <tr>\n",
       "      <td>audi</td>\n",
       "      <td>18.0</td>\n",
       "      <td>17.611111</td>\n",
       "      <td>1.974511</td>\n",
       "      <td>15.0</td>\n",
       "      <td>16.0</td>\n",
       "      <td>17.5</td>\n",
       "      <td>18.75</td>\n",
       "      <td>21.0</td>\n",
       "    </tr>\n",
       "    <tr>\n",
       "      <td>chevrolet</td>\n",
       "      <td>19.0</td>\n",
       "      <td>15.000000</td>\n",
       "      <td>2.924988</td>\n",
       "      <td>11.0</td>\n",
       "      <td>13.5</td>\n",
       "      <td>15.0</td>\n",
       "      <td>16.50</td>\n",
       "      <td>22.0</td>\n",
       "    </tr>\n",
       "    <tr>\n",
       "      <td>dodge</td>\n",
       "      <td>37.0</td>\n",
       "      <td>13.135135</td>\n",
       "      <td>2.485091</td>\n",
       "      <td>9.0</td>\n",
       "      <td>11.0</td>\n",
       "      <td>13.0</td>\n",
       "      <td>15.00</td>\n",
       "      <td>18.0</td>\n",
       "    </tr>\n",
       "    <tr>\n",
       "      <td>ford</td>\n",
       "      <td>25.0</td>\n",
       "      <td>14.000000</td>\n",
       "      <td>1.914854</td>\n",
       "      <td>11.0</td>\n",
       "      <td>13.0</td>\n",
       "      <td>14.0</td>\n",
       "      <td>15.00</td>\n",
       "      <td>18.0</td>\n",
       "    </tr>\n",
       "    <tr>\n",
       "      <td>honda</td>\n",
       "      <td>9.0</td>\n",
       "      <td>24.444444</td>\n",
       "      <td>1.943651</td>\n",
       "      <td>21.0</td>\n",
       "      <td>24.0</td>\n",
       "      <td>24.0</td>\n",
       "      <td>25.00</td>\n",
       "      <td>28.0</td>\n",
       "    </tr>\n",
       "    <tr>\n",
       "      <td>hyundai</td>\n",
       "      <td>14.0</td>\n",
       "      <td>18.642857</td>\n",
       "      <td>1.499084</td>\n",
       "      <td>16.0</td>\n",
       "      <td>18.0</td>\n",
       "      <td>18.5</td>\n",
       "      <td>19.75</td>\n",
       "      <td>21.0</td>\n",
       "    </tr>\n",
       "    <tr>\n",
       "      <td>jeep</td>\n",
       "      <td>8.0</td>\n",
       "      <td>13.500000</td>\n",
       "      <td>2.507133</td>\n",
       "      <td>9.0</td>\n",
       "      <td>12.5</td>\n",
       "      <td>14.0</td>\n",
       "      <td>15.00</td>\n",
       "      <td>17.0</td>\n",
       "    </tr>\n",
       "    <tr>\n",
       "      <td>land rover</td>\n",
       "      <td>4.0</td>\n",
       "      <td>11.500000</td>\n",
       "      <td>0.577350</td>\n",
       "      <td>11.0</td>\n",
       "      <td>11.0</td>\n",
       "      <td>11.5</td>\n",
       "      <td>12.00</td>\n",
       "      <td>12.0</td>\n",
       "    </tr>\n",
       "    <tr>\n",
       "      <td>lincoln</td>\n",
       "      <td>3.0</td>\n",
       "      <td>11.333333</td>\n",
       "      <td>0.577350</td>\n",
       "      <td>11.0</td>\n",
       "      <td>11.0</td>\n",
       "      <td>11.0</td>\n",
       "      <td>11.50</td>\n",
       "      <td>12.0</td>\n",
       "    </tr>\n",
       "    <tr>\n",
       "      <td>mercury</td>\n",
       "      <td>4.0</td>\n",
       "      <td>13.250000</td>\n",
       "      <td>0.500000</td>\n",
       "      <td>13.0</td>\n",
       "      <td>13.0</td>\n",
       "      <td>13.0</td>\n",
       "      <td>13.25</td>\n",
       "      <td>14.0</td>\n",
       "    </tr>\n",
       "    <tr>\n",
       "      <td>nissan</td>\n",
       "      <td>13.0</td>\n",
       "      <td>18.076923</td>\n",
       "      <td>3.426892</td>\n",
       "      <td>12.0</td>\n",
       "      <td>15.0</td>\n",
       "      <td>19.0</td>\n",
       "      <td>19.00</td>\n",
       "      <td>23.0</td>\n",
       "    </tr>\n",
       "    <tr>\n",
       "      <td>pontiac</td>\n",
       "      <td>5.0</td>\n",
       "      <td>17.000000</td>\n",
       "      <td>1.000000</td>\n",
       "      <td>16.0</td>\n",
       "      <td>16.0</td>\n",
       "      <td>17.0</td>\n",
       "      <td>18.00</td>\n",
       "      <td>18.0</td>\n",
       "    </tr>\n",
       "    <tr>\n",
       "      <td>subaru</td>\n",
       "      <td>14.0</td>\n",
       "      <td>19.285714</td>\n",
       "      <td>0.913874</td>\n",
       "      <td>18.0</td>\n",
       "      <td>19.0</td>\n",
       "      <td>19.0</td>\n",
       "      <td>20.00</td>\n",
       "      <td>21.0</td>\n",
       "    </tr>\n",
       "    <tr>\n",
       "      <td>toyota</td>\n",
       "      <td>34.0</td>\n",
       "      <td>18.529412</td>\n",
       "      <td>4.046961</td>\n",
       "      <td>11.0</td>\n",
       "      <td>15.0</td>\n",
       "      <td>18.0</td>\n",
       "      <td>21.00</td>\n",
       "      <td>28.0</td>\n",
       "    </tr>\n",
       "    <tr>\n",
       "      <td>volkswagen</td>\n",
       "      <td>27.0</td>\n",
       "      <td>20.925926</td>\n",
       "      <td>4.556702</td>\n",
       "      <td>16.0</td>\n",
       "      <td>18.5</td>\n",
       "      <td>21.0</td>\n",
       "      <td>21.00</td>\n",
       "      <td>35.0</td>\n",
       "    </tr>\n",
       "  </tbody>\n",
       "</table>\n",
       "</div>"
      ],
      "text/plain": [
       "               mpg                                                    \n",
       "             count       mean       std   min   25%   50%    75%   max\n",
       "manufacturer                                                          \n",
       "audi          18.0  17.611111  1.974511  15.0  16.0  17.5  18.75  21.0\n",
       "chevrolet     19.0  15.000000  2.924988  11.0  13.5  15.0  16.50  22.0\n",
       "dodge         37.0  13.135135  2.485091   9.0  11.0  13.0  15.00  18.0\n",
       "ford          25.0  14.000000  1.914854  11.0  13.0  14.0  15.00  18.0\n",
       "honda          9.0  24.444444  1.943651  21.0  24.0  24.0  25.00  28.0\n",
       "hyundai       14.0  18.642857  1.499084  16.0  18.0  18.5  19.75  21.0\n",
       "jeep           8.0  13.500000  2.507133   9.0  12.5  14.0  15.00  17.0\n",
       "land rover     4.0  11.500000  0.577350  11.0  11.0  11.5  12.00  12.0\n",
       "lincoln        3.0  11.333333  0.577350  11.0  11.0  11.0  11.50  12.0\n",
       "mercury        4.0  13.250000  0.500000  13.0  13.0  13.0  13.25  14.0\n",
       "nissan        13.0  18.076923  3.426892  12.0  15.0  19.0  19.00  23.0\n",
       "pontiac        5.0  17.000000  1.000000  16.0  16.0  17.0  18.00  18.0\n",
       "subaru        14.0  19.285714  0.913874  18.0  19.0  19.0  20.00  21.0\n",
       "toyota        34.0  18.529412  4.046961  11.0  15.0  18.0  21.00  28.0\n",
       "volkswagen    27.0  20.925926  4.556702  16.0  18.5  21.0  21.00  35.0"
      ]
     },
     "execution_count": 10,
     "metadata": {},
     "output_type": "execute_result"
    }
   ],
   "source": [
    "df = ds_mycars[['manufacturer','mpg']]\n",
    "df.groupby('manufacturer').describe()"
   ]
  },
  {
   "cell_type": "code",
   "execution_count": 11,
   "metadata": {},
   "outputs": [],
   "source": [
    "ds_Exh_QC1 = pd.read_csv('EXH_QC1.csv', engine = 'python')\n",
    "df = ds_Exh_QC1[['Flaws','Period']]"
   ]
  },
  {
   "cell_type": "code",
   "execution_count": 20,
   "metadata": {},
   "outputs": [
    {
     "data": {
      "text/html": [
       "<div>\n",
       "<style scoped>\n",
       "    .dataframe tbody tr th:only-of-type {\n",
       "        vertical-align: middle;\n",
       "    }\n",
       "\n",
       "    .dataframe tbody tr th {\n",
       "        vertical-align: top;\n",
       "    }\n",
       "\n",
       "    .dataframe thead th {\n",
       "        text-align: right;\n",
       "    }\n",
       "</style>\n",
       "<table border=\"1\" class=\"dataframe\">\n",
       "  <thead>\n",
       "    <tr style=\"text-align: right;\">\n",
       "      <th></th>\n",
       "      <th>Flaws</th>\n",
       "      <th>Period</th>\n",
       "    </tr>\n",
       "  </thead>\n",
       "  <tbody>\n",
       "    <tr>\n",
       "      <td>0</td>\n",
       "      <td>Scratch</td>\n",
       "      <td>Day</td>\n",
       "    </tr>\n",
       "    <tr>\n",
       "      <td>1</td>\n",
       "      <td>Scratch</td>\n",
       "      <td>Day</td>\n",
       "    </tr>\n",
       "    <tr>\n",
       "      <td>2</td>\n",
       "      <td>Peel</td>\n",
       "      <td>Day</td>\n",
       "    </tr>\n",
       "    <tr>\n",
       "      <td>3</td>\n",
       "      <td>Peel</td>\n",
       "      <td>Day</td>\n",
       "    </tr>\n",
       "    <tr>\n",
       "      <td>4</td>\n",
       "      <td>Smudge</td>\n",
       "      <td>Day</td>\n",
       "    </tr>\n",
       "    <tr>\n",
       "      <td>5</td>\n",
       "      <td>Scratch</td>\n",
       "      <td>Day</td>\n",
       "    </tr>\n",
       "    <tr>\n",
       "      <td>6</td>\n",
       "      <td>Other</td>\n",
       "      <td>Day</td>\n",
       "    </tr>\n",
       "    <tr>\n",
       "      <td>7</td>\n",
       "      <td>Other</td>\n",
       "      <td>Evening</td>\n",
       "    </tr>\n",
       "    <tr>\n",
       "      <td>8</td>\n",
       "      <td>Peel</td>\n",
       "      <td>Evening</td>\n",
       "    </tr>\n",
       "    <tr>\n",
       "      <td>9</td>\n",
       "      <td>Peel</td>\n",
       "      <td>Evening</td>\n",
       "    </tr>\n",
       "    <tr>\n",
       "      <td>10</td>\n",
       "      <td>Peel</td>\n",
       "      <td>Evening</td>\n",
       "    </tr>\n",
       "    <tr>\n",
       "      <td>11</td>\n",
       "      <td>Peel</td>\n",
       "      <td>Evening</td>\n",
       "    </tr>\n",
       "    <tr>\n",
       "      <td>12</td>\n",
       "      <td>Scratch</td>\n",
       "      <td>Evening</td>\n",
       "    </tr>\n",
       "    <tr>\n",
       "      <td>13</td>\n",
       "      <td>Scratch</td>\n",
       "      <td>Evening</td>\n",
       "    </tr>\n",
       "    <tr>\n",
       "      <td>14</td>\n",
       "      <td>Peel</td>\n",
       "      <td>Night</td>\n",
       "    </tr>\n",
       "    <tr>\n",
       "      <td>15</td>\n",
       "      <td>Scratch</td>\n",
       "      <td>Night</td>\n",
       "    </tr>\n",
       "    <tr>\n",
       "      <td>16</td>\n",
       "      <td>Smudge</td>\n",
       "      <td>Night</td>\n",
       "    </tr>\n",
       "    <tr>\n",
       "      <td>17</td>\n",
       "      <td>Scratch</td>\n",
       "      <td>Night</td>\n",
       "    </tr>\n",
       "    <tr>\n",
       "      <td>18</td>\n",
       "      <td>Peel</td>\n",
       "      <td>Night</td>\n",
       "    </tr>\n",
       "    <tr>\n",
       "      <td>19</td>\n",
       "      <td>Peel</td>\n",
       "      <td>Night</td>\n",
       "    </tr>\n",
       "    <tr>\n",
       "      <td>20</td>\n",
       "      <td>Peel</td>\n",
       "      <td>Night</td>\n",
       "    </tr>\n",
       "    <tr>\n",
       "      <td>21</td>\n",
       "      <td>Peel</td>\n",
       "      <td>Night</td>\n",
       "    </tr>\n",
       "    <tr>\n",
       "      <td>22</td>\n",
       "      <td>Other</td>\n",
       "      <td>Night</td>\n",
       "    </tr>\n",
       "    <tr>\n",
       "      <td>23</td>\n",
       "      <td>Other</td>\n",
       "      <td>Night</td>\n",
       "    </tr>\n",
       "    <tr>\n",
       "      <td>24</td>\n",
       "      <td>Scratch</td>\n",
       "      <td>Night</td>\n",
       "    </tr>\n",
       "    <tr>\n",
       "      <td>25</td>\n",
       "      <td>Scratch</td>\n",
       "      <td>Night</td>\n",
       "    </tr>\n",
       "    <tr>\n",
       "      <td>26</td>\n",
       "      <td>Peel</td>\n",
       "      <td>Night</td>\n",
       "    </tr>\n",
       "    <tr>\n",
       "      <td>27</td>\n",
       "      <td>Scratch</td>\n",
       "      <td>Night</td>\n",
       "    </tr>\n",
       "    <tr>\n",
       "      <td>28</td>\n",
       "      <td>Smudge</td>\n",
       "      <td>Night</td>\n",
       "    </tr>\n",
       "    <tr>\n",
       "      <td>29</td>\n",
       "      <td>Scratch</td>\n",
       "      <td>Night</td>\n",
       "    </tr>\n",
       "    <tr>\n",
       "      <td>30</td>\n",
       "      <td>Other</td>\n",
       "      <td>Night</td>\n",
       "    </tr>\n",
       "    <tr>\n",
       "      <td>31</td>\n",
       "      <td>Scratch</td>\n",
       "      <td>Night</td>\n",
       "    </tr>\n",
       "    <tr>\n",
       "      <td>32</td>\n",
       "      <td>Scratch</td>\n",
       "      <td>Night</td>\n",
       "    </tr>\n",
       "    <tr>\n",
       "      <td>33</td>\n",
       "      <td>Peel</td>\n",
       "      <td>Weekend</td>\n",
       "    </tr>\n",
       "    <tr>\n",
       "      <td>34</td>\n",
       "      <td>Peel</td>\n",
       "      <td>Weekend</td>\n",
       "    </tr>\n",
       "    <tr>\n",
       "      <td>35</td>\n",
       "      <td>Peel</td>\n",
       "      <td>Weekend</td>\n",
       "    </tr>\n",
       "    <tr>\n",
       "      <td>36</td>\n",
       "      <td>Smudge</td>\n",
       "      <td>Weekend</td>\n",
       "    </tr>\n",
       "    <tr>\n",
       "      <td>37</td>\n",
       "      <td>Smudge</td>\n",
       "      <td>Weekend</td>\n",
       "    </tr>\n",
       "    <tr>\n",
       "      <td>38</td>\n",
       "      <td>Smudge</td>\n",
       "      <td>Weekend</td>\n",
       "    </tr>\n",
       "    <tr>\n",
       "      <td>39</td>\n",
       "      <td>Other</td>\n",
       "      <td>Weekend</td>\n",
       "    </tr>\n",
       "  </tbody>\n",
       "</table>\n",
       "</div>"
      ],
      "text/plain": [
       "      Flaws   Period\n",
       "0   Scratch      Day\n",
       "1   Scratch      Day\n",
       "2      Peel      Day\n",
       "3      Peel      Day\n",
       "4    Smudge      Day\n",
       "5   Scratch      Day\n",
       "6     Other      Day\n",
       "7     Other  Evening\n",
       "8      Peel  Evening\n",
       "9      Peel  Evening\n",
       "10     Peel  Evening\n",
       "11     Peel  Evening\n",
       "12  Scratch  Evening\n",
       "13  Scratch  Evening\n",
       "14     Peel    Night\n",
       "15  Scratch    Night\n",
       "16   Smudge    Night\n",
       "17  Scratch    Night\n",
       "18     Peel    Night\n",
       "19     Peel    Night\n",
       "20     Peel    Night\n",
       "21     Peel    Night\n",
       "22    Other    Night\n",
       "23    Other    Night\n",
       "24  Scratch    Night\n",
       "25  Scratch    Night\n",
       "26     Peel    Night\n",
       "27  Scratch    Night\n",
       "28   Smudge    Night\n",
       "29  Scratch    Night\n",
       "30    Other    Night\n",
       "31  Scratch    Night\n",
       "32  Scratch    Night\n",
       "33     Peel  Weekend\n",
       "34     Peel  Weekend\n",
       "35     Peel  Weekend\n",
       "36   Smudge  Weekend\n",
       "37   Smudge  Weekend\n",
       "38   Smudge  Weekend\n",
       "39    Other  Weekend"
      ]
     },
     "execution_count": 20,
     "metadata": {},
     "output_type": "execute_result"
    }
   ],
   "source": [
    "df"
   ]
  },
  {
   "cell_type": "code",
   "execution_count": 12,
   "metadata": {},
   "outputs": [],
   "source": [
    "count = df['Flaws'].value_counts().sort_index()"
   ]
  },
  {
   "cell_type": "code",
   "execution_count": 13,
   "metadata": {},
   "outputs": [],
   "source": [
    "cumcnt = np.cumsum(count)\n",
    "percent = count/sum(count)*100\n",
    "cumpct = np.cumsum(percent)"
   ]
  },
  {
   "cell_type": "code",
   "execution_count": 14,
   "metadata": {},
   "outputs": [
    {
     "data": {
      "text/html": [
       "<div>\n",
       "<style scoped>\n",
       "    .dataframe tbody tr th:only-of-type {\n",
       "        vertical-align: middle;\n",
       "    }\n",
       "\n",
       "    .dataframe tbody tr th {\n",
       "        vertical-align: top;\n",
       "    }\n",
       "\n",
       "    .dataframe thead th {\n",
       "        text-align: right;\n",
       "    }\n",
       "</style>\n",
       "<table border=\"1\" class=\"dataframe\">\n",
       "  <thead>\n",
       "    <tr style=\"text-align: right;\">\n",
       "      <th>Flaws</th>\n",
       "      <th>Count</th>\n",
       "      <th>CumCnt</th>\n",
       "      <th>Percent</th>\n",
       "      <th>Cumpct</th>\n",
       "    </tr>\n",
       "  </thead>\n",
       "  <tbody>\n",
       "    <tr>\n",
       "      <td>Other</td>\n",
       "      <td>6</td>\n",
       "      <td>6</td>\n",
       "      <td>15.0</td>\n",
       "      <td>15.0</td>\n",
       "    </tr>\n",
       "    <tr>\n",
       "      <td>Peel</td>\n",
       "      <td>15</td>\n",
       "      <td>21</td>\n",
       "      <td>37.5</td>\n",
       "      <td>52.5</td>\n",
       "    </tr>\n",
       "    <tr>\n",
       "      <td>Scratch</td>\n",
       "      <td>13</td>\n",
       "      <td>34</td>\n",
       "      <td>32.5</td>\n",
       "      <td>85.0</td>\n",
       "    </tr>\n",
       "    <tr>\n",
       "      <td>Smudge</td>\n",
       "      <td>6</td>\n",
       "      <td>40</td>\n",
       "      <td>15.0</td>\n",
       "      <td>100.0</td>\n",
       "    </tr>\n",
       "  </tbody>\n",
       "</table>\n",
       "</div>"
      ],
      "text/plain": [
       "Flaws    Count  CumCnt  Percent  Cumpct\n",
       "Other        6       6     15.0    15.0\n",
       "Peel        15      21     37.5    52.5\n",
       "Scratch     13      34     32.5    85.0\n",
       "Smudge       6      40     15.0   100.0"
      ]
     },
     "execution_count": 14,
     "metadata": {},
     "output_type": "execute_result"
    }
   ],
   "source": [
    "count_data = pd.DataFrame({'Count':count,'CumCnt':cumcnt,'Percent':percent,'Cumpct':cumpct})\n",
    "count_data.columns.name = 'Flaws'\n",
    "count_data"
   ]
  },
  {
   "cell_type": "code",
   "execution_count": 15,
   "metadata": {},
   "outputs": [
    {
     "data": {
      "text/html": [
       "<div>\n",
       "<style scoped>\n",
       "    .dataframe tbody tr th:only-of-type {\n",
       "        vertical-align: middle;\n",
       "    }\n",
       "\n",
       "    .dataframe tbody tr th {\n",
       "        vertical-align: top;\n",
       "    }\n",
       "\n",
       "    .dataframe thead th {\n",
       "        text-align: right;\n",
       "    }\n",
       "</style>\n",
       "<table border=\"1\" class=\"dataframe\">\n",
       "  <thead>\n",
       "    <tr style=\"text-align: right;\">\n",
       "      <th>Period</th>\n",
       "      <th>Count</th>\n",
       "      <th>CumCnt</th>\n",
       "      <th>Percent</th>\n",
       "      <th>Cumpct</th>\n",
       "    </tr>\n",
       "  </thead>\n",
       "  <tbody>\n",
       "    <tr>\n",
       "      <td>Day</td>\n",
       "      <td>7</td>\n",
       "      <td>7</td>\n",
       "      <td>17.5</td>\n",
       "      <td>17.5</td>\n",
       "    </tr>\n",
       "    <tr>\n",
       "      <td>Evening</td>\n",
       "      <td>7</td>\n",
       "      <td>14</td>\n",
       "      <td>17.5</td>\n",
       "      <td>35.0</td>\n",
       "    </tr>\n",
       "    <tr>\n",
       "      <td>Night</td>\n",
       "      <td>19</td>\n",
       "      <td>33</td>\n",
       "      <td>47.5</td>\n",
       "      <td>82.5</td>\n",
       "    </tr>\n",
       "    <tr>\n",
       "      <td>Weekend</td>\n",
       "      <td>7</td>\n",
       "      <td>40</td>\n",
       "      <td>17.5</td>\n",
       "      <td>100.0</td>\n",
       "    </tr>\n",
       "  </tbody>\n",
       "</table>\n",
       "</div>"
      ],
      "text/plain": [
       "Period   Count  CumCnt  Percent  Cumpct\n",
       "Day          7       7     17.5    17.5\n",
       "Evening      7      14     17.5    35.0\n",
       "Night       19      33     47.5    82.5\n",
       "Weekend      7      40     17.5   100.0"
      ]
     },
     "execution_count": 15,
     "metadata": {},
     "output_type": "execute_result"
    }
   ],
   "source": [
    "count2 = df['Period'].value_counts().sort_index()\n",
    "cumcnt2 = np.cumsum(count2)\n",
    "percent2 = count2/sum(count2) *100\n",
    "cumpct2 = np.cumsum(percent2)\n",
    "count_data2 = pd.DataFrame({'Count':count2,'CumCnt':cumcnt2,'Percent':percent2,'Cumpct':cumpct2})\n",
    "count_data2.columns.name = 'Period'\n",
    "count_data2"
   ]
  },
  {
   "cell_type": "markdown",
   "metadata": {},
   "source": [
    "# 확률분포"
   ]
  },
  {
   "cell_type": "code",
   "execution_count": 4,
   "metadata": {},
   "outputs": [],
   "source": [
    "np.random.seed(seed=1234)"
   ]
  },
  {
   "cell_type": "code",
   "execution_count": 5,
   "metadata": {},
   "outputs": [],
   "source": [
    "normal = np.random.normal(20,2,100000)"
   ]
  },
  {
   "cell_type": "code",
   "execution_count": 11,
   "metadata": {},
   "outputs": [
    {
     "data": {
      "text/plain": [
       "<matplotlib.axes._subplots.AxesSubplot at 0x7f3965771790>"
      ]
     },
     "execution_count": 11,
     "metadata": {},
     "output_type": "execute_result"
    },
    {
     "data": {
      "image/png": "[encoded data removed]",
      "text/plain": [
       "<Figure size 432x288 with 1 Axes>"
      ]
     },
     "metadata": {
      "needs_background": "light"
     },
     "output_type": "display_data"
    }
   ],
   "source": [
    "sns.distplot(normal, fit = stats.norm, kde = True)"
   ]
  },
  {
   "cell_type": "code",
   "execution_count": 7,
   "metadata": {},
   "outputs": [
    {
     "data": {
      "text/plain": [
       "array([20.943, 17.618, 22.865, ..., 20.059, 17.559, 20.768])"
      ]
     },
     "execution_count": 7,
     "metadata": {},
     "output_type": "execute_result"
    }
   ],
   "source": [
    "normal.round(3)"
   ]
  },
  {
   "cell_type": "code",
   "execution_count": 8,
   "metadata": {},
   "outputs": [],
   "source": [
    "normal = np.random.normal(30,2.5,100000)"
   ]
  },
  {
   "cell_type": "code",
   "execution_count": 12,
   "metadata": {},
   "outputs": [
    {
     "data": {
      "text/plain": [
       "<matplotlib.axes._subplots.AxesSubplot at 0x7f3963e77e90>"
      ]
     },
     "execution_count": 12,
     "metadata": {},
     "output_type": "execute_result"
    },
    {
     "data": {
      "image/png": "[encoded data removed]",
      "text/plain": [
       "<Figure size 432x288 with 1 Axes>"
      ]
     },
     "metadata": {
      "needs_background": "light"
     },
     "output_type": "display_data"
    }
   ],
   "source": [
    "sns.distplot(normal, fit = stats.norm, kde = True)"
   ]
  },
  {
   "cell_type": "code",
   "execution_count": 20,
   "metadata": {},
   "outputs": [
    {
     "name": "stdout",
     "output_type": "stream",
     "text": [
      "135분 이상 걸리는 A/S 작업 비율: 15.9%\n"
     ]
    }
   ],
   "source": [
    "mu = 115\n",
    "sigma = 20\n",
    "x = 135\n",
    "prob = stats.norm.cdf(x, mu, sigma)\n",
    "print(\"{0}분 이상 걸리는 A/S 작업 비율: {1:.1f}%\".format(x,(1-prob)*100))"
   ]
  },
  {
   "cell_type": "code",
   "execution_count": 22,
   "metadata": {},
   "outputs": [
    {
     "name": "stdout",
     "output_type": "stream",
     "text": [
      "나의 키가 180cm일 경우에 나는 15.9% 범위에 위치한다.\n"
     ]
    }
   ],
   "source": [
    "mu = 175\n",
    "sigma = 5\n",
    "x = 180\n",
    "prob = stats.norm.cdf(x, mu, sigma)\n",
    "print(\"나의 키가 {0}cm일 경우에 나는 {1:.1f}% 범위에 위치한다.\".format(x,(1-prob)*100))"
   ]
  },
  {
   "cell_type": "code",
   "execution_count": 23,
   "metadata": {
    "scrolled": true
   },
   "outputs": [
    {
     "name": "stdout",
     "output_type": "stream",
     "text": [
      "12km 이상 15km 이하를 달릴 확률은 34.1%에 해당함\n"
     ]
    }
   ],
   "source": [
    "mu = 12\n",
    "sigma = 3\n",
    "x1 = 15\n",
    "prob1 = stats.norm.cdf(x1,mu,sigma)\n",
    "print(\"{0}km 이상 {1}km 이하를 달릴 확률은 {2:.1f}%에 해당함\".format(mu, x1, (prob1-0.5)*100))"
   ]
  },
  {
   "cell_type": "code",
   "execution_count": 25,
   "metadata": {},
   "outputs": [
    {
     "name": "stdout",
     "output_type": "stream",
     "text": [
      "9km 이상 15km 이하를 달릴 확률은 68.3%에 해당함\n"
     ]
    }
   ],
   "source": [
    "mu = 12\n",
    "sigma = 3\n",
    "x1 = 15\n",
    "prob1 = stats.norm.cdf(x1,mu,sigma)\n",
    "print(\"{0}km 이상 {1}km 이하를 달릴 확률은 {2:.1f}%에 해당함\".format(9, x1, (prob1-0.5)*2*100))"
   ]
  },
  {
   "cell_type": "code",
   "execution_count": 27,
   "metadata": {},
   "outputs": [
    {
     "data": {
      "text/plain": [
       "<matplotlib.axes._subplots.AxesSubplot at 0x7f3962517110>"
      ]
     },
     "execution_count": 27,
     "metadata": {},
     "output_type": "execute_result"
    },
    {
     "data": {
      "image/png": "[encoded data removed]",
      "text/plain": [
       "<Figure size 432x288 with 1 Axes>"
      ]
     },
     "metadata": {
      "needs_background": "light"
     },
     "output_type": "display_data"
    }
   ],
   "source": [
    "np.random.seed(1234)\n",
    "normal = np.random.normal(0,1,100000)\n",
    "sns.distplot(normal)"
   ]
  },
  {
   "cell_type": "code",
   "execution_count": 36,
   "metadata": {},
   "outputs": [
    {
     "data": {
      "text/plain": [
       "<matplotlib.axes._subplots.AxesSubplot at 0x7f39620a5b90>"
      ]
     },
     "execution_count": 36,
     "metadata": {},
     "output_type": "execute_result"
    },
    {
     "data": {
      "image/png": "[encoded data removed]",
      "text/plain": [
       "<Figure size 432x288 with 1 Axes>"
      ]
     },
     "metadata": {
      "needs_background": "light"
     },
     "output_type": "display_data"
    }
   ],
   "source": [
    "np.random.seed(1234)\n",
    "\n",
    "t_df29 = np.random.standard_t(df = 29, size = 1000)\n",
    "sns.distplot(t_df29, fit = stats.norm, kde = True)"
   ]
  },
  {
   "cell_type": "code",
   "execution_count": 34,
   "metadata": {},
   "outputs": [
    {
     "data": {
      "text/plain": [
       "<matplotlib.axes._subplots.AxesSubplot at 0x7f39667b1990>"
      ]
     },
     "execution_count": 34,
     "metadata": {},
     "output_type": "execute_result"
    },
    {
     "data": {
      "image/png": "[encoded data removed]",
      "text/plain": [
       "<Figure size 432x288 with 1 Axes>"
      ]
     },
     "metadata": {
      "needs_background": "light"
     },
     "output_type": "display_data"
    }
   ],
   "source": [
    "np.random.seed(1234)\n",
    "\n",
    "t_df10 = np.random.standard_t(df = 10, size = 1000)\n",
    "sns.distplot(t_df10, fit = stats.norm, kde = True)"
   ]
  },
  {
   "cell_type": "code",
   "execution_count": 30,
   "metadata": {},
   "outputs": [
    {
     "name": "stdout",
     "output_type": "stream",
     "text": [
      "P(T<=F): 0.907\n"
     ]
    }
   ],
   "source": [
    "t = 1.53\n",
    "df = 5\n",
    "prob = stats.t.cdf(t,df)\n",
    "print(\"P(T<=F): %.3f\" %prob)"
   ]
  },
  {
   "cell_type": "code",
   "execution_count": 37,
   "metadata": {},
   "outputs": [
    {
     "name": "stdout",
     "output_type": "stream",
     "text": [
      "P(T<=F): 0.976\n"
     ]
    }
   ],
   "source": [
    "t = 2.0\n",
    "df = 100\n",
    "prob = stats.t.cdf(t,df)\n",
    "print(\"P(T<=F): %.3f\" %prob)"
   ]
  },
  {
   "cell_type": "code",
   "execution_count": 38,
   "metadata": {},
   "outputs": [
    {
     "data": {
      "text/plain": [
       "<matplotlib.axes._subplots.AxesSubplot at 0x7f3961f69ed0>"
      ]
     },
     "execution_count": 38,
     "metadata": {},
     "output_type": "execute_result"
    },
    {
     "data": {
      "image/png": "[encoded data removed]",
      "text/plain": [
       "<Figure size 432x288 with 1 Axes>"
      ]
     },
     "metadata": {
      "needs_background": "light"
     },
     "output_type": "display_data"
    }
   ],
   "source": [
    "np.random.seed(1234)\n",
    "\n",
    "chisq_df10 = np.random.chisquare(df = 10, size = 1000)\n",
    "sns.distplot(chisq_df10, fit = stats.norm, kde = True)"
   ]
  },
  {
   "cell_type": "code",
   "execution_count": 39,
   "metadata": {},
   "outputs": [
    {
     "data": {
      "text/plain": [
       "<matplotlib.axes._subplots.AxesSubplot at 0x7f3961e58b90>"
      ]
     },
     "execution_count": 39,
     "metadata": {},
     "output_type": "execute_result"
    },
    {
     "data": {
      "image/png": "[encoded data removed]",
      "text/plain": [
       "<Figure size 432x288 with 1 Axes>"
      ]
     },
     "metadata": {
      "needs_background": "light"
     },
     "output_type": "display_data"
    }
   ],
   "source": [
    "np.random.seed(1234)\n",
    "\n",
    "chisq_df40 = np.random.chisquare(df = 40, size = 1000)\n",
    "sns.distplot(chisq_df40, fit = stats.norm, kde = True)"
   ]
  },
  {
   "cell_type": "code",
   "execution_count": 41,
   "metadata": {},
   "outputs": [
    {
     "name": "stdout",
     "output_type": "stream",
     "text": [
      "P(X<=10) : 0.0002\n"
     ]
    }
   ],
   "source": [
    "chisq = 10\n",
    "df = 30\n",
    "prob = stats.chi2.cdf(chisq,df)\n",
    "print(\"P(X<=%d) : %.4f\" %(chisq,prob))"
   ]
  },
  {
   "cell_type": "code",
   "execution_count": 42,
   "metadata": {},
   "outputs": [
    {
     "name": "stdout",
     "output_type": "stream",
     "text": [
      "P(X<=3) : 0.0656\n"
     ]
    }
   ],
   "source": [
    "chisq = 3\n",
    "df = 8\n",
    "prob = stats.chi2.cdf(chisq,df)\n",
    "print(\"P(X<=%d) : %.4f\" %(chisq,prob))"
   ]
  },
  {
   "cell_type": "code",
   "execution_count": 44,
   "metadata": {},
   "outputs": [
    {
     "data": {
      "text/plain": [
       "<matplotlib.axes._subplots.AxesSubplot at 0x7f3961cfa210>"
      ]
     },
     "execution_count": 44,
     "metadata": {},
     "output_type": "execute_result"
    },
    {
     "data": {
      "image/png": "[encoded data removed]",
      "text/plain": [
       "<Figure size 432x288 with 1 Axes>"
      ]
     },
     "metadata": {
      "needs_background": "light"
     },
     "output_type": "display_data"
    }
   ],
   "source": [
    "np.random.seed(1234)\n",
    "\n",
    "F_df10_10 = np.random.f(dfnum = 10, dfden = 10, size = 1000)\n",
    "sns.distplot(F_df10_10, fit = stats.norm, kde = True)"
   ]
  },
  {
   "cell_type": "code",
   "execution_count": 46,
   "metadata": {},
   "outputs": [
    {
     "data": {
      "text/plain": [
       "<matplotlib.axes._subplots.AxesSubplot at 0x7f3961a9bd90>"
      ]
     },
     "execution_count": 46,
     "metadata": {},
     "output_type": "execute_result"
    },
    {
     "data": {
      "image/png": "[encoded data removed]",
      "text/plain": [
       "<Figure size 432x288 with 1 Axes>"
      ]
     },
     "metadata": {
      "needs_background": "light"
     },
     "output_type": "display_data"
    }
   ],
   "source": [
    "np.random.seed(1234)\n",
    "\n",
    "F_df100_100 = np.random.f(dfnum = 100, dfden = 100, size = 1000)\n",
    "sns.distplot(F_df100_100, fit = stats.norm, kde = True)"
   ]
  },
  {
   "cell_type": "code",
   "execution_count": 47,
   "metadata": {},
   "outputs": [
    {
     "name": "stdout",
     "output_type": "stream",
     "text": [
      "P(X<=F): 0.904\n"
     ]
    }
   ],
   "source": [
    "f = 2.0\n",
    "dfnum = 15\n",
    "dfden = 15\n",
    "\n",
    "prob = stats.f.cdf(x = f, dfn = dfnum, dfd = dfden)\n",
    "print(\"P(X<=F): %.3f\" %prob)"
   ]
  },
  {
   "cell_type": "code",
   "execution_count": 51,
   "metadata": {},
   "outputs": [
    {
     "name": "stdout",
     "output_type": "stream",
     "text": [
      "P(X<=F): 0.850\n"
     ]
    }
   ],
   "source": [
    "f = 1.5\n",
    "dfnum = 10\n",
    "dfden = 100\n",
    "\n",
    "prob = stats.f.cdf(x = f, dfn = dfnum, dfd = dfden)\n",
    "print(\"P(X<=F): %.3f\" %prob)"
   ]
  },
  {
   "cell_type": "code",
   "execution_count": 52,
   "metadata": {},
   "outputs": [
    {
     "name": "stdout",
     "output_type": "stream",
     "text": [
      "P(X<=F): 0.999\n"
     ]
    }
   ],
   "source": [
    "f = 147\n",
    "dfnum = 1\n",
    "dfden = 3\n",
    "\n",
    "prob = stats.f.cdf(x = f, dfn = dfnum, dfd = dfden)\n",
    "print(\"P(X<=F): %.3f\" %prob)"
   ]
  },
  {
   "cell_type": "code",
   "execution_count": 53,
   "metadata": {},
   "outputs": [
    {
     "name": "stdout",
     "output_type": "stream",
     "text": [
      "P(X>=x): 0.195\n"
     ]
    }
   ],
   "source": [
    "x = 1500\n",
    "alpha = 2.2\n",
    "beta = 1200\n",
    "\n",
    "prob = stats.weibull_min.cdf(x,alpha,scale = beta)\n",
    "print(\"P(X>=x): %.3f\" %(1-prob))"
   ]
  },
  {
   "cell_type": "code",
   "execution_count": 54,
   "metadata": {},
   "outputs": [
    {
     "name": "stdout",
     "output_type": "stream",
     "text": [
      "P(X>=x): 0.143\n"
     ]
    }
   ],
   "source": [
    "x = 2500\n",
    "alpha = 5.2\n",
    "beta = 2200\n",
    "\n",
    "prob = stats.weibull_min.cdf(x,alpha,scale = beta)\n",
    "print(\"P(X>=x): %.3f\" %(1-prob))"
   ]
  },
  {
   "cell_type": "code",
   "execution_count": null,
   "metadata": {},
   "outputs": [],
   "source": []
  }
 ],
 "metadata": {
  "kernelspec": {
   "display_name": "Python 3",
   "language": "python",
   "name": "python3"
  },
  "language_info": {
   "codemirror_mode": {
    "name": "ipython",
    "version": 3
   },
   "file_extension": ".py",
   "mimetype": "text/x-python",
   "name": "python",
   "nbconvert_exporter": "python",
   "pygments_lexer": "ipython3",
   "version": "3.7.4"
  }
 },
 "nbformat": 4,
 "nbformat_minor": 2
}
