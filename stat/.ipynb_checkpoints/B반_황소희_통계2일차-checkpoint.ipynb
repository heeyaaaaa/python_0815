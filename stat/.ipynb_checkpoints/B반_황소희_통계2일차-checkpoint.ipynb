{
 "cells": [
  {
   "cell_type": "markdown",
   "metadata": {},
   "source": [
    "# 모평균 추정"
   ]
  },
  {
   "cell_type": "code",
   "execution_count": 2,
   "metadata": {},
   "outputs": [],
   "source": [
    "import numpy as np\n",
    "from scipy import stats\n",
    "import scipy.stats\n",
    "import pandas as pd\n",
    "import statsmodels.api as sm"
   ]
  },
  {
   "cell_type": "markdown",
   "metadata": {},
   "source": [
    "새로운 품종의 감자 20box 를 랜덤추출하여 무게를 측정한 결과가 다음과 같다. 신품종 배추의 평균 무게에 대한 95% 신뢰구간을 구하시오."
   ]
  },
  {
   "cell_type": "code",
   "execution_count": 3,
   "metadata": {},
   "outputs": [
    {
     "name": "stdout",
     "output_type": "stream",
     "text": [
      "신뢰구간: (17.83,21.17)\n"
     ]
    }
   ],
   "source": [
    "df = pd.DataFrame({\"sample\" : [18, 18, 20, 21, 20, 23, 19, 18, 17, 21,\n",
    "                              22, 20, 20, 21, 20, 19, 19, 18, 17, 19]})\n",
    "lower1, upper1 = stats.norm.interval(0.95, loc = np.mean(df), scale = 3.8/np.sqrt(20))\n",
    "print(\"신뢰구간: (%.2f,%.2f)\"  %(lower1, upper1))"
   ]
  },
  {
   "cell_type": "code",
   "execution_count": 15,
   "metadata": {},
   "outputs": [
    {
     "name": "stdout",
     "output_type": "stream",
     "text": [
      "신뢰구간: (17.83,21.17)\n"
     ]
    }
   ],
   "source": [
    "# 손으로 풀 경우\n",
    "\n",
    "x_bar = np.mean(df)\n",
    "sigma = 3.8\n",
    "n = 20\n",
    "Z_alpha_2 = stats.norm.ppf(0.975)\n",
    "\n",
    "lower2, upper2 = x_bar-Z_alpha_2*sigma/np.sqrt(n),x_bar+Z_alpha_2*sigma/np.sqrt(n)\n",
    "print(\"신뢰구간: (%.2f,%.2f)\"  %(lower2, upper2))"
   ]
  },
  {
   "cell_type": "markdown",
   "metadata": {},
   "source": [
    "제품개발자는 새로 개발된 강종의 평균 인장강도를 70kg/mm으로 기대하고 있다. 강종 중 임의로 20개의 코일을 대상으로 랜덤하게 시편을 채취하였음.\n",
    "자료로부터 표본평균은 71.5kg/mm, 표본표준편차는 1.933gk/mm. 모평균값의 95% 신뢰구간을 추정하시오."
   ]
  },
  {
   "cell_type": "code",
   "execution_count": 16,
   "metadata": {},
   "outputs": [
    {
     "name": "stdout",
     "output_type": "stream",
     "text": [
      "신뢰구간: (70.60,72.40)\n"
     ]
    }
   ],
   "source": [
    "df = pd.DataFrame({\"sample\" : [73, 71, 74, 69, 70, 73, 70, 68, 75, 72,\n",
    "                              70, 72, 73, 70, 70, 72, 71, 70, 75, 72]})\n",
    "\n",
    "lower, upper = stats.t.interval(0.95, len(df)-1, loc = np.mean(df), scale = scipy.stats.sem(df))\n",
    "print(\"신뢰구간: (%.2f,%.2f)\"  %(lower, upper))"
   ]
  },
  {
   "cell_type": "code",
   "execution_count": 44,
   "metadata": {},
   "outputs": [
    {
     "name": "stdout",
     "output_type": "stream",
     "text": [
      "신뢰구간: (70.60,72.40)\n"
     ]
    }
   ],
   "source": [
    "# 손으로 풀 경우\n",
    "\n",
    "x_bar = np.mean(df)\n",
    "n = 20\n",
    "t_alpha_2 = stats.t.ppf(0.975,19)\n",
    "sigma = np.std(df,ddof = 1)\n",
    "                \n",
    "lower2, upper2 = x_bar - t_alpha_2*sigma/np.sqrt(20),x_bar + t_alpha_2*sigma/np.sqrt(20)\n",
    "print(\"신뢰구간: (%.2f,%.2f)\"  %(lower2, upper2))"
   ]
  },
  {
   "cell_type": "markdown",
   "metadata": {},
   "source": [
    "# one-sample t-test"
   ]
  },
  {
   "cell_type": "markdown",
   "metadata": {},
   "source": [
    "고객서비스센터의 고객만족도 평균은 78.0이다. 개선활동을 완료한 후 다음과 같은 10개의 고객만족도 데이터를 얻었다. 개선활동이 만족도를 변화시켰는가?"
   ]
  },
  {
   "cell_type": "code",
   "execution_count": 59,
   "metadata": {},
   "outputs": [
    {
     "name": "stdout",
     "output_type": "stream",
     "text": [
      "(0.8473219275474548, 0.053975414484739304)\n",
      "1-Sample t-test\n",
      "\n",
      "귀무가설Ho : 고객만족도 평균은  78.0이다. x_bar = 78.0\n",
      "대립가설H1 : 고객만족도 평균은 78.0이 아니다. 즉, 개선활동이 만족도를 변화시켰다. x_bar != 78.0\n",
      "\n",
      "유의수준: 0.05\n",
      "p_value : [0.008]\n",
      "t 통계량 : [3.379]\n",
      "임계값 : 2.262\n",
      "p_value가 유의수준 0.05보다 작고, t 검정 통계량이 임계값보다 높기 때문에 귀무가설을 기각한다.\n",
      "즉, 개선활동이 만족도를 변화시켰다고 할 수 있다.\n"
     ]
    }
   ],
   "source": [
    "df = pd.DataFrame({'sample': [85.0, 79.0, 79.1, 79.9, 81.6, 78.6, 85.4, 83.4, 78.1, 79.2]})\n",
    "\n",
    "\n",
    "from scipy.stats import shapiro\n",
    "print(shapiro(df))\n",
    "print(\"정규성 검정의 p_value가 0.054로 유의수준 0.05보다 크므로 귀무가설인 정규성을 만족한다. 따라서 모두통계분석을 할 수 있다.\")\n",
    "\n",
    "t_result = stats.ttest_1samp(df, 78.0)\n",
    "\n",
    "t,p = t_result.statistic.round(3), t_result.pvalue.round(3)\n",
    "\n",
    "print(\"1-Sample t-test\\n\")\n",
    "\n",
    "print(\"귀무가설Ho : 고객만족도 평균은  78.0이다. x_bar = 78.0\")\n",
    "print(\"대립가설H1 : 고객만족도 평균은 78.0이 아니다. 즉, 개선활동이 만족도를 변화시켰다. x_bar != 78.0\\n\")\n",
    "\n",
    "alpha = 0.05\n",
    "t_alpha_2 = stats.t.ppf(0.975,9).round(3)\n",
    "\n",
    "print(\"유의수준: {}\".format(alpha))\n",
    "print(\"p_value : {}\".format(p))\n",
    "print(\"t 통계량 : {}\".format(t))\n",
    "print(\"임계값 : {}\".format(t_alpha_2))\n",
    "\n",
    "print(\"p_value가 유의수준 0.05보다 작고, t 검정 통계량이 임계값보다 높기 때문에 귀무가설을 기각한다.\")\n",
    "print(\"즉, 개선활동이 만족도를 변화시켰다고 할 수 있다.\")\n"
   ]
  },
  {
   "cell_type": "code",
   "execution_count": null,
   "metadata": {},
   "outputs": [],
   "source": [
    "\n"
   ]
  }
 ],
 "metadata": {
  "kernelspec": {
   "display_name": "Python 3",
   "language": "python",
   "name": "python3"
  },
  "language_info": {
   "codemirror_mode": {
    "name": "ipython",
    "version": 3
   },
   "file_extension": ".py",
   "mimetype": "text/x-python",
   "name": "python",
   "nbconvert_exporter": "python",
   "pygments_lexer": "ipython3",
   "version": "3.7.4"
  }
 },
 "nbformat": 4,
 "nbformat_minor": 2
}
