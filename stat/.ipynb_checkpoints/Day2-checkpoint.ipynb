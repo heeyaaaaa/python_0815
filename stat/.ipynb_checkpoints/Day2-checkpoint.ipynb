{
 "cells": [
  {
   "cell_type": "markdown",
   "metadata": {},
   "source": [
    "# 이항분포"
   ]
  },
  {
   "cell_type": "code",
   "execution_count": 1,
   "metadata": {},
   "outputs": [],
   "source": [
    "import numpy as np\n",
    "from scipy import stats\n",
    "import scipy.stats\n",
    "import pandas as pd\n",
    "import statsmodels.api as sm\n",
    "\n",
    "import matplotlib.pyplot as plt\n",
    "import matplotlib\n",
    "matplotlib.rc('axes',unicode_minus = False)\n",
    "\n",
    "\n",
    "\n",
    "import seaborn as sns\n",
    "from statsmodels.stats.proportion import proportions_ztest"
   ]
  },
  {
   "cell_type": "code",
   "execution_count": 3,
   "metadata": {},
   "outputs": [
    {
     "name": "stdout",
     "output_type": "stream",
     "text": [
      "P(X = 0) = 0.216\n",
      "P(X = 1) = 0.432\n",
      "P(X = 2) = 0.288\n",
      "P(X = 3) = 0.064\n"
     ]
    }
   ],
   "source": [
    "n = 3\n",
    "\n",
    "for i in range(n+1):\n",
    "    prob = stats.binom.pmf(k=i, n=n, p = 0.4)\n",
    "    print(\"P(X = %d) = %.3f\" %(i, prob))"
   ]
  },
  {
   "cell_type": "code",
   "execution_count": 4,
   "metadata": {},
   "outputs": [
    {
     "name": "stdout",
     "output_type": "stream",
     "text": [
      "P(X = 0) = 0.168\n",
      "P(X = 1) = 0.360\n",
      "P(X = 2) = 0.309\n",
      "P(X = 3) = 0.132\n",
      "P(X = 4) = 0.028\n",
      "P(X = 5) = 0.002\n"
     ]
    }
   ],
   "source": [
    "n = 5\n",
    "\n",
    "for i in range(n+1):\n",
    "    prob = stats.binom.pmf(k=i, n=n, p = 0.3)\n",
    "    print(\"P(X = %d) = %.3f\" %(i, prob))"
   ]
  },
  {
   "cell_type": "markdown",
   "metadata": {},
   "source": [
    "# 포아송 분포"
   ]
  },
  {
   "cell_type": "code",
   "execution_count": 15,
   "metadata": {},
   "outputs": [
    {
     "name": "stdout",
     "output_type": "stream",
     "text": [
      "1분당 3번의 전화가 걸려올 확률: 18.0%\n",
      "1분당 최대 2회 이하의 전화가 걸려올 확률: 67.7%\n",
      "1분당 2회 초과 전화가 걸려올 확률: 32.3%\n",
      "1분당 2회 이상의 전화가 걸려올 확률: 59.4%\n"
     ]
    }
   ],
   "source": [
    "mu = 2\n",
    "\n",
    "prob = stats.poisson.pmf(3,mu)\n",
    "\n",
    "cdf_prob = stats.poisson.cdf(2,mu)\n",
    "\n",
    "print(\"1분당 %d번의 전화가 걸려올 확률: %.1f%%\" %(3, prob*100))\n",
    "print(\"1분당 최대 %d회 이하의 전화가 걸려올 확률: %.1f%%\" %(2,cdf_prob*100))\n",
    "print(\"1분당 %d회 초과 전화가 걸려올 확률: %.1f%%\" %(2,(1-cdf_prob)*100))\n",
    "\n",
    "cdf_prob = stats.poisson.cdf(1,mu)\n",
    "print(\"1분당 %d회 이상의 전화가 걸려올 확률: %.1f%%\" %(2,(1-cdf_prob)*100))"
   ]
  },
  {
   "cell_type": "code",
   "execution_count": 14,
   "metadata": {},
   "outputs": [
    {
     "name": "stdout",
     "output_type": "stream",
     "text": [
      "1시간에 2명의 손님이 도착할 확률: 22.4%\n",
      "1시간에 1명 이하의 손님이 도착할 확률: 19.9%\n",
      "1시간에 3명 이상의 손님이 도착할 확률: 57.7%\n"
     ]
    }
   ],
   "source": [
    "mu = 3\n",
    "\n",
    "prob = stats.poisson.pmf(2,mu)\n",
    "\n",
    "cdf_prob = stats.poisson.cdf(1,mu)\n",
    "\n",
    "print(\"1시간에 %d명의 손님이 도착할 확률: %.1f%%\" %(2, prob*100))\n",
    "print(\"1시간에 %d명 이하의 손님이 도착할 확률: %.1f%%\" %(1,cdf_prob*100))\n",
    "\n",
    "cdf_prob = stats.poisson.cdf(2,mu)\n",
    "print(\"1시간에 %d명 이상의 손님이 도착할 확률: %.1f%%\" %(3,(1-cdf_prob)*100))"
   ]
  },
  {
   "cell_type": "markdown",
   "metadata": {},
   "source": [
    "# 정규성 검정"
   ]
  },
  {
   "cell_type": "code",
   "execution_count": 16,
   "metadata": {},
   "outputs": [
    {
     "data": {
      "text/html": [
       "<div>\n",
       "<style scoped>\n",
       "    .dataframe tbody tr th:only-of-type {\n",
       "        vertical-align: middle;\n",
       "    }\n",
       "\n",
       "    .dataframe tbody tr th {\n",
       "        vertical-align: top;\n",
       "    }\n",
       "\n",
       "    .dataframe thead th {\n",
       "        text-align: right;\n",
       "    }\n",
       "</style>\n",
       "<table border=\"1\" class=\"dataframe\">\n",
       "  <thead>\n",
       "    <tr style=\"text-align: right;\">\n",
       "      <th></th>\n",
       "      <th>Length</th>\n",
       "      <th>Supp1</th>\n",
       "      <th>Supp2</th>\n",
       "    </tr>\n",
       "  </thead>\n",
       "  <tbody>\n",
       "    <tr>\n",
       "      <td>0</td>\n",
       "      <td>601.4</td>\n",
       "      <td>598.0</td>\n",
       "      <td>601.6</td>\n",
       "    </tr>\n",
       "    <tr>\n",
       "      <td>1</td>\n",
       "      <td>601.6</td>\n",
       "      <td>599.8</td>\n",
       "      <td>600.4</td>\n",
       "    </tr>\n",
       "    <tr>\n",
       "      <td>2</td>\n",
       "      <td>598.0</td>\n",
       "      <td>600.0</td>\n",
       "      <td>598.4</td>\n",
       "    </tr>\n",
       "    <tr>\n",
       "      <td>3</td>\n",
       "      <td>601.4</td>\n",
       "      <td>599.8</td>\n",
       "      <td>600.0</td>\n",
       "    </tr>\n",
       "    <tr>\n",
       "      <td>4</td>\n",
       "      <td>599.4</td>\n",
       "      <td>600.0</td>\n",
       "      <td>596.8</td>\n",
       "    </tr>\n",
       "  </tbody>\n",
       "</table>\n",
       "</div>"
      ],
      "text/plain": [
       "   Length  Supp1  Supp2\n",
       "0   601.4  598.0  601.6\n",
       "1   601.6  599.8  600.4\n",
       "2   598.0  600.0  598.4\n",
       "3   601.4  599.8  600.0\n",
       "4   599.4  600.0  596.8"
      ]
     },
     "execution_count": 16,
     "metadata": {},
     "output_type": "execute_result"
    }
   ],
   "source": [
    "from scipy.stats import shapiro\n",
    "\n",
    "ds_camshaft = pd.read_csv(\"camshaft.csv\", engine = 'python')\n",
    "ds_camshaft.head()"
   ]
  },
  {
   "cell_type": "code",
   "execution_count": 17,
   "metadata": {},
   "outputs": [
    {
     "data": {
      "text/plain": [
       "(0.9788156747817993, 0.10744144767522812)"
      ]
     },
     "execution_count": 17,
     "metadata": {},
     "output_type": "execute_result"
    }
   ],
   "source": [
    "data1 = ds_camshaft['Supp1']\n",
    "shapiro(data1)\n",
    "# 검정 통계량값 , p_value = 0.05보다 크기 때문에 정규성 만족 -> 모수 통계를 쓸 수 있음"
   ]
  },
  {
   "cell_type": "code",
   "execution_count": 18,
   "metadata": {},
   "outputs": [
    {
     "data": {
      "text/html": [
       "<div>\n",
       "<style scoped>\n",
       "    .dataframe tbody tr th:only-of-type {\n",
       "        vertical-align: middle;\n",
       "    }\n",
       "\n",
       "    .dataframe tbody tr th {\n",
       "        vertical-align: top;\n",
       "    }\n",
       "\n",
       "    .dataframe thead th {\n",
       "        text-align: right;\n",
       "    }\n",
       "</style>\n",
       "<table border=\"1\" class=\"dataframe\">\n",
       "  <thead>\n",
       "    <tr style=\"text-align: right;\">\n",
       "      <th></th>\n",
       "      <th>Mat_A</th>\n",
       "      <th>Mat_B</th>\n",
       "      <th>Total</th>\n",
       "      <th>Sub</th>\n",
       "    </tr>\n",
       "  </thead>\n",
       "  <tbody>\n",
       "    <tr>\n",
       "      <td>0</td>\n",
       "      <td>73.4</td>\n",
       "      <td>68.7</td>\n",
       "      <td>73.4</td>\n",
       "      <td>1</td>\n",
       "    </tr>\n",
       "    <tr>\n",
       "      <td>1</td>\n",
       "      <td>77.0</td>\n",
       "      <td>71.4</td>\n",
       "      <td>77.0</td>\n",
       "      <td>1</td>\n",
       "    </tr>\n",
       "    <tr>\n",
       "      <td>2</td>\n",
       "      <td>73.7</td>\n",
       "      <td>69.8</td>\n",
       "      <td>73.7</td>\n",
       "      <td>1</td>\n",
       "    </tr>\n",
       "    <tr>\n",
       "      <td>3</td>\n",
       "      <td>73.3</td>\n",
       "      <td>75.3</td>\n",
       "      <td>73.3</td>\n",
       "      <td>1</td>\n",
       "    </tr>\n",
       "    <tr>\n",
       "      <td>4</td>\n",
       "      <td>73.1</td>\n",
       "      <td>71.3</td>\n",
       "      <td>73.1</td>\n",
       "      <td>1</td>\n",
       "    </tr>\n",
       "  </tbody>\n",
       "</table>\n",
       "</div>"
      ],
      "text/plain": [
       "   Mat_A  Mat_B  Total  Sub\n",
       "0   73.4   68.7   73.4    1\n",
       "1   77.0   71.4   77.0    1\n",
       "2   73.7   69.8   73.7    1\n",
       "3   73.3   75.3   73.3    1\n",
       "4   73.1   71.3   73.1    1"
      ]
     },
     "execution_count": 18,
     "metadata": {},
     "output_type": "execute_result"
    }
   ],
   "source": [
    "t_sample = pd.read_csv(\"2sample_t_test.csv\", engine = 'python')\n",
    "t_sample.head()"
   ]
  },
  {
   "cell_type": "code",
   "execution_count": 27,
   "metadata": {},
   "outputs": [
    {
     "data": {
      "text/plain": [
       "(0.9062636494636536, 0.2562994360923767)"
      ]
     },
     "execution_count": 27,
     "metadata": {},
     "output_type": "execute_result"
    }
   ],
   "source": [
    "data = t_sample['Mat_A'].dropna()\n",
    "shapiro(data)"
   ]
  },
  {
   "cell_type": "code",
   "execution_count": 28,
   "metadata": {},
   "outputs": [
    {
     "data": {
      "text/plain": [
       "(0.9729753732681274, 0.9169777035713196)"
      ]
     },
     "execution_count": 28,
     "metadata": {},
     "output_type": "execute_result"
    }
   ],
   "source": [
    "data = t_sample['Mat_B'].dropna()\n",
    "shapiro(data)"
   ]
  },
  {
   "cell_type": "code",
   "execution_count": 26,
   "metadata": {},
   "outputs": [
    {
     "data": {
      "text/html": [
       "<div>\n",
       "<style scoped>\n",
       "    .dataframe tbody tr th:only-of-type {\n",
       "        vertical-align: middle;\n",
       "    }\n",
       "\n",
       "    .dataframe tbody tr th {\n",
       "        vertical-align: top;\n",
       "    }\n",
       "\n",
       "    .dataframe thead th {\n",
       "        text-align: right;\n",
       "    }\n",
       "</style>\n",
       "<table border=\"1\" class=\"dataframe\">\n",
       "  <thead>\n",
       "    <tr style=\"text-align: right;\">\n",
       "      <th></th>\n",
       "      <th>Mat_A</th>\n",
       "      <th>Mat_B</th>\n",
       "      <th>Total</th>\n",
       "      <th>Sub</th>\n",
       "    </tr>\n",
       "  </thead>\n",
       "  <tbody>\n",
       "    <tr>\n",
       "      <td>0</td>\n",
       "      <td>73.4</td>\n",
       "      <td>68.7</td>\n",
       "      <td>73.4</td>\n",
       "      <td>1</td>\n",
       "    </tr>\n",
       "    <tr>\n",
       "      <td>1</td>\n",
       "      <td>77.0</td>\n",
       "      <td>71.4</td>\n",
       "      <td>77.0</td>\n",
       "      <td>1</td>\n",
       "    </tr>\n",
       "    <tr>\n",
       "      <td>2</td>\n",
       "      <td>73.7</td>\n",
       "      <td>69.8</td>\n",
       "      <td>73.7</td>\n",
       "      <td>1</td>\n",
       "    </tr>\n",
       "    <tr>\n",
       "      <td>3</td>\n",
       "      <td>73.3</td>\n",
       "      <td>75.3</td>\n",
       "      <td>73.3</td>\n",
       "      <td>1</td>\n",
       "    </tr>\n",
       "    <tr>\n",
       "      <td>4</td>\n",
       "      <td>73.1</td>\n",
       "      <td>71.3</td>\n",
       "      <td>73.1</td>\n",
       "      <td>1</td>\n",
       "    </tr>\n",
       "    <tr>\n",
       "      <td>5</td>\n",
       "      <td>71.5</td>\n",
       "      <td>72.7</td>\n",
       "      <td>71.5</td>\n",
       "      <td>1</td>\n",
       "    </tr>\n",
       "    <tr>\n",
       "      <td>6</td>\n",
       "      <td>74.5</td>\n",
       "      <td>66.9</td>\n",
       "      <td>74.5</td>\n",
       "      <td>1</td>\n",
       "    </tr>\n",
       "    <tr>\n",
       "      <td>7</td>\n",
       "      <td>77.5</td>\n",
       "      <td>70.2</td>\n",
       "      <td>77.5</td>\n",
       "      <td>1</td>\n",
       "    </tr>\n",
       "    <tr>\n",
       "      <td>8</td>\n",
       "      <td>76.4</td>\n",
       "      <td>74.4</td>\n",
       "      <td>76.4</td>\n",
       "      <td>1</td>\n",
       "    </tr>\n",
       "    <tr>\n",
       "      <td>9</td>\n",
       "      <td>77.7</td>\n",
       "      <td>70.1</td>\n",
       "      <td>77.7</td>\n",
       "      <td>1</td>\n",
       "    </tr>\n",
       "    <tr>\n",
       "      <td>10</td>\n",
       "      <td>NaN</td>\n",
       "      <td>NaN</td>\n",
       "      <td>68.7</td>\n",
       "      <td>2</td>\n",
       "    </tr>\n",
       "    <tr>\n",
       "      <td>11</td>\n",
       "      <td>NaN</td>\n",
       "      <td>NaN</td>\n",
       "      <td>71.4</td>\n",
       "      <td>2</td>\n",
       "    </tr>\n",
       "    <tr>\n",
       "      <td>12</td>\n",
       "      <td>NaN</td>\n",
       "      <td>NaN</td>\n",
       "      <td>69.8</td>\n",
       "      <td>2</td>\n",
       "    </tr>\n",
       "    <tr>\n",
       "      <td>13</td>\n",
       "      <td>NaN</td>\n",
       "      <td>NaN</td>\n",
       "      <td>75.3</td>\n",
       "      <td>2</td>\n",
       "    </tr>\n",
       "    <tr>\n",
       "      <td>14</td>\n",
       "      <td>NaN</td>\n",
       "      <td>NaN</td>\n",
       "      <td>71.3</td>\n",
       "      <td>2</td>\n",
       "    </tr>\n",
       "    <tr>\n",
       "      <td>15</td>\n",
       "      <td>NaN</td>\n",
       "      <td>NaN</td>\n",
       "      <td>72.7</td>\n",
       "      <td>2</td>\n",
       "    </tr>\n",
       "    <tr>\n",
       "      <td>16</td>\n",
       "      <td>NaN</td>\n",
       "      <td>NaN</td>\n",
       "      <td>66.9</td>\n",
       "      <td>2</td>\n",
       "    </tr>\n",
       "    <tr>\n",
       "      <td>17</td>\n",
       "      <td>NaN</td>\n",
       "      <td>NaN</td>\n",
       "      <td>70.2</td>\n",
       "      <td>2</td>\n",
       "    </tr>\n",
       "    <tr>\n",
       "      <td>18</td>\n",
       "      <td>NaN</td>\n",
       "      <td>NaN</td>\n",
       "      <td>74.4</td>\n",
       "      <td>2</td>\n",
       "    </tr>\n",
       "    <tr>\n",
       "      <td>19</td>\n",
       "      <td>NaN</td>\n",
       "      <td>NaN</td>\n",
       "      <td>70.1</td>\n",
       "      <td>2</td>\n",
       "    </tr>\n",
       "  </tbody>\n",
       "</table>\n",
       "</div>"
      ],
      "text/plain": [
       "    Mat_A  Mat_B  Total  Sub\n",
       "0    73.4   68.7   73.4    1\n",
       "1    77.0   71.4   77.0    1\n",
       "2    73.7   69.8   73.7    1\n",
       "3    73.3   75.3   73.3    1\n",
       "4    73.1   71.3   73.1    1\n",
       "5    71.5   72.7   71.5    1\n",
       "6    74.5   66.9   74.5    1\n",
       "7    77.5   70.2   77.5    1\n",
       "8    76.4   74.4   76.4    1\n",
       "9    77.7   70.1   77.7    1\n",
       "10    NaN    NaN   68.7    2\n",
       "11    NaN    NaN   71.4    2\n",
       "12    NaN    NaN   69.8    2\n",
       "13    NaN    NaN   75.3    2\n",
       "14    NaN    NaN   71.3    2\n",
       "15    NaN    NaN   72.7    2\n",
       "16    NaN    NaN   66.9    2\n",
       "17    NaN    NaN   70.2    2\n",
       "18    NaN    NaN   74.4    2\n",
       "19    NaN    NaN   70.1    2"
      ]
     },
     "execution_count": 26,
     "metadata": {},
     "output_type": "execute_result"
    }
   ],
   "source": [
    "t_sample"
   ]
  },
  {
   "cell_type": "markdown",
   "metadata": {},
   "source": [
    "# 모평균 신뢰구간"
   ]
  },
  {
   "cell_type": "code",
   "execution_count": 29,
   "metadata": {},
   "outputs": [
    {
     "data": {
      "text/html": [
       "<div>\n",
       "<style scoped>\n",
       "    .dataframe tbody tr th:only-of-type {\n",
       "        vertical-align: middle;\n",
       "    }\n",
       "\n",
       "    .dataframe tbody tr th {\n",
       "        vertical-align: top;\n",
       "    }\n",
       "\n",
       "    .dataframe thead th {\n",
       "        text-align: right;\n",
       "    }\n",
       "</style>\n",
       "<table border=\"1\" class=\"dataframe\">\n",
       "  <thead>\n",
       "    <tr style=\"text-align: right;\">\n",
       "      <th></th>\n",
       "      <th>sample</th>\n",
       "    </tr>\n",
       "  </thead>\n",
       "  <tbody>\n",
       "    <tr>\n",
       "      <td>0</td>\n",
       "      <td>3.6</td>\n",
       "    </tr>\n",
       "    <tr>\n",
       "      <td>1</td>\n",
       "      <td>2.9</td>\n",
       "    </tr>\n",
       "    <tr>\n",
       "      <td>2</td>\n",
       "      <td>2.8</td>\n",
       "    </tr>\n",
       "    <tr>\n",
       "      <td>3</td>\n",
       "      <td>2.6</td>\n",
       "    </tr>\n",
       "    <tr>\n",
       "      <td>4</td>\n",
       "      <td>3.4</td>\n",
       "    </tr>\n",
       "  </tbody>\n",
       "</table>\n",
       "</div>"
      ],
      "text/plain": [
       "   sample\n",
       "0     3.6\n",
       "1     2.9\n",
       "2     2.8\n",
       "3     2.6\n",
       "4     3.4"
      ]
     },
     "execution_count": 29,
     "metadata": {},
     "output_type": "execute_result"
    }
   ],
   "source": [
    "df = pd.DataFrame({\"sample\" : [3.6, 2.9, 2.8, 2.6, 3.4, 3.2, 2.2, 2.6, 2.6, 2.4, \n",
    "                               2.4, 2.6, 3.4, 2.4, 2.1, 2.6, 3.0, 2.4, 2.7, 2.4, \n",
    "                               2.6, 2.9, 2.9, 2.0, 2.7, 2.2, 2.8, 2.7, 1.8, 2.5, \n",
    "                               3.0, 3.2, 2.8, 2.6, 3.2, 3.1, 2.9, 2.7, 2.7, 2.2 ] })\n",
    "df.head()"
   ]
  },
  {
   "cell_type": "code",
   "execution_count": 33,
   "metadata": {},
   "outputs": [
    {
     "name": "stdout",
     "output_type": "stream",
     "text": [
      "신뢰구간: (2.57,2.82)\n"
     ]
    }
   ],
   "source": [
    "lower, upper = stats.norm.interval(0.95, loc = np.mean(df), scale = 0.397/np.sqrt(40))\n",
    "print(\"신뢰구간: (%.2f,%.2f)\"  %(lower, upper))"
   ]
  },
  {
   "cell_type": "code",
   "execution_count": 34,
   "metadata": {},
   "outputs": [
    {
     "name": "stdout",
     "output_type": "stream",
     "text": [
      "신뢰구간: (17.83,21.17)\n"
     ]
    }
   ],
   "source": [
    "df = pd.DataFrame({\"sample\" : [18, 18, 20, 21, 20, 23, 19, 18, 17, 21,\n",
    "                              22, 20, 20, 21, 20, 19, 19, 18, 17, 19]})\n",
    "lower, upper = stats.norm.interval(0.95, loc = np.mean(df), scale = 3.8/np.sqrt(20))\n",
    "print(\"신뢰구간: (%.2f,%.2f)\"  %(lower, upper))"
   ]
  },
  {
   "cell_type": "markdown",
   "metadata": {},
   "source": [
    "# t분포 신뢰구간"
   ]
  },
  {
   "cell_type": "code",
   "execution_count": 35,
   "metadata": {},
   "outputs": [
    {
     "name": "stdout",
     "output_type": "stream",
     "text": [
      "신뢰구간: (54.39,55.33)\n"
     ]
    }
   ],
   "source": [
    "df = pd.DataFrame({\"sample\" : [54.1, 53.3, 56.1, 55.7, 54.0, 54.1, 54.5, 57.1, 55.2, 53.8,\n",
    "                              54.1, 54.1, 56.1, 55.0, 55.9, 56.0, 54.9, 54.3, 53.9, 55.0]})\n",
    "\n",
    "lower, upper = stats.t.interval(0.95, len(df)-1, loc = np.mean(df), scale = scipy.stats.sem(df))\n",
    "print(\"신뢰구간: (%.2f,%.2f)\"  %(lower, upper))"
   ]
  },
  {
   "cell_type": "code",
   "execution_count": 36,
   "metadata": {},
   "outputs": [
    {
     "data": {
      "text/plain": [
       "array([0.2254119])"
      ]
     },
     "execution_count": 36,
     "metadata": {},
     "output_type": "execute_result"
    }
   ],
   "source": [
    "scipy.stats.sem(df)"
   ]
  },
  {
   "cell_type": "code",
   "execution_count": 38,
   "metadata": {},
   "outputs": [
    {
     "data": {
      "text/plain": [
       "0.22541801281175378"
      ]
     },
     "execution_count": 38,
     "metadata": {},
     "output_type": "execute_result"
    }
   ],
   "source": [
    "1.0081/np.sqrt(20)"
   ]
  },
  {
   "cell_type": "code",
   "execution_count": 39,
   "metadata": {},
   "outputs": [
    {
     "name": "stdout",
     "output_type": "stream",
     "text": [
      "신뢰구간: (70.60,72.40)\n"
     ]
    }
   ],
   "source": [
    "df = pd.DataFrame({\"sample\" : [73, 71, 74, 69, 70, 73, 70, 68, 75, 72,\n",
    "                              70, 72, 73, 70, 70, 72, 71, 70, 75, 72]})\n",
    "\n",
    "lower, upper = stats.t.interval(0.95, len(df)-1, loc = np.mean(df), scale = scipy.stats.sem(df))\n",
    "print(\"신뢰구간: (%.2f,%.2f)\"  %(lower, upper))"
   ]
  },
  {
   "cell_type": "markdown",
   "metadata": {},
   "source": [
    "# 모분산 신뢰구간"
   ]
  },
  {
   "cell_type": "code",
   "execution_count": 75,
   "metadata": {},
   "outputs": [
    {
     "name": "stdout",
     "output_type": "stream",
     "text": [
      "신뢰구간: (2.74,13.95)\n"
     ]
    }
   ],
   "source": [
    "df = pd.DataFrame({\"sample\" : [226, 228, 226, 225, 232, 228, 227, 229, 225, 230]})\n",
    "\n",
    "alpha = 0.1\n",
    "n = len(df)\n",
    "s = np.var(df['sample'], ddof = 1)\n",
    "df = n-1\n",
    "\n",
    "upper = (n-1)*s / stats.chi2.ppf(alpha/2, df)\n",
    "lower = (n-1)*s / stats.chi2.ppf(1-alpha/2, df)\n",
    "\n",
    "print(\"신뢰구간: (%.2f,%.2f)\"  %(lower, upper))"
   ]
  },
  {
   "cell_type": "code",
   "execution_count": 73,
   "metadata": {},
   "outputs": [
    {
     "data": {
      "text/plain": [
       "16.919"
      ]
     },
     "execution_count": 73,
     "metadata": {},
     "output_type": "execute_result"
    }
   ],
   "source": [
    "stats.chi2.ppf(1-alpha/2, df).round(3)"
   ]
  },
  {
   "cell_type": "code",
   "execution_count": 66,
   "metadata": {},
   "outputs": [
    {
     "name": "stdout",
     "output_type": "stream",
     "text": [
      "신뢰구간: (11.07,24.64)\n"
     ]
    }
   ],
   "source": [
    "df = pd.DataFrame({\"sample\" : [12, 9, 10, 5, 16,\n",
    "                              13, 5, 9, 8, 13,\n",
    "                              16, 12, 12, 4, 14,\n",
    "                              9, 11, 14, 9, 17,\n",
    "                              5, 8, 9, 6, 11,\n",
    "                              19, 6, 6, 8, 9,\n",
    "                               13, 10, 8, 13, 19,\n",
    "                               8, 12, 14, 16, 16,\n",
    "                               11, 17, 5, 9, 12,\n",
    "                               17, 11, 8, 5, 8]})\n",
    "alpha = 0.05\n",
    "n = len(df)\n",
    "s = np.var(df['sample'], ddof = 1)\n",
    "df = n-1\n",
    "\n",
    "upper = (n-1)*s / stats.chi2.ppf(alpha/2, df)\n",
    "lower = (n-1)*s / stats.chi2.ppf(1-alpha/2, df)\n",
    "\n",
    "print(\"신뢰구간: (%.2f,%.2f)\"  %(lower, upper))"
   ]
  },
  {
   "cell_type": "markdown",
   "metadata": {},
   "source": [
    "# 모비율 신뢰구간"
   ]
  },
  {
   "cell_type": "code",
   "execution_count": 80,
   "metadata": {},
   "outputs": [
    {
     "name": "stdout",
     "output_type": "stream",
     "text": [
      "신뢰구간: (0.05,0.07)\n"
     ]
    }
   ],
   "source": [
    "p = 96/1600\n",
    "n=1600\n",
    "z_alpha = stats.norm.ppf(0.95,0,1)\n",
    "lower , upper =  p - z_alpha*np.sqrt(p*(1-p)/n), p + z_alpha*np.sqrt(p*(1-p)/n)\n",
    "\n",
    "print(\"신뢰구간: (%.2f,%.2f)\"  %(lower, upper))"
   ]
  },
  {
   "cell_type": "code",
   "execution_count": 87,
   "metadata": {},
   "outputs": [
    {
     "name": "stdout",
     "output_type": "stream",
     "text": [
      "신뢰구간: (0.07,0.29)\n"
     ]
    }
   ],
   "source": [
    "df = pd.DataFrame({\"sample\" : [12, 9, 10, 5, 16,\n",
    "                              13, 5, 9, 8, 13,\n",
    "                              16, 12, 12, 4, 14,\n",
    "                              9, 11, 14, 9, 17,\n",
    "                              5, 8, 9, 6, 11,\n",
    "                              19, 6, 6, 8, 9,\n",
    "                               13, 10, 8, 13, 19,\n",
    "                               8, 12, 14, 16, 16,\n",
    "                               11, 17, 5, 9, 12,\n",
    "                               17, 11, 8, 5, 8]})\n",
    "p = sum(df['sample']>15)/len(df)\n",
    "n = 50\n",
    "z_alpha = stats.norm.ppf(0.975,0,1)\n",
    "lower, upper = p - z_alpha*np.sqrt(p*(1-p)/n), p + z_alpha*np.sqrt(p*(1-p)/n)\n",
    "\n",
    "print(\"신뢰구간: (%.2f,%.2f)\"  %(lower, upper))"
   ]
  },
  {
   "cell_type": "code",
   "execution_count": 90,
   "metadata": {},
   "outputs": [
    {
     "data": {
      "text/plain": [
       "-2.262157162740992"
      ]
     },
     "execution_count": 90,
     "metadata": {},
     "output_type": "execute_result"
    }
   ],
   "source": [
    "stats.t.ppf(0.025,9)"
   ]
  },
  {
   "cell_type": "markdown",
   "metadata": {},
   "source": [
    "# one sample t-test"
   ]
  },
  {
   "cell_type": "code",
   "execution_count": 93,
   "metadata": {},
   "outputs": [
    {
     "name": "stdout",
     "output_type": "stream",
     "text": [
      "(0.9331598281860352, 0.4796823561191559)\n",
      "1-Sample t-test\n",
      "t 통계량 : [0.864]\n",
      "p value : [0.41]\n"
     ]
    }
   ],
   "source": [
    "df = pd.DataFrame({'sample': [74.5, 81.2, 73.8, 82.0, 76.3, 75.7, 80.2, 72.6, 77.9, 82.8]})\n",
    "\n",
    "print(shapiro(df))\n",
    "\n",
    "t_result = stats.ttest_1samp(df, 76.7)\n",
    "\n",
    "t,p = t_result.statistic.round(3), t_result.pvalue.round(3)\n",
    "\n",
    "print(\"1-Sample t-test\")\n",
    "print(\"t 통계량 : {}\".format(t))\n",
    "print(\"p value : {}\".format(p))"
   ]
  },
  {
   "cell_type": "code",
   "execution_count": null,
   "metadata": {},
   "outputs": [],
   "source": []
  }
 ],
 "metadata": {
  "kernelspec": {
   "display_name": "Python 3",
   "language": "python",
   "name": "python3"
  },
  "language_info": {
   "codemirror_mode": {
    "name": "ipython",
    "version": 3
   },
   "file_extension": ".py",
   "mimetype": "text/x-python",
   "name": "python",
   "nbconvert_exporter": "python",
   "pygments_lexer": "ipython3",
   "version": "3.7.4"
  }
 },
 "nbformat": 4,
 "nbformat_minor": 2
}
