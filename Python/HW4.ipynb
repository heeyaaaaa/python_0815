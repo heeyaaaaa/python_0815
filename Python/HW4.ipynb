{
 "cells": [
  {
   "cell_type": "markdown",
   "metadata": {},
   "source": [
    "# 과제1"
   ]
  },
  {
   "cell_type": "code",
   "execution_count": 3,
   "metadata": {},
   "outputs": [
    {
     "name": "stdout",
     "output_type": "stream",
     "text": [
      "13는 소수입니다.\n",
      "15는 소수가 아닙니다.\n"
     ]
    }
   ],
   "source": [
    "def check_prime(num):\n",
    "    result = True\n",
    "    for i in range(2,num):\n",
    "        if num%i == 0:\n",
    "            result = False\n",
    "            break\n",
    "    return result\n",
    "\n",
    "def main():\n",
    "    a = 13\n",
    "    b = 15\n",
    "    if check_prime(a):\n",
    "        print(str(a)+'는 소수입니다.')\n",
    "    else:\n",
    "        print(str(a)+'는 소수가 아닙니다.')\n",
    "    if check_prime(b):\n",
    "        print(str(b)+'는 소수입니다.')\n",
    "    else:\n",
    "        print(str(b)+'는 소수가 아닙니다.')\n",
    "\n",
    "\n",
    "if __name__ == '__main__':\n",
    "    main()"
   ]
  },
  {
   "cell_type": "markdown",
   "metadata": {},
   "source": [
    "# 과제2"
   ]
  },
  {
   "cell_type": "code",
   "execution_count": 4,
   "metadata": {},
   "outputs": [
    {
     "name": "stdout",
     "output_type": "stream",
     "text": [
      "1,234\n",
      "12,345,678\n",
      "12\n"
     ]
    }
   ],
   "source": [
    "def add_comma(val):\n",
    "    num = list(str(val))\n",
    "    \n",
    "    if len(num)%3==0:\n",
    "        comma_cnt = len(num)//3-1\n",
    "    else:\n",
    "        comma_cnt = len(num)//3\n",
    "    \n",
    "    total = len(num)+comma_cnt\n",
    "    \n",
    "    if len(num)%3==0:\n",
    "        start_comma = 3\n",
    "    else:\n",
    "        start_comma = len(num)%3\n",
    "    \n",
    "    for i in range(start_comma, total, 4):\n",
    "        num.insert(i,',')\n",
    "    \n",
    "    result=''\n",
    "    for i in num:\n",
    "         result+=i\n",
    "    return result\n",
    "\n",
    "\n",
    "def main():\n",
    "    comma_added_1234 = add_comma(1234)\n",
    "    comma_added_12345678 = add_comma(12345678)\n",
    "    comma_added_12 = add_comma(12)\n",
    "    \n",
    "    print(comma_added_1234)\n",
    "    print(comma_added_12345678)\n",
    "    print(comma_added_12)\n",
    "\n",
    "if __name__ == '__main__':\n",
    "    main()"
   ]
  },
  {
   "cell_type": "markdown",
   "metadata": {},
   "source": [
    "# 과제3"
   ]
  },
  {
   "cell_type": "code",
   "execution_count": 18,
   "metadata": {},
   "outputs": [
    {
     "name": "stdout",
     "output_type": "stream",
     "text": [
      "['There', 'was', 'a', 'farmer', 'who', 'had', 'a', 'dog', '.']\n",
      "['There was', 'was a', 'a farmer', 'farmer who', 'who had', 'had a', 'a dog', 'dog .']\n"
     ]
    }
   ],
   "source": [
    "def tokenize(trg,N=1):\n",
    "    s = trg.split(' ')\n",
    "    t = []\n",
    "    a = ' '\n",
    "    for i in range(len(s)-N+1):\n",
    "        t.append(a.join(s[i:i+N]))\n",
    "    return t\n",
    "    \n",
    "def main():\n",
    "    a = \"There was a farmer who had a dog .\"\n",
    "    print(tokenize(a))\n",
    "    print(tokenize(a,2))\n",
    "if __name__ == '__main__':\n",
    "    main()    "
   ]
  },
  {
   "cell_type": "markdown",
   "metadata": {},
   "source": [
    "# 과제 4"
   ]
  },
  {
   "cell_type": "code",
   "execution_count": 6,
   "metadata": {},
   "outputs": [
    {
     "name": "stdout",
     "output_type": "stream",
     "text": [
      "평균: (0.5, 0.5) 분산: (0.16666666666666666, 0.16666666666666666)\n"
     ]
    }
   ],
   "source": [
    "def mean_and_var(*val):\n",
    "    x=[];y=[]\n",
    "    for v in val :\n",
    "        x.append(v[0])\n",
    "        y.append(v[1])\n",
    "    \n",
    "    mean = sum(x)/len(x), sum(y)/len(y)\n",
    "    \n",
    "    Sum_x = 0; Sum_y = 0\n",
    "    \n",
    "    for i in x:\n",
    "        Sum_x +=(i-mean[0])**2\n",
    "    \n",
    "    for i in y:\n",
    "        Sum_y +=(i-mean[1])**2\n",
    "    \n",
    "    var = Sum_x/len(x), Sum_y/len(y)\n",
    "\n",
    "    return mean, var\n",
    "\n",
    "def main():\n",
    "    v1 = (0,1)\n",
    "    v2 = (0.5,0.5)\n",
    "    v3 = (1,0)\n",
    "    \n",
    "    m, var = mean_and_var(v1,v2,v3)\n",
    "    print('평균:',m, '분산:', var)\n",
    "    \n",
    "if __name__ == '__main__':\n",
    "    main()"
   ]
  },
  {
   "cell_type": "markdown",
   "metadata": {},
   "source": [
    "# OOP 과제1"
   ]
  },
  {
   "cell_type": "code",
   "execution_count": 7,
   "metadata": {},
   "outputs": [],
   "source": [
    "class Set:\n",
    "    def __init__(self, member = []):\n",
    "        self.member = member\n",
    "        unique = []\n",
    "        for i in self.member:\n",
    "            if i not in unique:\n",
    "                unique.append(i)\n",
    "        self.member = unique\n",
    "    \n",
    "        \n",
    "    def append(self, a):\n",
    "        self.member.append(a)\n",
    "    def delete(self, a):\n",
    "        self.member.remove(a)        \n",
    "    def intersection(self, s2):\n",
    "        inter_ls = []\n",
    "        for j in self.member:\n",
    "            if j in s2.member :\n",
    "                inter_ls.append(j)              \n",
    "        return Set(inter_ls)\n",
    "      \n",
    "    def union(self, s2):\n",
    "        union_ls = []\n",
    "          \n",
    "        for j in self.member :\n",
    "            union_ls.append(j)\n",
    "        \n",
    "        for k in s2.member :\n",
    "            if k not in union_ls :\n",
    "                union_ls.append(k)\n",
    "        return Set(union_ls)  \n",
    "       \n",
    "    def difference(self, s2):\n",
    "        differ_ls = []\n",
    "        for i in self.member:\n",
    "            differ_ls.append(i)\n",
    "        \n",
    "        for j in s2.member:\n",
    "            if j in differ_ls:\n",
    "                differ_ls.remove(j)\n",
    "        return Set(differ_ls)\n",
    "\n",
    "    def __add__(self, s2):\n",
    "        return self.union(s2)\n",
    "    def __sub__(self, s2):\n",
    "        return self.difference(s2)\n",
    "    def __truediv__(self, s2):\n",
    "        return self.intersection(s2)\n",
    "    \n",
    "    \n",
    "\n",
    "    def __repr__(self):\n",
    "        return str(self.member)    "
   ]
  },
  {
   "cell_type": "code",
   "execution_count": 9,
   "metadata": {},
   "outputs": [
    {
     "name": "stdout",
     "output_type": "stream",
     "text": [
      "[1, 2, 3, 4]\n",
      "[1]\n",
      "[2, 3, 4]\n"
     ]
    }
   ],
   "source": [
    "a = Set([1, 2, 3, 4])\n",
    "b = Set([2, 3, 4])\n",
    "\n",
    "c = a.union(b)\n",
    "print(c)\n",
    "d = a.difference(b)\n",
    "print(d)\n",
    "e = a.intersection(b)\n",
    "print(e)"
   ]
  },
  {
   "cell_type": "code",
   "execution_count": 10,
   "metadata": {},
   "outputs": [
    {
     "name": "stdout",
     "output_type": "stream",
     "text": [
      "[1, 2, 3, 4]\n",
      "[1]\n",
      "[2, 3]\n"
     ]
    }
   ],
   "source": [
    "a = Set([1, 2, 3])\n",
    "b = Set([2, 3, 4])\n",
    "\n",
    "c = a + b\n",
    "print(c)\n",
    "d = a - b\n",
    "print(d)\n",
    "e = a / b\n",
    "print(e)"
   ]
  },
  {
   "cell_type": "markdown",
   "metadata": {},
   "source": [
    "# 과제2"
   ]
  },
  {
   "cell_type": "code",
   "execution_count": 16,
   "metadata": {},
   "outputs": [
    {
     "name": "stdout",
     "output_type": "stream",
     "text": [
      "제 이름은 Kim, 나이는 30, 학과는 Computer, 지도교수님은 Lee입니다.\n",
      "제 이름은 Lee, 나이는 22, 학과는 Computer, 지도교수님은 Lee입니다.\n",
      "제 이름은 Lee, 나이는 55, 학과는 Computer, 지도학생은 Kim,Lee입니다.\n"
     ]
    }
   ],
   "source": [
    "class Person:\n",
    "    def __init__(self, name, age, department):\n",
    "        self.name = name\n",
    "        self.age = age\n",
    "        self.department = department\n",
    "        \n",
    "    \n",
    "    def get_name(self):\n",
    "        return self.name\n",
    "\n",
    "class Student(Person):\n",
    "    advisor = ''\n",
    "    def __init__(self, name, age, department, Id ,GPA):\n",
    "        self.name = name\n",
    "        self.age = age\n",
    "        self.department = department\n",
    "        self.Id = Id\n",
    "        self.GPA = GPA\n",
    "    \n",
    "    def print_info(self):\n",
    "        print(\"제 이름은 %s, 나이는 %d, 학과는 %s, 지도교수님은 %s입니다.\" \n",
    "              %(self.name, self.age, self.department, self.advisor.get_name()))\n",
    "        \n",
    "    def reg_advisor(self,Professor):\n",
    "        self.advisor = Professor\n",
    "        \n",
    "\n",
    "class Professor(Person):\n",
    "    student = []\n",
    "    def __init__(self, name, age, department, position, laboratory):\n",
    "        self.name = name\n",
    "        self.age = age\n",
    "        self.department = department\n",
    "        self.position = position\n",
    "        self.laboratory = laboratory\n",
    "    def print_info(self):\n",
    "    \n",
    "            \n",
    "        print(\"제 이름은 %s, 나이는 %d, 학과는 %s, 지도학생은\" %(self.name, self.age, self.department),end =' ')\n",
    "        for i in self.student:\n",
    "            if i == self.student[-1]:\n",
    "                print(i.get_name(), end = '')\n",
    "            else:\n",
    "                print(i.get_name(),end = ',')\n",
    "        \n",
    "        print(\"입니다.\") \n",
    "        \n",
    "\n",
    "    def reg_student(self,Student):\n",
    "        self.student.append(Student)\n",
    "        \n",
    "\n",
    "stu1 = Student('Kim', 30, 'Computer', 20001234, 4.5)\n",
    "stu2 = Student('Lee', 22, 'Computer', 20101234, 0.5)\n",
    "prof1 = Professor('Lee', 55, 'Computer', 'Full', 'KLE')\n",
    "\n",
    "\n",
    "stu1.reg_advisor(prof1)\n",
    "stu2.reg_advisor(prof1)\n",
    "\n",
    "prof1.reg_student(stu1)\n",
    "prof1.reg_student(stu2)\n",
    "    \n",
    "stu1.print_info()\n",
    "stu2.print_info()\n",
    "prof1.print_info()\n",
    "    \n",
    "        "
   ]
  },
  {
   "cell_type": "code",
   "execution_count": null,
   "metadata": {},
   "outputs": [],
   "source": []
  }
 ],
 "metadata": {
  "kernelspec": {
   "display_name": "Python 3",
   "language": "python",
   "name": "python3"
  },
  "language_info": {
   "codemirror_mode": {
    "name": "ipython",
    "version": 3
   },
   "file_extension": ".py",
   "mimetype": "text/x-python",
   "name": "python",
   "nbconvert_exporter": "python",
   "pygments_lexer": "ipython3",
   "version": "3.7.4"
  }
 },
 "nbformat": 4,
 "nbformat_minor": 2
}
