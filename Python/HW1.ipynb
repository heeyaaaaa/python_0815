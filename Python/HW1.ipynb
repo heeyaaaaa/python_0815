{
 "cells": [
  {
   "cell_type": "markdown",
   "metadata": {},
   "source": [
    "# 문제1"
   ]
  },
  {
   "cell_type": "code",
   "execution_count": 32,
   "metadata": {},
   "outputs": [
    {
     "name": "stdout",
     "output_type": "stream",
     "text": [
      "화씨온도:100\n",
      "섭씨온도: 37.77777777777778\n"
     ]
    }
   ],
   "source": [
    "F = int(input(\"화씨온도:\"))\n",
    "C = (F-32)*5/9\n",
    "print(\"섭씨온도: %s\" %C)"
   ]
  },
  {
   "cell_type": "markdown",
   "metadata": {},
   "source": [
    "# 문제2"
   ]
  },
  {
   "cell_type": "code",
   "execution_count": 29,
   "metadata": {},
   "outputs": [
    {
     "name": "stdout",
     "output_type": "stream",
     "text": [
      "투입한 돈:5000\n",
      "물건값:2700\n",
      "거스름돈:2300\n",
      "500원짜리:4개\n",
      "100원짜리:3개\n"
     ]
    }
   ],
   "source": [
    "M = int(input(\"투입한 돈:\"))\n",
    "P = int(input(\"물건값:\"))\n",
    "R = M-P\n",
    "R500 = R//500\n",
    "R100 = (R-500*R500)/100\n",
    "print(\"거스름돈:%d\" %R)\n",
    "print(\"500원짜리:%d개\" %R500)\n",
    "print(\"100원짜리:%d개\" %R100)"
   ]
  },
  {
   "cell_type": "markdown",
   "metadata": {},
   "source": [
    "# 문제3"
   ]
  },
  {
   "cell_type": "code",
   "execution_count": 18,
   "metadata": {},
   "outputs": [
    {
     "name": "stdout",
     "output_type": "stream",
     "text": [
      "반지름을 입력하시오:5\n",
      "원 둘레:31.41592\n",
      "원 넓이:78.5398\n"
     ]
    }
   ],
   "source": [
    "r= int(input(\"반지름을 입력하시오:\"))\n",
    "pi = 3.141592\n",
    "D= 2*pi*r\n",
    "S= pi*r*r\n",
    "print(\"원 둘레:%s\" %D)\n",
    "print(\"원 넓이:%s\" %S)"
   ]
  },
  {
   "cell_type": "markdown",
   "metadata": {},
   "source": [
    "# 문제5"
   ]
  },
  {
   "cell_type": "code",
   "execution_count": 2,
   "metadata": {},
   "outputs": [
    {
     "name": "stdout",
     "output_type": "stream",
     "text": [
      "Enter two integers: 8 5\n",
      "8 + 5 = 13\n",
      "8 - 5 = 3\n",
      "8 * 5 = 40\n",
      "8 / 5 = 1.6\n",
      "8 % 5 = 3\n"
     ]
    }
   ],
   "source": [
    "numbers = input(\"Enter two integers: \")\n",
    "a1 = int(numbers.split()[0])\n",
    "a2 = int(numbers.split()[1])\n",
    "a3=int(a1)%int(a2)\n",
    "\n",
    "print(\"%s + %s = %s\" %(a1, a2, a1+a2))\n",
    "print(\"%s - %s = %s\" %(a1, a2, a1-a2))\n",
    "print(\"%s * %s = %s\" %(a1, a2, a1*a2))\n",
    "print(\"%s / %s = %s\" %(a1, a2, a1/a2))\n",
    "print(\"%s %% %s = %s\" %(a1, a2, a1%a2))"
   ]
  },
  {
   "cell_type": "markdown",
   "metadata": {},
   "source": [
    "# 문제6"
   ]
  },
  {
   "cell_type": "code",
   "execution_count": 4,
   "metadata": {},
   "outputs": [
    {
     "name": "stdout",
     "output_type": "stream",
     "text": [
      "Enter two integers: 70 91\n",
      "The sum of 70 and 91 is 161\n",
      "The average of numbers is 80.5\n"
     ]
    }
   ],
   "source": [
    "numbers = input(\"Enter two integers: \")\n",
    "a1 = int(numbers.split()[0])\n",
    "a2 = int(numbers.split()[1]) \n",
    "a3 = (a1+a2)/2\n",
    "print(\"The sum of %s and %s is %s\" %(a1, a2, a1+a2))\n",
    "print(\"The average of numbers is %.1f\" %a3)"
   ]
  },
  {
   "cell_type": "markdown",
   "metadata": {},
   "source": [
    "# 추가 - 문제4"
   ]
  },
  {
   "cell_type": "code",
   "execution_count": 31,
   "metadata": {},
   "outputs": [
    {
     "name": "stdout",
     "output_type": "stream",
     "text": [
      "한 문장을 입력하시오: Python is fun!\n"
     ]
    },
    {
     "data": {
      "text/plain": [
       "['P', 'y', 't', 'h', 'o', 'n', ' ', 'i', 's', ' ', 'f', 'u', 'n', '!']"
      ]
     },
     "execution_count": 31,
     "metadata": {},
     "output_type": "execute_result"
    }
   ],
   "source": [
    "a = \",\"\n",
    "sentence = input(\"한 문장을 입력하시오: \")\n",
    "a.join(sentence).split(\",\")"
   ]
  },
  {
   "cell_type": "markdown",
   "metadata": {},
   "source": [
    "# 문제7"
   ]
  },
  {
   "cell_type": "code",
   "execution_count": 33,
   "metadata": {},
   "outputs": [
    {
     "name": "stdout",
     "output_type": "stream",
     "text": [
      "날짜(연/월/일)입력:2020/01/13\n",
      "입력한 날짜의 10년 후는 2030년 01월 13일\n"
     ]
    }
   ],
   "source": [
    "D = input(\"날짜(연/월/일)입력:\")\n",
    "d = D.split('/')\n",
    "print('입력한 날짜의 10년 후는 %s년 %s월 %s일' %(int(d[0])+10, d[1], d[2]))"
   ]
  },
  {
   "cell_type": "code",
   "execution_count": null,
   "metadata": {},
   "outputs": [],
   "source": []
  }
 ],
 "metadata": {
  "kernelspec": {
   "display_name": "Python 3",
   "language": "python",
   "name": "python3"
  },
  "language_info": {
   "codemirror_mode": {
    "name": "ipython",
    "version": 3
   },
   "file_extension": ".py",
   "mimetype": "text/x-python",
   "name": "python",
   "nbconvert_exporter": "python",
   "pygments_lexer": "ipython3",
   "version": "3.7.4"
  }
 },
 "nbformat": 4,
 "nbformat_minor": 2
}
