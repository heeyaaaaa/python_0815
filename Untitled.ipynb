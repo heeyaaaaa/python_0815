{
 "cells": [
  {
   "cell_type": "code",
   "execution_count": 1,
   "metadata": {},
   "outputs": [],
   "source": [
    "import numpy as np\n",
    "from scipy import stats\n",
    "import scipy.stats\n",
    "import pandas as pd\n",
    "import statsmodels.api as sm\n",
    "\n",
    "import matplotlib.pyplot as plt\n",
    "import matplotlib\n",
    "matplotlib.rc('axes',unicode_minus = False)\n",
    "\n",
    "\n",
    "\n",
    "import seaborn as sns\n",
    "from statsmodels.stats.proportion import proportions_ztest"
   ]
  },
  {
   "cell_type": "code",
   "execution_count": 2,
   "metadata": {},
   "outputs": [],
   "source": [
    "df = [25,30,20,23,27,33,23,20,25,24,\n",
    "      31,30,34,30,28,31,30,31,32,30,\n",
    "     19,21,27,25,25,30,26,29,30,24,\n",
    "     18,25,16,19,20,20,25,22,23,17]"
   ]
  },
  {
   "cell_type": "code",
   "execution_count": 5,
   "metadata": {},
   "outputs": [
    {
     "data": {
      "text/plain": [
       "25.45"
      ]
     },
     "execution_count": 5,
     "metadata": {},
     "output_type": "execute_result"
    }
   ],
   "source": [
    "np.mean(df)"
   ]
  },
  {
   "cell_type": "code",
   "execution_count": 4,
   "metadata": {},
   "outputs": [
    {
     "data": {
      "text/plain": [
       "0.022506214076657205"
      ]
     },
     "execution_count": 4,
     "metadata": {},
     "output_type": "execute_result"
    }
   ],
   "source": [
    "mu = np.mean(df)\n",
    "sigma = np.std(df)\n",
    "x = 35\n",
    "prob = stats.norm.cdf(x, mu, sigma)\n",
    "1-prob"
   ]
  },
  {
   "cell_type": "code",
   "execution_count": 6,
   "metadata": {},
   "outputs": [
    {
     "data": {
      "text/plain": [
       "4.76418933292958"
      ]
     },
     "execution_count": 6,
     "metadata": {},
     "output_type": "execute_result"
    }
   ],
   "source": [
    "np.std(df)"
   ]
  },
  {
   "cell_type": "code",
   "execution_count": 8,
   "metadata": {},
   "outputs": [
    {
     "name": "stdout",
     "output_type": "stream",
     "text": [
      "P(X = 0) = 0.774\n",
      "P(X = 1) = 0.204\n",
      "P(X = 2) = 0.021\n",
      "P(X = 3) = 0.001\n",
      "P(X = 4) = 0.000\n",
      "P(X = 5) = 0.000\n"
     ]
    }
   ],
   "source": [
    "n = 5\n",
    "\n",
    "for i in range(n+1):\n",
    "    prob = stats.binom.pmf(k=i, n=n, p = 0.05)\n",
    "    print(\"P(X = %d) = %.3f\" %(i, prob))"
   ]
  },
  {
   "cell_type": "code",
   "execution_count": 9,
   "metadata": {},
   "outputs": [
    {
     "data": {
      "text/plain": [
       "0.4781666666666667"
      ]
     },
     "execution_count": 9,
     "metadata": {},
     "output_type": "execute_result"
    }
   ],
   "source": [
    "2.869/6"
   ]
  },
  {
   "cell_type": "code",
   "execution_count": 10,
   "metadata": {},
   "outputs": [],
   "source": [
    "x = [-3,-2,-1,0,1,2,3]\n",
    "y = [0.4,1.3,2.2,2.5,2.4,2.0,1.5]"
   ]
  },
  {
   "cell_type": "code",
   "execution_count": 11,
   "metadata": {},
   "outputs": [
    {
     "name": "stdout",
     "output_type": "stream",
     "text": [
      "                            OLS Regression Results                            \n",
      "==============================================================================\n",
      "Dep. Variable:                      y   R-squared:                       0.257\n",
      "Model:                            OLS   Adj. R-squared:                  0.108\n",
      "Method:                 Least Squares   F-statistic:                     1.729\n",
      "Date:                Fri, 31 Jan 2020   Prob (F-statistic):              0.246\n",
      "Time:                        17:43:04   Log-Likelihood:                -6.3003\n",
      "No. Observations:                   7   AIC:                             16.60\n",
      "Df Residuals:                       5   BIC:                             16.49\n",
      "Df Model:                           1                                         \n",
      "Covariance Type:            nonrobust                                         \n",
      "==============================================================================\n",
      "                 coef    std err          t      P>|t|      [0.025      0.975]\n",
      "------------------------------------------------------------------------------\n",
      "const          1.7571      0.266      6.602      0.001       1.073       2.441\n",
      "x1             0.1750      0.133      1.315      0.246      -0.167       0.517\n",
      "==============================================================================\n",
      "Omnibus:                          nan   Durbin-Watson:                   0.778\n",
      "Prob(Omnibus):                    nan   Jarque-Bera (JB):                0.673\n",
      "Skew:                          -0.209   Prob(JB):                        0.714\n",
      "Kurtosis:                       1.539   Cond. No.                         2.00\n",
      "==============================================================================\n",
      "\n",
      "Warnings:\n",
      "[1] Standard Errors assume that the covariance matrix of the errors is correctly specified.\n"
     ]
    },
    {
     "name": "stderr",
     "output_type": "stream",
     "text": [
      "/home/pirl/anaconda3/lib/python3.7/site-packages/statsmodels/stats/stattools.py:71: ValueWarning: omni_normtest is not valid with less than 8 observations; 7 samples were given.\n",
      "  \"samples were given.\" % int(n), ValueWarning)\n"
     ]
    }
   ],
   "source": [
    "x_ = sm.add_constant(x)\n",
    "model = sm.OLS(y, x_)\n",
    "result = model.fit()\n",
    "\n",
    "print(result.summary())"
   ]
  },
  {
   "cell_type": "code",
   "execution_count": 12,
   "metadata": {},
   "outputs": [
    {
     "data": {
      "text/plain": [
       "(0.8914536833763123, 0.28233224153518677)"
      ]
     },
     "execution_count": 12,
     "metadata": {},
     "output_type": "execute_result"
    }
   ],
   "source": [
    "scipy.stats.shapiro(result.resid)"
   ]
  },
  {
   "cell_type": "code",
   "execution_count": 14,
   "metadata": {},
   "outputs": [
    {
     "data": {
      "text/plain": [
       "0.9709835651074589"
      ]
     },
     "execution_count": 14,
     "metadata": {},
     "output_type": "execute_result"
    }
   ],
   "source": [
    "1-2.869/98.875"
   ]
  },
  {
   "cell_type": "code",
   "execution_count": 17,
   "metadata": {},
   "outputs": [
    {
     "data": {
      "text/plain": [
       "0.777833789428201"
      ]
     },
     "execution_count": 17,
     "metadata": {},
     "output_type": "execute_result"
    }
   ],
   "source": [
    "statsmodels.stats.stattools.durbin_watson(result.resid)"
   ]
  },
  {
   "cell_type": "code",
   "execution_count": 16,
   "metadata": {},
   "outputs": [],
   "source": [
    "import statsmodels"
   ]
  },
  {
   "cell_type": "code",
   "execution_count": 21,
   "metadata": {},
   "outputs": [
    {
     "name": "stdout",
     "output_type": "stream",
     "text": [
      "chi-square test\n",
      "chisq: 7.878\n",
      "p:0.019\n",
      "degree of freedom: 2\n",
      "expected value: \n",
      "[[200.928 135.072]\n",
      " [209.898 141.102]\n",
      " [187.174 125.826]]\n"
     ]
    }
   ],
   "source": [
    "df = pd.DataFrame({'agree' : [182,213,203],'dis' : [154,138,110]})\n",
    "chi,pval,dof,expected = stats.chi2_contingency(df)\n",
    "\n",
    "print(\"chi-square test\")\n",
    "print(\"chisq: {0:0.3f}\".format(chi))\n",
    "print(\"p:{0:0.3f}\".format(pval))\n",
    "print(\"degree of freedom: {}\".format(dof))\n",
    "print(\"expected value: \\n{}\".format(expected.round(3)))"
   ]
  },
  {
   "cell_type": "code",
   "execution_count": null,
   "metadata": {},
   "outputs": [],
   "source": [
    "df = pd.DataFrame({'A':[18,1,8,7,10,9,10], 'B':[8,2,14,5,5,9,4], 'C':[4,1,3,4,9,5,4],'D':[4,1,2,3,2,7,3],\n",
    "                   'E':[3,1,3,1,1,1,1],'F':[3,25,8,10,2,1,7]})\n",
    "chi,pval,dof,expected = stats.chi2_contingency(df)\n",
    "\n",
    "print(\"chi-square test\")\n",
    "print(\"chisq: {0:0.3f}\".format(chi))\n",
    "print(\"p:{0:0.3f}\".format(pval))\n",
    "print(\"degree of freedom: {}\".format(dof))\n",
    "print(\"expected value: \\n{}\".format(expected.round(3)))"
   ]
  }
 ],
 "metadata": {
  "kernelspec": {
   "display_name": "Python 3",
   "language": "python",
   "name": "python3"
  },
  "language_info": {
   "codemirror_mode": {
    "name": "ipython",
    "version": 3
   },
   "file_extension": ".py",
   "mimetype": "text/x-python",
   "name": "python",
   "nbconvert_exporter": "python",
   "pygments_lexer": "ipython3",
   "version": "3.7.4"
  }
 },
 "nbformat": 4,
 "nbformat_minor": 2
}
