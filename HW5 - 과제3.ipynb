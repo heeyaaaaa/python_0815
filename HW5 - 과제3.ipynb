{
 "cells": [
  {
   "cell_type": "markdown",
   "metadata": {},
   "source": [
    "# 과제3"
   ]
  },
  {
   "cell_type": "code",
   "execution_count": 15,
   "metadata": {},
   "outputs": [
    {
     "name": "stdout",
     "output_type": "stream",
     "text": [
      "W: [[0.73108527 0.07404172]\n",
      " [0.4563784  0.52444001]]\n",
      "b: [0.14211236 0.43846261]\n",
      "f(W * x1 + b) = 0\n",
      "f(W * x2 + b) = 0\n",
      "f(W * x3 + b) = 0\n",
      "f(W * x4 + b) = 1\n"
     ]
    }
   ],
   "source": [
    "import numpy as np\n",
    "x1 = np.array([0,0])\n",
    "x2 = np.array([0,1])\n",
    "x3 = np.array([1,0])\n",
    "x4 = np.array([1,1])\n",
    "\n",
    "x_list = [x1,x2,x3,x4]\n",
    "x_list2 = ['x1','x2','x3','x4']\n",
    "\n",
    "\n",
    "AND = [0,0,0,1]\n",
    "value = []\n",
    "\n",
    "while True:\n",
    "    for i in x_list:\n",
    "        W = np.random.random((2,2))\n",
    "        b = np.random.random((2,))\n",
    "        value.append(np.argmax(W.dot(i)+b)) \n",
    "    if AND == value:\n",
    "        break\n",
    "    value=[]\n",
    "    \n",
    "print(\"W:\",W)\n",
    "print(\"b:\",b)\n",
    "\n",
    "for i in range(4) :\n",
    "    print(\"f(W * %s + b) = %d\" %(x_list2[i],value[i]))\n"
   ]
  }
 ],
 "metadata": {
  "kernelspec": {
   "display_name": "Python 3",
   "language": "python",
   "name": "python3"
  },
  "language_info": {
   "codemirror_mode": {
    "name": "ipython",
    "version": 3
   },
   "file_extension": ".py",
   "mimetype": "text/x-python",
   "name": "python",
   "nbconvert_exporter": "python",
   "pygments_lexer": "ipython3",
   "version": "3.7.4"
  }
 },
 "nbformat": 4,
 "nbformat_minor": 2
}
