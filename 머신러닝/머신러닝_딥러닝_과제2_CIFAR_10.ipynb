{
  "nbformat": 4,
  "nbformat_minor": 0,
  "metadata": {
    "colab": {
      "name": "머신러닝_딥러닝 과제2_CIFAR-10",
      "provenance": [],
      "collapsed_sections": []
    },
    "kernelspec": {
      "name": "python3",
      "display_name": "Python 3"
    },
    "accelerator": "GPU"
  },
  "cells": [
    {
      "cell_type": "markdown",
      "metadata": {
        "id": "ync0vc9tUXNx",
        "colab_type": "text"
      },
      "source": [
        "# CIFAR -10 accuracy test"
      ]
    },
    {
      "cell_type": "markdown",
      "metadata": {
        "id": "8LE-e6dEUa7P",
        "colab_type": "text"
      },
      "source": [
        "# Library"
      ]
    },
    {
      "cell_type": "code",
      "metadata": {
        "id": "Dj366knn5ZD8",
        "colab_type": "code",
        "outputId": "2e9b5c62-0abe-415b-86a8-b9458d4c40ec",
        "colab": {
          "base_uri": "https://localhost:8080/",
          "height": 34
        }
      },
      "source": [
        "import torch\n",
        "import torch.nn as nn\n",
        "import torch.optim as optim\n",
        "import torch.nn.init as init\n",
        "import torchvision.datasets as dataset \n",
        "import torchvision.transforms as transforms \n",
        "from torch.utils.data import DataLoader\n",
        "import numpy as np\n",
        "\n",
        "from matplotlib import pyplot as plt\n",
        "\n",
        "device = torch.device(\"cuda:0\" if torch.cuda.is_available() else \"cpu\")\n",
        "print(\"device: gpu\") if torch.cuda.is_available() else print(\"device: cpu\")"
      ],
      "execution_count": 0,
      "outputs": [
        {
          "output_type": "stream",
          "text": [
            "device: gpu\n"
          ],
          "name": "stdout"
        }
      ]
    },
    {
      "cell_type": "markdown",
      "metadata": {
        "id": "94_zVO9uUfeI",
        "colab_type": "text"
      },
      "source": [
        "# Hyper parameter setting"
      ]
    },
    {
      "cell_type": "code",
      "metadata": {
        "id": "tGHceDILULnY",
        "colab_type": "code",
        "colab": {}
      },
      "source": [
        "learning_rate = 1e-3\n",
        "epochs = 100\n",
        "display_step = 10\n",
        "batch_size = 32\n",
        "\n",
        "activation = nn.ReLU()\n",
        "max_pool = nn.MaxPool2d(2,2)"
      ],
      "execution_count": 0,
      "outputs": []
    },
    {
      "cell_type": "markdown",
      "metadata": {
        "id": "8n5WhVwAUhWu",
        "colab_type": "text"
      },
      "source": [
        "# Load data & Pre-process data"
      ]
    },
    {
      "cell_type": "code",
      "metadata": {
        "id": "Sq6j5JnbUPG-",
        "colab_type": "code",
        "outputId": "adc8fe0e-af0f-4391-c010-f6f4ad4b9882",
        "colab": {
          "base_uri": "https://localhost:8080/",
          "height": 1000
        }
      },
      "source": [
        "# load data\n",
        "transform_train = transforms.Compose([\n",
        "    transforms.RandomCrop(32, padding=4),\n",
        "    transforms.RandomHorizontalFlip(),\n",
        "    transforms.ToTensor(),\n",
        "    transforms.Normalize((0.4914, 0.4822, 0.4465), (0.2023, 0.1994, 0.2010)),\n",
        "])\n",
        "\n",
        "transform_test = transforms.Compose([\n",
        "    transforms.ToTensor(),\n",
        "    transforms.Normalize((0.4914, 0.4822, 0.4465), (0.2023, 0.1994, 0.2010)),\n",
        "])\n",
        "\n",
        "train_data = dataset.CIFAR10(\"./\", train = True, transform = transform_train, target_transform = None, download = True)\n",
        "test_data = dataset.CIFAR10(\"./\", train = False, transform = transform_test, target_transform = None, download = True)\n",
        "# check the data\n",
        "print('len(train_data): ', len(train_data))\n",
        "print('len(test_data): ', len(test_data))\n",
        "\n",
        "x_train, y_train = train_data[0]\n",
        "x_train = np.transpose(x_train, (1,2,0))\n",
        "# 3 x 32 x 32에서 32 x 32 x 3으로 변환\n",
        "\n",
        "print('data', x_train)\n",
        "print('data shape: ', x_train.shape)\n",
        "print('label: ', y_train)\n",
        "\n",
        "plt.figure()\n",
        "plt.imshow(x_train[0])\n",
        "plt.show()\n",
        "\n",
        "# Pre-process (batch, shuffle)\n",
        "train_loader = torch.utils.data.DataLoader(train_data, batch_size = batch_size, shuffle = True, num_workers = 1, drop_last = True)\n",
        "test_loader = torch.utils.data.DataLoader(test_data, batch_size = batch_size, shuffle = True, num_workers = 1, drop_last = True)\n",
        "\n",
        "# check the data \n",
        "examples = enumerate(train_loader)\n",
        "batch_idx, (example_data, example_target) = next(examples)\n",
        "\n",
        "print('data shape:', example_data.shape)\n",
        "print('label:', example_target)\n",
        "\n",
        "plt.figure()\n",
        "plt.imshow(np.transpose(example_data[0], (1,2,0)))\n",
        "plt.show()"
      ],
      "execution_count": 0,
      "outputs": [
        {
          "output_type": "stream",
          "text": [
            "Files already downloaded and verified\n",
            "Files already downloaded and verified\n",
            "len(train_data):  50000\n",
            "len(test_data):  10000\n",
            "data tensor([[[-2.4291, -2.4183, -2.2214],\n",
            "         [-2.4291, -2.4183, -2.2214],\n",
            "         [-2.4291, -2.4183, -2.2214],\n",
            "         ...,\n",
            "         [-0.1610, -0.9629, -1.5385],\n",
            "         [-0.1998, -1.0416, -1.5776],\n",
            "         [-0.3743, -1.1792, -1.6751]],\n",
            "\n",
            "        [[-2.4291, -2.4183, -2.2214],\n",
            "         [-2.4291, -2.4183, -2.2214],\n",
            "         [-2.4291, -2.4183, -2.2214],\n",
            "         ...,\n",
            "         [-0.0835, -0.9039, -1.5190],\n",
            "         [-0.0253, -0.9039, -1.5190],\n",
            "         [ 0.0328, -0.8646, -1.4605]],\n",
            "\n",
            "        [[-2.4291, -2.4183, -2.2214],\n",
            "         [-2.4291, -2.4183, -2.2214],\n",
            "         [-2.4291, -2.4183, -2.2214],\n",
            "         ...,\n",
            "         [ 0.1104, -0.7662, -1.4020],\n",
            "         [ 0.2073, -0.6876, -1.3434],\n",
            "         [ 0.0716, -0.8056, -1.4800]],\n",
            "\n",
            "        ...,\n",
            "\n",
            "        [[-2.4291, -2.4183, -2.2214],\n",
            "         [-2.4291, -2.4183, -2.2214],\n",
            "         [-2.4291, -2.4183, -2.2214],\n",
            "         ...,\n",
            "         [-2.4291, -2.4183, -2.2214],\n",
            "         [-2.4291, -2.4183, -2.2214],\n",
            "         [-2.4291, -2.4183, -2.2214]],\n",
            "\n",
            "        [[-2.4291, -2.4183, -2.2214],\n",
            "         [-2.4291, -2.4183, -2.2214],\n",
            "         [-2.4291, -2.4183, -2.2214],\n",
            "         ...,\n",
            "         [-2.4291, -2.4183, -2.2214],\n",
            "         [-2.4291, -2.4183, -2.2214],\n",
            "         [-2.4291, -2.4183, -2.2214]],\n",
            "\n",
            "        [[-2.4291, -2.4183, -2.2214],\n",
            "         [-2.4291, -2.4183, -2.2214],\n",
            "         [-2.4291, -2.4183, -2.2214],\n",
            "         ...,\n",
            "         [-2.4291, -2.4183, -2.2214],\n",
            "         [-2.4291, -2.4183, -2.2214],\n",
            "         [-2.4291, -2.4183, -2.2214]]])\n",
            "data shape:  torch.Size([32, 32, 3])\n",
            "label:  6\n"
          ],
          "name": "stdout"
        },
        {
          "output_type": "display_data",
          "data": {
            "image/png": "[encoded data removed]",
            "text/plain": [
              "<Figure size 432x288 with 1 Axes>"
            ]
          },
          "metadata": {
            "tags": [],
            "needs_background": "light"
          }
        },
        {
          "output_type": "stream",
          "text": [
            "Clipping input data to the valid range for imshow with RGB data ([0..1] for floats or [0..255] for integers).\n"
          ],
          "name": "stderr"
        },
        {
          "output_type": "stream",
          "text": [
            "data shape: torch.Size([32, 3, 32, 32])\n",
            "label: tensor([6, 1, 1, 9, 4, 2, 2, 8, 5, 1, 8, 1, 5, 9, 5, 9, 4, 0, 4, 1, 6, 6, 5, 4,\n",
            "        0, 5, 1, 9, 6, 4, 0, 8])\n"
          ],
          "name": "stdout"
        },
        {
          "output_type": "display_data",
          "data": {
            "image/png": "[encoded data removed]",
            "text/plain": [
              "<Figure size 432x288 with 1 Axes>"
            ]
          },
          "metadata": {
            "tags": [],
            "needs_background": "light"
          }
        }
      ]
    },
    {
      "cell_type": "markdown",
      "metadata": {
        "id": "5gPLBdjvUnE0",
        "colab_type": "text"
      },
      "source": [
        "# Model & Optimization and Loss function"
      ]
    },
    {
      "cell_type": "code",
      "metadata": {
        "id": "77zez2uR5mTP",
        "colab_type": "code",
        "outputId": "cde38078-eab2-4cfd-8dbd-16cab2000d2e",
        "colab": {
          "base_uri": "https://localhost:8080/",
          "height": 54
        }
      },
      "source": [
        "class CNN(nn.Module):\n",
        "    def __init__(self):\n",
        "        super(CNN, self).__init__() \n",
        "        self.feature_extraction = nn.Sequential(\n",
        "            nn.Conv2d(3, 64, 3),\n",
        "            nn.BatchNorm2d(64),\n",
        "            activation,\n",
        "            nn.Dropout(0.3),\n",
        "\n",
        "            nn.Conv2d(64, 128, 3),\n",
        "            nn.BatchNorm2d(128),\n",
        "            activation,\n",
        "            max_pool,\n",
        "            nn.Dropout(0.3),\n",
        "            \n",
        "            nn.Conv2d(128, 256, 3),\n",
        "            nn.BatchNorm2d(256),\n",
        "            activation,\n",
        "            max_pool,\n",
        "            nn.Dropout(0.3),\n",
        "\n",
        "            nn.Conv2d(256, 512, 3),\n",
        "            nn.BatchNorm2d(512),\n",
        "            activation,\n",
        "            max_pool,\n",
        "            nn.Dropout(0.2)\n",
        "\n",
        "        )\n",
        "        self.classifier = nn.Sequential(\n",
        "            nn.Linear(512 * 2 * 2, 256),\n",
        "            nn.BatchNorm1d(256),\n",
        "            activation,\n",
        "            nn.Dropout(0.2),\n",
        "            nn.Linear(256, 128),\n",
        "            nn.BatchNorm1d(128),\n",
        "            activation,\n",
        "            nn.Dropout(0.2),\n",
        "            nn.Linear(128, 10)\n",
        "            \n",
        "        )\n",
        "    def forward(self, x):\n",
        "        extracted_feature = self.feature_extraction(x) # [32, 256, 6, 6]\n",
        "        flatten = extracted_feature.view(batch_size, -1) # [32, 256 * 6 * 6]\n",
        "        result = self.classifier(flatten)\n",
        "        return result\n",
        "    \n",
        "\n",
        "def init_weights(m):\n",
        "    if type(m) == nn.Linear:\n",
        "        torch.nn.init.xavier_uniform(m.weight)\n",
        "        m.bias.data.fill_(0.01)\n",
        "        \n",
        "model = CNN()\n",
        "model.apply(init_weights)\n",
        "model.to(device)\n",
        "model.train()\n",
        "\n",
        "loss_function = nn.CrossEntropyLoss()\n",
        "optimizer = optim.Adam(model.parameters(), lr = learning_rate)"
      ],
      "execution_count": 0,
      "outputs": [
        {
          "output_type": "stream",
          "text": [
            "/usr/local/lib/python3.6/dist-packages/ipykernel_launcher.py:50: UserWarning: nn.init.xavier_uniform is now deprecated in favor of nn.init.xavier_uniform_.\n"
          ],
          "name": "stderr"
        }
      ]
    },
    {
      "cell_type": "markdown",
      "metadata": {
        "id": "Of6dnwoXUq8S",
        "colab_type": "text"
      },
      "source": [
        "# Train & Test"
      ]
    },
    {
      "cell_type": "code",
      "metadata": {
        "id": "an4RLJ0b5tQx",
        "colab_type": "code",
        "outputId": "f1c6fb7c-ba05-4d65-f8d7-12609c9e82b4",
        "colab": {
          "base_uri": "https://localhost:8080/",
          "height": 85
        }
      },
      "source": [
        "loss_array = []\n",
        "\n",
        "# train the model\n",
        "for i in range(epochs):\n",
        "    for index, [data, label] in enumerate(train_loader):\n",
        "        data = data.to(device)\n",
        "        label = label.to(device)\n",
        "                \n",
        "        optimizer.zero_grad()\n",
        "        output = model.forward(data)\n",
        "        loss = loss_function(output, label)\n",
        "        loss.backward()\n",
        "        optimizer.step()\n",
        "        \n",
        "    if i % display_step == 0:\n",
        "        print('{} epoch loss: {}'.format(i,loss))\n",
        "        loss_array.append(loss.cpu().detach().numpy())"
      ],
      "execution_count": 0,
      "outputs": [
        {
          "output_type": "stream",
          "text": [
            "60 epoch loss: 0.4304533004760742\n",
            "70 epoch loss: 0.2155846804380417\n",
            "80 epoch loss: 0.1945393681526184\n",
            "90 epoch loss: 0.2991451621055603\n"
          ],
          "name": "stdout"
        }
      ]
    },
    {
      "cell_type": "code",
      "metadata": {
        "id": "tsTLJm2acZ9J",
        "colab_type": "code",
        "outputId": "bb209750-9664-4ce5-84c1-3a7108a30283",
        "colab": {
          "base_uri": "https://localhost:8080/"
        }
      },
      "source": [
        "#test the model\n",
        "model.eval()\n",
        "correct = 0\n",
        "total = 0\n",
        "\n",
        "prediction_list = []\n",
        "label_list = []\n",
        "\n",
        "with torch.no_grad():\n",
        "    for index, [data, label] in enumerate(test_loader):\n",
        "        data = data.to(device)\n",
        "        label = label.to(device)\n",
        "        \n",
        "        output = model.forward(data)\n",
        "        _, prediction_index = torch.max(output, 1)\n",
        "        \n",
        "        prediction_list.append(prediction_index)\n",
        "        label_list.append(label)\n",
        "        \n",
        "        total += label.size(0)\n",
        "        correct += (prediction_index == label).sum().float()\n",
        "\n",
        "    print(\"CIFAR10 test_accuracy : {}\".format(correct/total))"
      ],
      "execution_count": 0,
      "outputs": [
        {
          "output_type": "stream",
          "text": [
            "CIFAR10 test_accuracy : 0.9108573794364929\n"
          ],
          "name": "stdout"
        }
      ]
    },
    {
      "cell_type": "code",
      "metadata": {
        "id": "qisq7q0Z9xI_",
        "colab_type": "code",
        "colab": {}
      },
      "source": [
        ""
      ],
      "execution_count": 0,
      "outputs": []
    }
  ]
}