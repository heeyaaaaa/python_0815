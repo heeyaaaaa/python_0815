{
 "cells": [
  {
   "cell_type": "markdown",
   "metadata": {},
   "source": [
    "# 연습문제3"
   ]
  },
  {
   "cell_type": "code",
   "execution_count": 4,
   "metadata": {},
   "outputs": [],
   "source": [
    "def pow(n,a):\n",
    "    result = 1\n",
    "    for i in range(a):\n",
    "        result *= n \n",
    "    return result"
   ]
  },
  {
   "cell_type": "code",
   "execution_count": 5,
   "metadata": {},
   "outputs": [
    {
     "data": {
      "text/plain": [
       "125"
      ]
     },
     "execution_count": 5,
     "metadata": {},
     "output_type": "execute_result"
    }
   ],
   "source": [
    "pow(5,3)"
   ]
  },
  {
   "cell_type": "markdown",
   "metadata": {},
   "source": [
    "# 디폴트 매개변수"
   ]
  },
  {
   "cell_type": "code",
   "execution_count": 6,
   "metadata": {},
   "outputs": [],
   "source": [
    "def printName(first, second = 'Lee'):\n",
    "    print('My name is', first, second+'.')"
   ]
  },
  {
   "cell_type": "code",
   "execution_count": 7,
   "metadata": {},
   "outputs": [
    {
     "name": "stdout",
     "output_type": "stream",
     "text": [
      "My name is Chulsoo Kim.\n"
     ]
    }
   ],
   "source": [
    "printName('Chulsoo','Kim')"
   ]
  },
  {
   "cell_type": "code",
   "execution_count": 8,
   "metadata": {},
   "outputs": [
    {
     "name": "stdout",
     "output_type": "stream",
     "text": [
      "My name is Chulsoo Lee.\n"
     ]
    }
   ],
   "source": [
    "printName('Chulsoo')"
   ]
  },
  {
   "cell_type": "code",
   "execution_count": 10,
   "metadata": {},
   "outputs": [
    {
     "ename": "SyntaxError",
     "evalue": "invalid syntax (<ipython-input-10-12f4a181aec2>, line 1)",
     "output_type": "error",
     "traceback": [
      "\u001b[0;36m  File \u001b[0;32m\"<ipython-input-10-12f4a181aec2>\"\u001b[0;36m, line \u001b[0;32m1\u001b[0m\n\u001b[0;31m    def printName(first = 'Kim', second) #디폴트 매개변수는 무조건 맨뒤로\u001b[0m\n\u001b[0m                                                           ^\u001b[0m\n\u001b[0;31mSyntaxError\u001b[0m\u001b[0;31m:\u001b[0m invalid syntax\n"
     ]
    }
   ],
   "source": [
    "def printName(first = 'Kim', second) #디폴트 매개변수는 무조건 맨뒤로"
   ]
  },
  {
   "cell_type": "markdown",
   "metadata": {},
   "source": [
    "# 반환 값이 여러 개인 함수"
   ]
  },
  {
   "cell_type": "code",
   "execution_count": 11,
   "metadata": {},
   "outputs": [
    {
     "name": "stdout",
     "output_type": "stream",
     "text": [
      "7\n",
      "12\n"
     ]
    }
   ],
   "source": [
    "a = 3\n",
    "b = 4\n",
    "\n",
    "def add_and_mul(a,b):\n",
    "    return(a+b, a*b)\n",
    "\n",
    "add_res,mul_res = add_and_mul(a,b)\n",
    "print(add_res)\n",
    "print(mul_res)"
   ]
  },
  {
   "cell_type": "markdown",
   "metadata": {},
   "source": [
    "# 연습문제 4"
   ]
  },
  {
   "cell_type": "code",
   "execution_count": 15,
   "metadata": {},
   "outputs": [],
   "source": [
    "def hour_min_sec(second):\n",
    "    h = second//(60**2)\n",
    "    m = (second - h*60**2)//60\n",
    "    s = second%60\n",
    "    return (h,m,s)"
   ]
  },
  {
   "cell_type": "code",
   "execution_count": 16,
   "metadata": {},
   "outputs": [],
   "source": [
    "h, m, s = hour_min_sec(57894)"
   ]
  },
  {
   "cell_type": "code",
   "execution_count": 17,
   "metadata": {},
   "outputs": [
    {
     "name": "stdout",
     "output_type": "stream",
     "text": [
      "16시간 4분 54초\n"
     ]
    }
   ],
   "source": [
    "print(\"%d시간 %d분 %d초\" %(h,m,s))"
   ]
  },
  {
   "cell_type": "markdown",
   "metadata": {},
   "source": [
    "# 매개변수 종류 - Mutable"
   ]
  },
  {
   "cell_type": "code",
   "execution_count": 18,
   "metadata": {},
   "outputs": [
    {
     "name": "stdout",
     "output_type": "stream",
     "text": [
      "[1, 2, 3, 4, 5, 6]\n"
     ]
    }
   ],
   "source": [
    "t = [1,2,3]\n",
    "\n",
    "def test(a):\n",
    "    a += [4,5,6]\n",
    "\n",
    "test(t)\n",
    "print(t)"
   ]
  },
  {
   "cell_type": "markdown",
   "metadata": {},
   "source": [
    "# Immutable"
   ]
  },
  {
   "cell_type": "code",
   "execution_count": 19,
   "metadata": {},
   "outputs": [
    {
     "name": "stdout",
     "output_type": "stream",
     "text": [
      "(1, 2, 3)\n"
     ]
    }
   ],
   "source": [
    "t = (1,2,3)\n",
    "\n",
    "def test(a):\n",
    "    a += (4,5,6)\n",
    "\n",
    "test(t)\n",
    "print(t)"
   ]
  },
  {
   "cell_type": "markdown",
   "metadata": {},
   "source": [
    "# 연습문제 5"
   ]
  },
  {
   "cell_type": "code",
   "execution_count": 48,
   "metadata": {},
   "outputs": [
    {
     "name": "stdout",
     "output_type": "stream",
     "text": [
      "1\n",
      "9\n",
      "[3, 5, 2]\n"
     ]
    }
   ],
   "source": [
    "def get_min_max(l):\n",
    "    min_val = min(l)\n",
    "    max_val = max(l)\n",
    "    l.remove(min_val)\n",
    "    l.remove(max_val)\n",
    "    return min_val, max_val\n",
    "\n",
    "l = [3,5,9,1,2]\n",
    "(min_val, max_val) = get_min_max(l)\n",
    "\n",
    "print(min_val)\n",
    "print(max_val)\n",
    "print(l)"
   ]
  },
  {
   "cell_type": "markdown",
   "metadata": {},
   "source": [
    "# 연습문제 6"
   ]
  },
  {
   "cell_type": "code",
   "execution_count": 53,
   "metadata": {},
   "outputs": [],
   "source": [
    "def dot_product(v1,v2):\n",
    "    result = 0\n",
    "    for i,j in v1.items():\n",
    "        for k,l in v2.items():\n",
    "            if i == k :\n",
    "                result += j*l\n",
    "    return result"
   ]
  },
  {
   "cell_type": "code",
   "execution_count": 56,
   "metadata": {},
   "outputs": [
    {
     "data": {
      "text/plain": [
       "15"
      ]
     },
     "execution_count": 56,
     "metadata": {},
     "output_type": "execute_result"
    }
   ],
   "source": [
    "v1={'a':5}\n",
    "v2={'a':3, 'b':2}\n",
    "dot_product(v1, v2)"
   ]
  },
  {
   "cell_type": "code",
   "execution_count": 57,
   "metadata": {},
   "outputs": [
    {
     "data": {
      "text/plain": [
       "0"
      ]
     },
     "execution_count": 57,
     "metadata": {},
     "output_type": "execute_result"
    }
   ],
   "source": [
    "v1={'c':5}\n",
    "v2={'a':2, 'b':1}\n",
    "dot_product(v1, v2)"
   ]
  },
  {
   "cell_type": "code",
   "execution_count": 58,
   "metadata": {
    "scrolled": true
   },
   "outputs": [
    {
     "data": {
      "text/plain": [
       "3"
      ]
     },
     "execution_count": 58,
     "metadata": {},
     "output_type": "execute_result"
    }
   ],
   "source": [
    "v1={'a':5, 'b':4}\n",
    "v2={'a':-1, 'b':2}\n",
    "dot_product(v1, v2)"
   ]
  },
  {
   "cell_type": "code",
   "execution_count": 61,
   "metadata": {},
   "outputs": [
    {
     "data": {
      "text/plain": [
       "3"
      ]
     },
     "execution_count": 61,
     "metadata": {},
     "output_type": "execute_result"
    }
   ],
   "source": [
    "##############교수님이 보여주신 예시\n",
    "\n",
    "def dot_product1(v1,v2):\n",
    "    res = 0\n",
    "    for k in v1 :\n",
    "        if k in v2:\n",
    "            res+=v1[k]*v2[k]\n",
    "    return res\n",
    "dot_product1(v1,v2)"
   ]
  },
  {
   "cell_type": "code",
   "execution_count": 60,
   "metadata": {},
   "outputs": [
    {
     "data": {
      "text/plain": [
       "3"
      ]
     },
     "execution_count": 60,
     "metadata": {},
     "output_type": "execute_result"
    }
   ],
   "source": [
    "def dot_product2(v1,v2):\n",
    "    res = 0\n",
    "    for k in set(v1)&set(v2):\n",
    "        res+=v1[k]*v2[k]\n",
    "    return res\n",
    "\n",
    "dot_product2(v1,v2)"
   ]
  },
  {
   "cell_type": "code",
   "execution_count": 63,
   "metadata": {},
   "outputs": [
    {
     "data": {
      "text/plain": [
       "3"
      ]
     },
     "execution_count": 63,
     "metadata": {},
     "output_type": "execute_result"
    }
   ],
   "source": [
    "def dot_product3(v1,v2):\n",
    "    res = 0\n",
    "    for k in v1:\n",
    "        try:\n",
    "            res+=v1[k]*v2[k]\n",
    "        except KeyError:\n",
    "            pass\n",
    "    return res\n",
    "\n",
    "dot_product3(v1,v2)"
   ]
  },
  {
   "cell_type": "code",
   "execution_count": 65,
   "metadata": {},
   "outputs": [
    {
     "data": {
      "text/plain": [
       "3"
      ]
     },
     "execution_count": 65,
     "metadata": {},
     "output_type": "execute_result"
    }
   ],
   "source": [
    "###################제일 짱!\n",
    "\n",
    "def dot_product4(v1,v2):\n",
    "    return sum(v1[k]*v2[k] for k in v1 if k in v2)\n",
    "dot_product4(v1,v2)"
   ]
  },
  {
   "cell_type": "markdown",
   "metadata": {},
   "source": [
    "# 난수 생성"
   ]
  },
  {
   "cell_type": "code",
   "execution_count": 66,
   "metadata": {},
   "outputs": [],
   "source": [
    "import random"
   ]
  },
  {
   "cell_type": "code",
   "execution_count": 68,
   "metadata": {},
   "outputs": [
    {
     "data": {
      "text/plain": [
       "'d'"
      ]
     },
     "execution_count": 68,
     "metadata": {},
     "output_type": "execute_result"
    }
   ],
   "source": [
    "random.choice('abcdefg')"
   ]
  },
  {
   "cell_type": "code",
   "execution_count": 72,
   "metadata": {},
   "outputs": [],
   "source": [
    "random.shuffle([1,2,3,4,5])"
   ]
  },
  {
   "cell_type": "code",
   "execution_count": 73,
   "metadata": {},
   "outputs": [
    {
     "data": {
      "text/plain": [
       "[4, 3, 2]"
      ]
     },
     "execution_count": 73,
     "metadata": {},
     "output_type": "execute_result"
    }
   ],
   "source": [
    "random.sample([1,2,3,4,5,6],3)"
   ]
  },
  {
   "cell_type": "markdown",
   "metadata": {},
   "source": [
    "# 연습문제7"
   ]
  },
  {
   "cell_type": "code",
   "execution_count": 95,
   "metadata": {},
   "outputs": [
    {
     "name": "stdout",
     "output_type": "stream",
     "text": [
      "** 로또 추첨을 시작합니다.**\n",
      "\n",
      "추첨된 로또 번호 ==> 22 6 23 2 9 43 "
     ]
    }
   ],
   "source": [
    "#sample 은 중복된 값을 추출하지 않음\n",
    "\n",
    "num = random.sample(range(1,46), 6)\n",
    "print(\"** 로또 추첨을 시작합니다.**\")\n",
    "\n",
    "print(\"\\n추첨된 로또 번호 ==>\",end=' ')\n",
    "for i in range(len(num)):\n",
    "    print(num[i],end =' ')\n",
    "\n"
   ]
  },
  {
   "cell_type": "markdown",
   "metadata": {},
   "source": [
    "# Time 모듈"
   ]
  },
  {
   "cell_type": "code",
   "execution_count": 96,
   "metadata": {},
   "outputs": [],
   "source": [
    "import time"
   ]
  },
  {
   "cell_type": "code",
   "execution_count": 97,
   "metadata": {},
   "outputs": [
    {
     "data": {
      "text/plain": [
       "1579139163.6688924"
      ]
     },
     "execution_count": 97,
     "metadata": {},
     "output_type": "execute_result"
    }
   ],
   "source": [
    "time.time()"
   ]
  },
  {
   "cell_type": "code",
   "execution_count": 102,
   "metadata": {},
   "outputs": [],
   "source": [
    "t = time.localtime()"
   ]
  },
  {
   "cell_type": "code",
   "execution_count": 103,
   "metadata": {},
   "outputs": [
    {
     "data": {
      "text/plain": [
       "'date: 16th'"
      ]
     },
     "execution_count": 103,
     "metadata": {},
     "output_type": "execute_result"
    }
   ],
   "source": [
    "time.strftime('date: %dth',t)"
   ]
  },
  {
   "cell_type": "markdown",
   "metadata": {},
   "source": [
    "# 연습문제 8, 9"
   ]
  },
  {
   "cell_type": "code",
   "execution_count": 153,
   "metadata": {},
   "outputs": [],
   "source": [
    "def letter_dict(s):\n",
    "    letter = {}\n",
    "    for i in s:\n",
    "        letter[i] = s.count(i)\n",
    "    return letter\n",
    "\n",
    "def max_letter(d):\n",
    "    for i in d:\n",
    "        if d[i] == max(d.values()):\n",
    "            print(i)\n",
    "    "
   ]
  },
  {
   "cell_type": "code",
   "execution_count": 154,
   "metadata": {},
   "outputs": [
    {
     "name": "stdout",
     "output_type": "stream",
     "text": [
      "{'r': 1, 'e': 2, 'd': 1, ' ': 1, 'a': 1, 'p': 2, 'l': 1}\n"
     ]
    }
   ],
   "source": [
    "a = letter_dict('red apple')\n",
    "print(a)"
   ]
  },
  {
   "cell_type": "code",
   "execution_count": 155,
   "metadata": {},
   "outputs": [
    {
     "name": "stdout",
     "output_type": "stream",
     "text": [
      "e\n",
      "p\n"
     ]
    }
   ],
   "source": [
    "max_letter(a)"
   ]
  },
  {
   "cell_type": "code",
   "execution_count": 156,
   "metadata": {},
   "outputs": [],
   "source": [
    "def comb_dict(d1, d2):\n",
    "    d3 = {}\n",
    "    for i in d1.keys()&d2.keys():\n",
    "        d3[i] = d1[i]+d2[i]\n",
    "    for i in d1.keys()-d2.keys():\n",
    "        d3[i] = d1[i]\n",
    "    for i in d2.keys()-d1.keys():\n",
    "        d3[i] = d2[i]\n",
    "    return d3\n",
    "    \n",
    "b = letter_dict('yellow banana')\n",
    "c = comb_dict(a,b)"
   ]
  },
  {
   "cell_type": "code",
   "execution_count": 157,
   "metadata": {},
   "outputs": [
    {
     "name": "stdout",
     "output_type": "stream",
     "text": [
      "{'e': 3, 'a': 4, 'l': 3, ' ': 2, 'p': 2, 'r': 1, 'd': 1, 'w': 1, 'y': 1, 'b': 1, 'o': 1, 'n': 2}\n",
      "a\n",
      "None\n"
     ]
    }
   ],
   "source": [
    "print(c)\n",
    "print(max_letter(c))"
   ]
  },
  {
   "cell_type": "markdown",
   "metadata": {},
   "source": [
    "# OOP & Numpy"
   ]
  },
  {
   "cell_type": "code",
   "execution_count": 164,
   "metadata": {},
   "outputs": [],
   "source": [
    "class Account:\n",
    "    # 계좌의 속성(Attribute)\n",
    "    number = 'OOOO-OOO-OOOOOO'\n",
    "    balance = 0\n",
    "    rate = 1.0\n",
    "    # 계좌의 기능(Method)\n",
    "    def deposit(self, money): #입금\n",
    "        self.balance += money\n",
    "    def withdraw(self, money): #인출\n",
    "        self.balance -= money\n",
    "    def obtain_interest(self): #이자 획득\n",
    "        self.balance += self.balance*(self.rate/100)"
   ]
  },
  {
   "cell_type": "code",
   "execution_count": 165,
   "metadata": {
    "scrolled": true
   },
   "outputs": [
    {
     "name": "stdout",
     "output_type": "stream",
     "text": [
      "500\n",
      "1000\n",
      "0\n"
     ]
    }
   ],
   "source": [
    "acc1 = Account()\n",
    "acc2 = Account()\n",
    "acc3 = Account()\n",
    "acc1.deposit(500)\n",
    "acc2.deposit(1000)\n",
    "print(acc1.balance)\n",
    "print(acc2.balance)\n",
    "print(acc3.balance) ### 상위 클래스인 ACCount에서 가져오는 것"
   ]
  },
  {
   "cell_type": "code",
   "execution_count": 169,
   "metadata": {},
   "outputs": [],
   "source": [
    "#######################초기값 설정\n",
    "class Account:\n",
    "    # def __init__(self): Default 생성자\n",
    "    def __init__(self, num='OOO-OOO-OOOOO', amnt=0, rate=1.0):\n",
    "        self.number = num\n",
    "        self.balance = amnt\n",
    "        self.rate = rate"
   ]
  },
  {
   "cell_type": "code",
   "execution_count": 171,
   "metadata": {
    "scrolled": true
   },
   "outputs": [
    {
     "name": "stdout",
     "output_type": "stream",
     "text": [
      "3\n",
      "1.0\n",
      "1.0\n"
     ]
    }
   ],
   "source": [
    "acc1 = Account(rate = 3)\n",
    "acc2 = Account()\n",
    "acc3 = Account()\n",
    "print(acc1.rate)\n",
    "print(acc2.rate)\n",
    "print(acc3.rate)"
   ]
  },
  {
   "cell_type": "code",
   "execution_count": 233,
   "metadata": {},
   "outputs": [],
   "source": [
    "class Account:\n",
    "    # 계좌의 속성(Attribute)\n",
    "    number = 'OOOO-OOO-OOOOOO'\n",
    "    balance = 0\n",
    "    rate = 1.0\n",
    "    num_acc = 0\n",
    "    \n",
    "    def __init__(self, num='OOO-OOO-OOOOO', amnt=0, rate=1.0):\n",
    "        self.number = num\n",
    "        self.balance = amnt\n",
    "        self.rate = rate\n",
    "        self.amnt = amnt\n",
    "        Account.num_acc += 1 #####Account의 클래스 변수 값 변경\n",
    "        \n",
    "    # 계좌의 기능(Method)\n",
    "    def deposit(self, money): #입금\n",
    "        self.balance += money\n",
    "    def withdraw(self, money): #인출\n",
    "        self.balance -= money\n",
    "    def obtain_interest(self): #이자 획득\n",
    "        self.balance += self.balance*(self.rate/100)\n",
    "    def get_balance(self):\n",
    "        return self.balance\n",
    "    def set_balance(self, amnt):\n",
    "        self.balance = amnt    \n",
    "    def transfer(self, another, amnt):\n",
    "        if self.withdraw(amnt):\n",
    "            another.deposit(amnt)\n",
    "#     def __repr__(self):\n",
    "#         return str(self.balance)"
   ]
  },
  {
   "cell_type": "code",
   "execution_count": 234,
   "metadata": {},
   "outputs": [
    {
     "name": "stdout",
     "output_type": "stream",
     "text": [
      "0\n"
     ]
    }
   ],
   "source": [
    "acc1 = Account()\n",
    "print(acc1)"
   ]
  },
  {
   "cell_type": "code",
   "execution_count": 228,
   "metadata": {},
   "outputs": [
    {
     "name": "stdout",
     "output_type": "stream",
     "text": [
      "3\n",
      "3\n"
     ]
    }
   ],
   "source": [
    "acc1 = Account()\n",
    "acc2 = Account()\n",
    "acc3 = Account()\n",
    "print(acc1.num_acc) # 3 acc1에는 없었는데 상위클래스에 있어서 데꼬옴\n",
    "print(Account.num_acc)"
   ]
  },
  {
   "cell_type": "code",
   "execution_count": 229,
   "metadata": {},
   "outputs": [],
   "source": [
    "class MinBalanceAccount(Account): #Account 클래스를 상속받음\n",
    "    def __init__(self, min_balance, num='OOOO-OOO-OOOOO',\n",
    "        amnt=0, rate=1.0):\n",
    "        #Account.__init__(self, 매개변수 = 부속클래스의 매개변수)\n",
    "        Account.__init__(self, num=num, amnt=amnt, rate=rate)\n",
    "        self.minimum_balance = min_balance\n",
    "        self.bonus_rate = 1.0\n",
    "    def withdraw(self, amnt): # 인출 기능 수정\n",
    "        if self.balance - amnt < self.minimum_balance:\n",
    "            print('Sorry, minimum balance must be maintained')\n",
    "            return False\n",
    "        else:\n",
    "            Account.withdraw(self, amnt)\n",
    "            return True\n",
    "    def obtain_interest(self): #보너스 이율 반영\n",
    "        self.balance += (self.balance)*((self.rate+self.bonus_rate)/100.0)\n",
    "    def __add__(self, another): #두 계좌 통합 기능\n",
    "        new_acc=Account(amnt=self.balance+another.balance,\n",
    "        rate=self.rate)\n",
    "        return new_acc"
   ]
  },
  {
   "cell_type": "markdown",
   "metadata": {},
   "source": [
    "# 연습문제1"
   ]
  },
  {
   "cell_type": "code",
   "execution_count": 232,
   "metadata": {},
   "outputs": [
    {
     "name": "stdout",
     "output_type": "stream",
     "text": [
      "300\n",
      "1200\n"
     ]
    }
   ],
   "source": [
    "acc1= MinBalanceAccount(min_balance=0)\n",
    "acc1.set_balance(500)\n",
    "acc2= MinBalanceAccount(min_balance=0)\n",
    "acc2.set_balance(1000)\n",
    "\n",
    "acc1.transfer(acc2, 200) # acc1에서 acc2로 100원\n",
    "print(acc1.get_balance()) # 400\n",
    "print(acc2.get_balance()) # 1100"
   ]
  },
  {
   "cell_type": "code",
   "execution_count": null,
   "metadata": {},
   "outputs": [],
   "source": []
  },
  {
   "cell_type": "code",
   "execution_count": null,
   "metadata": {},
   "outputs": [],
   "source": []
  },
  {
   "cell_type": "code",
   "execution_count": null,
   "metadata": {},
   "outputs": [],
   "source": []
  }
 ],
 "metadata": {
  "kernelspec": {
   "display_name": "Python 3",
   "language": "python",
   "name": "python3"
  },
  "language_info": {
   "codemirror_mode": {
    "name": "ipython",
    "version": 3
   },
   "file_extension": ".py",
   "mimetype": "text/x-python",
   "name": "python",
   "nbconvert_exporter": "python",
   "pygments_lexer": "ipython3",
   "version": "3.7.4"
  }
 },
 "nbformat": 4,
 "nbformat_minor": 2
}
