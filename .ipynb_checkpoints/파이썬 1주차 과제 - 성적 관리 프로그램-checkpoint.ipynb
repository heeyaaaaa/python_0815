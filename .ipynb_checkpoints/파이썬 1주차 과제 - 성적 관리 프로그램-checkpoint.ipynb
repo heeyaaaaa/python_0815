{
 "cells": [
  {
   "cell_type": "code",
   "execution_count": 2,
   "metadata": {},
   "outputs": [
    {
     "ename": "FileNotFoundError",
     "evalue": "[Errno 2] No such file or directory: '-f'",
     "output_type": "error",
     "traceback": [
      "\u001b[0;31m---------------------------------------------------------------------------\u001b[0m",
      "\u001b[0;31mFileNotFoundError\u001b[0m                         Traceback (most recent call last)",
      "\u001b[0;32m<ipython-input-2-6c23cf2b915b>\u001b[0m in \u001b[0;36m<module>\u001b[0;34m\u001b[0m\n\u001b[1;32m      6\u001b[0m \u001b[0;32melse\u001b[0m\u001b[0;34m:\u001b[0m\u001b[0;34m\u001b[0m\u001b[0;34m\u001b[0m\u001b[0m\n\u001b[1;32m      7\u001b[0m     \u001b[0marg\u001b[0m \u001b[0;34m=\u001b[0m \u001b[0msys\u001b[0m\u001b[0;34m.\u001b[0m\u001b[0margv\u001b[0m\u001b[0;34m[\u001b[0m\u001b[0;36m1\u001b[0m\u001b[0;34m]\u001b[0m\u001b[0;34m\u001b[0m\u001b[0;34m\u001b[0m\u001b[0m\n\u001b[0;32m----> 8\u001b[0;31m     \u001b[0mfile\u001b[0m \u001b[0;34m=\u001b[0m \u001b[0mopen\u001b[0m\u001b[0;34m(\u001b[0m\u001b[0marg\u001b[0m\u001b[0;34m,\u001b[0m \u001b[0;34m\"r\"\u001b[0m\u001b[0;34m)\u001b[0m\u001b[0;34m\u001b[0m\u001b[0;34m\u001b[0m\u001b[0m\n\u001b[0m\u001b[1;32m      9\u001b[0m \u001b[0;34m\u001b[0m\u001b[0m\n\u001b[1;32m     10\u001b[0m \u001b[0;34m\u001b[0m\u001b[0m\n",
      "\u001b[0;31mFileNotFoundError\u001b[0m: [Errno 2] No such file or directory: '-f'"
     ]
    }
   ],
   "source": [
    "import sys\n",
    "\n",
    "if len(sys.argv)==1 or sys.argv[1] == \"students.txt\":\n",
    "    file = open(\"students.txt\",\"r\")\n",
    "    \n",
    "else:\n",
    "    arg = sys.argv[1]\n",
    "    file = open(arg, \"r\")\n",
    "    \n",
    "    "
   ]
  },
  {
   "cell_type": "code",
   "execution_count": 3,
   "metadata": {},
   "outputs": [],
   "source": [
    "file = open(\"students.txt\", \"r\")"
   ]
  },
  {
   "cell_type": "code",
   "execution_count": 4,
   "metadata": {
    "scrolled": false
   },
   "outputs": [
    {
     "name": "stdout",
     "output_type": "stream",
     "text": [
      "{'20180001': ['Hong Gildong', 84, 73], '20180002': ['Lee Jieun', 92, 89], '20180007': ['Kim Cheolsu', 57, 62], '20180009': ['Lee Yeonghee', 81, 84], '20180011': ['Ha Donghun', 58, 68]}\n"
     ]
    }
   ],
   "source": [
    "stu_dict={}\n",
    "\n",
    "for stu in file.readlines():\n",
    "    info = stu[:-1].split('\\t')\n",
    "    ID = info[0]\n",
    "    stu_dict[ID] = info[1:]\n",
    "    stu_dict[ID][1] = int(stu_dict[ID][1])\n",
    "    stu_dict[ID][2] = int(stu_dict[ID][2])\n",
    "print(stu_dict)\n"
   ]
  },
  {
   "cell_type": "code",
   "execution_count": 5,
   "metadata": {},
   "outputs": [],
   "source": [
    "def Grade_df(Avg):\n",
    "    if Avg >=90 :\n",
    "        Grade = \"A\"\n",
    "    elif Avg >=80 and Avg <90 :\n",
    "        Grade = \"B\"\n",
    "    elif Avg >=70 and Avg <80 :\n",
    "        Grade = \"C\"\n",
    "    elif Avg >=60 and Avg <70 :\n",
    "        Grade = \"D\"\n",
    "    else:\n",
    "        Grade = \"F\"\n",
    "    return Grade"
   ]
  },
  {
   "cell_type": "code",
   "execution_count": 6,
   "metadata": {},
   "outputs": [],
   "source": [
    "for ID,info  in stu_dict.items():\n",
    "    Mid = info[1]\n",
    "    Final = info[2]\n",
    "    Avg = (Mid+Final)/2\n",
    "    stu_dict[ID].append(Avg)\n",
    "    Grade = Grade_df(Avg)\n",
    "    stu_dict[ID].append(Grade)\n",
    "    "
   ]
  },
  {
   "cell_type": "code",
   "execution_count": 7,
   "metadata": {},
   "outputs": [
    {
     "data": {
      "text/plain": [
       "{'20180001': ['Hong Gildong', 84, 73, 78.5, 'C'],\n",
       " '20180002': ['Lee Jieun', 92, 89, 90.5, 'A'],\n",
       " '20180007': ['Kim Cheolsu', 57, 62, 59.5, 'F'],\n",
       " '20180009': ['Lee Yeonghee', 81, 84, 82.5, 'B'],\n",
       " '20180011': ['Ha Donghun', 58, 68, 63.0, 'D']}"
      ]
     },
     "execution_count": 7,
     "metadata": {},
     "output_type": "execute_result"
    }
   ],
   "source": [
    "stu_dict"
   ]
  },
  {
   "cell_type": "code",
   "execution_count": 8,
   "metadata": {},
   "outputs": [
    {
     "name": "stdout",
     "output_type": "stream",
     "text": [
      "[('20180002', ['Lee Jieun', 92, 89, 90.5, 'A']), ('20180009', ['Lee Yeonghee', 81, 84, 82.5, 'B']), ('20180001', ['Hong Gildong', 84, 73, 78.5, 'C']), ('20180011', ['Ha Donghun', 58, 68, 63.0, 'D']), ('20180007', ['Kim Cheolsu', 57, 62, 59.5, 'F'])]\n"
     ]
    }
   ],
   "source": [
    "def sort(stu_dict):\n",
    "    sort_st = sorted(stu_dict.items(), key = lambda a : a [1][3], reverse = True)\n",
    "    return sort_st\n",
    "sort_st = sort(stu_dict)\n",
    "print(sort_st)"
   ]
  },
  {
   "cell_type": "code",
   "execution_count": 9,
   "metadata": {
    "scrolled": false
   },
   "outputs": [
    {
     "name": "stdout",
     "output_type": "stream",
     "text": [
      "Student \t Name \t  Midterm \tFinal \t Average \tGrade\n",
      "----------------------------------------------------------------------\n",
      "20180002\tLee Jieun\t92\t89\t90.5 \tA\n",
      "20180009\tLee Yeonghee\t81\t84\t82.5 \tB\n",
      "20180001\tHong Gildong\t84\t73\t78.5 \tC\n",
      "20180011\tHa Donghun\t58\t68\t63.0 \tD\n",
      "20180007\tKim Cheolsu\t57\t62\t59.5 \tF\n"
     ]
    }
   ],
   "source": [
    "print(\"Student \\t Name \\t  Midterm \\tFinal \\t Average \\tGrade\")\n",
    "print(\"-\"*70)\n",
    "for stu in sort_st:\n",
    "    ID = stu[0]\n",
    "    Name = stu[1][0]\n",
    "    Mid = stu[1][1]\n",
    "    Final = stu[1][2]\n",
    "    Avg = stu[1][3]\n",
    "    Grade = stu[1][4] \n",
    "    \n",
    "    print(\"%s\\t%s\\t%s\\t%s\\t%.1f \\t%s\" %(ID, Name, Mid, Final, Avg, Grade))"
   ]
  },
  {
   "cell_type": "code",
   "execution_count": 10,
   "metadata": {},
   "outputs": [
    {
     "name": "stdout",
     "output_type": "stream",
     "text": [
      "#show\n"
     ]
    }
   ],
   "source": [
    "do_list = ['show', 'search', 'changescore', 'searchgrade', 'add', 'remove', 'quit']\n",
    "do = ''\n",
    "while do not in do_list :\n",
    "    do = input(\"#\")\n"
   ]
  },
  {
   "cell_type": "markdown",
   "metadata": {},
   "source": [
    "# 1. show"
   ]
  },
  {
   "cell_type": "code",
   "execution_count": 19,
   "metadata": {},
   "outputs": [
    {
     "name": "stdout",
     "output_type": "stream",
     "text": [
      "Student \t Name \t  Midterm \tFinal \t Average \tGrade\n",
      "----------------------------------------------------------------------\n",
      "20180021\tLee Hyori\t93\t95\t94.0 \tA\n",
      "20180002\tLee Jieun\t92\t89\t90.5 \tA\n",
      "20180009\tLee Yeonghee\t81\t84\t82.5 \tB\n",
      "20180001\tHong Gildong\t84\t73\t78.5 \tC\n",
      "20180011\tHa Donghun\t58\t68\t63.0 \tD\n"
     ]
    }
   ],
   "source": [
    "do = 'show'\n",
    "if do.upper() == 'SHOW':\n",
    "    print(\"Student \\t Name \\t  Midterm \\tFinal \\t Average \\tGrade\")\n",
    "    print(\"-\"*70)\n",
    "    sort_st = sort(stu_dict)\n",
    "    for stu in sort_st:\n",
    "        ID = stu[0]\n",
    "        Name = stu[1][0]\n",
    "        Mid = stu[1][1]\n",
    "        Final = stu[1][2]\n",
    "        Avg = stu[1][3]\n",
    "        Grade = stu[1][4] \n",
    "    \n",
    "        print(\"%s\\t%s\\t%s\\t%s\\t%.1f \\t%s\" %(ID, Name, Mid, Final, Avg, Grade))\n",
    "\n"
   ]
  },
  {
   "cell_type": "markdown",
   "metadata": {},
   "source": [
    "# 2. search"
   ]
  },
  {
   "cell_type": "code",
   "execution_count": 12,
   "metadata": {},
   "outputs": [
    {
     "name": "stdout",
     "output_type": "stream",
     "text": [
      "Student ID: 20180007\n",
      "Student \t Name \t  Midterm \tFinal \t Average \tGrade\n",
      "----------------------------------------------------------------------\n",
      "20180007\tKim Cheolsu\t57\t62\t59.5 \tF\n",
      "\n",
      "\n",
      "#show\n"
     ]
    }
   ],
   "source": [
    "do = 'search'\n",
    "if do.upper() == 'SEARCH':\n",
    "    ID = input(\"Student ID: \")\n",
    "    if ID not in stu_dict:\n",
    "        print(\"NO SUCH PERSON.\")\n",
    "    else:\n",
    "        print(\"Student \\t Name \\t  Midterm \\tFinal \\t Average \\tGrade\")\n",
    "        print(\"-\"*70)\n",
    "        Name = stu_dict[ID][0]\n",
    "        Mid = stu_dict[ID][1]\n",
    "        Final = stu_dict[ID][2]\n",
    "        Avg = stu_dict[ID][3]\n",
    "        Grade = stu_dict[ID][4] \n",
    "        print(\"%s\\t%s\\t%s\\t%s\\t%.1f \\t%s\" %(ID, Name, Mid, Final, Avg, Grade))\n",
    "        \n",
    "    print('\\n')\n",
    "    do=''\n",
    "    while do not in do_list :\n",
    "        do = input(\"#\")\n"
   ]
  },
  {
   "cell_type": "markdown",
   "metadata": {},
   "source": [
    "# 3. changescore"
   ]
  },
  {
   "cell_type": "code",
   "execution_count": 13,
   "metadata": {},
   "outputs": [],
   "source": [
    "def update(ID, score, mid = 1):\n",
    "    if score in range(101):\n",
    "        print(\"Student \\t Name \\t  Midterm \\tFinal \\t Average \\tGrade\")\n",
    "        print(\"-\"*70)\n",
    "        ID = str(ID)\n",
    "        Name = stu_dict[ID][0]\n",
    "        Mid = stu_dict[ID][1]\n",
    "        Final = stu_dict[ID][2]\n",
    "        Avg = stu_dict[ID][3]\n",
    "        Grade = stu_dict[ID][4] \n",
    "        print(\"%s\\t%s\\t%s\\t%s\\t%.1f \\t%s\" %(ID, Name, Mid, Final, Avg, Grade))\n",
    "\n",
    "        print(\"Score changed.\")\n",
    "        stu_dict[ID][mid] = score\n",
    "        Mid = stu_dict[ID][1]\n",
    "        Final = stu_dict[ID][2]\n",
    "        stu_dict[ID][3] = Avg = (Mid+Final)/2\n",
    "        stu_dict[ID][4] = Grade = Grade_df(Avg)                 \n",
    "        print(\"%s\\t%s\\t%s\\t%s\\t%.1f \\t%s\" %(ID, Name, Mid, Final, Avg, Grade))\n",
    "        sort_st = sort(stu_dict)"
   ]
  },
  {
   "cell_type": "code",
   "execution_count": 14,
   "metadata": {},
   "outputs": [
    {
     "name": "stdout",
     "output_type": "stream",
     "text": [
      "Student ID: 20180007\n",
      "Mid/Final? final\n",
      "Input new score: 75\n",
      "Student \t Name \t  Midterm \tFinal \t Average \tGrade\n",
      "----------------------------------------------------------------------\n",
      "20180007\tKim Cheolsu\t57\t62\t59.5 \tF\n",
      "Score changed.\n",
      "20180007\tKim Cheolsu\t57\t75\t66.0 \tD\n"
     ]
    }
   ],
   "source": [
    "do = 'changescore'\n",
    "if do.upper() == \"CHANGESCORE\":\n",
    "    ID = input(\"Student ID: \")\n",
    "    if ID not in stu_dict:\n",
    "        print(\"NO SUCH PERSON.\")\n",
    "    else:\n",
    "        Q = input(\"Mid/Final? \")\n",
    "        A_ls = ['MID','FINAL']\n",
    "        if Q.upper() not in A_ls:\n",
    "            pass\n",
    "        elif Q.upper() == \"MID\":\n",
    "                mid_update = input(\"Input new score: \")\n",
    "                update(ID, int(mid_update))\n",
    "                \n",
    "        else:\n",
    "            final_update = input(\"Input new score: \")\n",
    "            update(ID, int(final_update), 2)"
   ]
  },
  {
   "cell_type": "code",
   "execution_count": 13,
   "metadata": {},
   "outputs": [
    {
     "name": "stdout",
     "output_type": "stream",
     "text": [
      "Student \t Name \t  Midterm \tFinal \t Average \tGrade\n",
      "----------------------------------------------------------------------\n",
      "20180007\tKim Cheolsu\t57\t62\t59.5 \tF\n",
      "Score changed.\n",
      "20180007\tKim Cheolsu\t75\t62\t68.5 \tD\n"
     ]
    }
   ],
   "source": [
    "update(20180007,75)"
   ]
  },
  {
   "cell_type": "code",
   "execution_count": 15,
   "metadata": {},
   "outputs": [
    {
     "data": {
      "text/plain": [
       "{'20180001': ['Hong Gildong', 84, 73, 78.5, 'C'],\n",
       " '20180002': ['Lee Jieun', 92, 89, 90.5, 'A'],\n",
       " '20180007': ['Kim Cheolsu', 57, 75, 66.0, 'D'],\n",
       " '20180009': ['Lee Yeonghee', 81, 84, 82.5, 'B'],\n",
       " '20180011': ['Ha Donghun', 58, 68, 63.0, 'D']}"
      ]
     },
     "execution_count": 15,
     "metadata": {},
     "output_type": "execute_result"
    }
   ],
   "source": [
    "stu_dict"
   ]
  },
  {
   "cell_type": "markdown",
   "metadata": {},
   "source": [
    "# 4. add"
   ]
  },
  {
   "cell_type": "code",
   "execution_count": 16,
   "metadata": {},
   "outputs": [
    {
     "name": "stdout",
     "output_type": "stream",
     "text": [
      "Student ID: 20180021\n",
      "Name: Lee Hyori\n",
      "Midterm Score: 93\n",
      "Final Score: 95\n",
      "Student added.\n"
     ]
    }
   ],
   "source": [
    "do = 'add'\n",
    "if do.upper() == \"ADD\":\n",
    "    ID = input(\"Student ID: \")\n",
    "    if ID in stu_dict:\n",
    "        print(\"ALREADY EXISTS.\")\n",
    "    else:\n",
    "        Name = input(\"Name: \")\n",
    "        Mid = int(input(\"Midterm Score: \"))\n",
    "        Final = int(input(\"Final Score: \"))\n",
    "        Avg = (Mid + Final)/2\n",
    "        Grade = Grade_df(Avg)\n",
    "        st_info = list([Name, Mid, Final, Avg, Grade])\n",
    "        stu_dict[ID] = st_info\n",
    "        print(\"Student added.\")\n",
    "    "
   ]
  },
  {
   "cell_type": "markdown",
   "metadata": {},
   "source": [
    "# 5. searchgrade"
   ]
  },
  {
   "cell_type": "code",
   "execution_count": 17,
   "metadata": {},
   "outputs": [
    {
     "name": "stdout",
     "output_type": "stream",
     "text": [
      "Grade to search: D\n",
      "Student \t Name \t  Midterm \tFinal \t Average \tGrade\n",
      "----------------------------------------------------------------------\n",
      "20180007\tKim Cheolsu\t57\t75\t66.0 \tD\n",
      "20180011\tHa Donghun\t58\t68\t63.0 \tD\n"
     ]
    }
   ],
   "source": [
    "do = 'searchgrade'\n",
    "if do.upper() == \"SEARCHGRADE\":\n",
    "    Grade = input(\"Grade to search: \")\n",
    "    stu_Grade_ls = []\n",
    "    for i in stu_dict.values():\n",
    "        stu_Grade_ls.append(i[4])\n",
    "\n",
    "\n",
    "    if Grade not in list(['A','B','C','D','F']):\n",
    "        pass\n",
    "    else:\n",
    "        if Grade not in stu_Grade_ls:\n",
    "            print(\"NO RESULTS.\")\n",
    "        else:\n",
    "            print(\"Student \\t Name \\t  Midterm \\tFinal \\t Average \\tGrade\")\n",
    "            print(\"-\"*70)\n",
    "            for ID, info in stu_dict.items():\n",
    "                for g in info[4]:\n",
    "                    if g == Grade:\n",
    "                        Name = stu_dict[ID][0]\n",
    "                        Mid = stu_dict[ID][1]\n",
    "                        Final = stu_dict[ID][2]\n",
    "                        Avg = stu_dict[ID][3]\n",
    "                        print(\"%s\\t%s\\t%s\\t%s\\t%.1f \\t%s\" %(ID, Name, Mid, Final, Avg, Grade))\n",
    "\n"
   ]
  },
  {
   "cell_type": "markdown",
   "metadata": {},
   "source": [
    "# 6. remove"
   ]
  },
  {
   "cell_type": "code",
   "execution_count": 18,
   "metadata": {},
   "outputs": [
    {
     "name": "stdout",
     "output_type": "stream",
     "text": [
      "Student ID: 20180007\n",
      "Student removed\n"
     ]
    }
   ],
   "source": [
    "do = 'remove'\n",
    "if do.upper() == \"REMOVE\":\n",
    "    if stu_dict == {}:\n",
    "        print(\"List is empty\")\n",
    "    else:\n",
    "        ID = input(\"Student ID: \")\n",
    "        if ID not in stu_dict:\n",
    "            print(\"NO SUCH PERSON.\")\n",
    "        else:\n",
    "            del stu_dict[ID]\n",
    "            print(\"Student removed\")"
   ]
  },
  {
   "cell_type": "markdown",
   "metadata": {},
   "source": [
    "# 7. quit"
   ]
  },
  {
   "cell_type": "code",
   "execution_count": 21,
   "metadata": {},
   "outputs": [
    {
     "name": "stdout",
     "output_type": "stream",
     "text": [
      "Save data?[yes/no]yes\n",
      "File name: newStudents.txt\n",
      "$\n"
     ]
    }
   ],
   "source": [
    "do = 'quit'\n",
    "if do.upper() == \"QUIT\":\n",
    "    Q = input(\"Save data?[yes/no]\")\n",
    "    if Q.upper() == \"YES\":\n",
    "        f_name = input(\"File name: \")\n",
    "        f = open(f_name, 'w')\n",
    "        sort_st = sort(stu_dict)\n",
    "        for stu in sort_st:\n",
    "            ID = stu[0]\n",
    "            Name = stu[1][0]\n",
    "            Mid = stu[1][1]\n",
    "            Final = stu[1][2]\n",
    "            data = \"%s\\t%s\\t%s\\t%s\\n\" %(ID, Name, Mid, Final)\n",
    "            f.write(data)\n",
    "        f.close()\n",
    "\n",
    "        print(\"$\")"
   ]
  },
  {
   "cell_type": "code",
   "execution_count": 22,
   "metadata": {},
   "outputs": [
    {
     "name": "stdout",
     "output_type": "stream",
     "text": [
      "[('20180021', ['Lee Hyori', 93, 95, 94.0, 'A']), ('20180002', ['Lee Jieun', 92, 89, 90.5, 'A']), ('20180009', ['Lee Yeonghee', 81, 84, 82.5, 'B']), ('20180001', ['Hong Gildong', 84, 73, 78.5, 'C']), ('20180011', ['Ha Donghun', 58, 68, 63.0, 'D'])]\n"
     ]
    }
   ],
   "source": [
    "print(sort_st)"
   ]
  },
  {
   "cell_type": "code",
   "execution_count": null,
   "metadata": {},
   "outputs": [],
   "source": []
  }
 ],
 "metadata": {
  "kernelspec": {
   "display_name": "Python 3",
   "language": "python",
   "name": "python3"
  },
  "language_info": {
   "codemirror_mode": {
    "name": "ipython",
    "version": 3
   },
   "file_extension": ".py",
   "mimetype": "text/x-python",
   "name": "python",
   "nbconvert_exporter": "python",
   "pygments_lexer": "ipython3",
   "version": "3.7.4"
  }
 },
 "nbformat": 4,
 "nbformat_minor": 2
}
