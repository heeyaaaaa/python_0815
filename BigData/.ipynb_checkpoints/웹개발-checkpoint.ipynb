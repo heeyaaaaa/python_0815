{
 "cells": [
  {
   "cell_type": "markdown",
   "metadata": {},
   "source": [
    "전통통계  \n",
    "모집단으로부터 샘플을 추출하여 다시 모집단을 추정하는 과정  \n",
    "\n",
    "데이터 마이닝(기계학습)  \n",
    "Train - Model - Test\n",
    "정형, 관계형 데이터베이스 RDBMS\n",
    "머신러닝 \n",
    "\n",
    "빅데이터  \n",
    "정형 데이터뿐만이 아니라 비정형 데이터(이미지, 자연어)까지 분석  \n",
    "정형데이터는 표안에 값(성별, 나이)이 있다면, 비정형 데이터는 컴퓨터가 이해할 수 있도록 픽셀화로 만드는데 고차원적인 특징을 가지고 있지는 않음. 저차원(0,1)의 데이터를 다루기 시작  \n",
    "머신러닝에서 신경망(딥러닝)을 이용  \n",
    "테라바이트  (= 1000기가바이트가 1테라바이트)에서 헤타?바이트로 데이터양이 늘어남  \n",
    "\n",
    "\n",
    "데이터분석  \n",
    "1.DDA 묘사적 데이터분석(기초통계량 분포 파악- 문제정의/원인규명)  \n",
    "2.EDA 탐색적 데이터분석(설명변수와 종속변수 간의 관계, 경향성을 확인, 시각화- 현상파악)  \n",
    "3.CDA 확진적 데이터분석(X, Y의 관계를 통계학을 바탕으로 가설검정, 객관적인 증거 발견)  \n",
    "4.PDA 예측, 분류 - 데이터마이닝  \n",
    "\n",
    "보고서 형태로 단계별로 정리  \n",
    "데이터가 실시간으로 변하면서 결과의 변화 과정을 웹을 통해 시각적으로 보여주는 것   \n",
    "데이터수집, 수집된데이터를 정제하여 웹에 뿌려주기도함  \n",
    "\n",
    "IT - 데이터 수집, 저장, 처리, 분석  \n",
    "통계 - 인사이트를 추출  \n"
   ]
  },
  {
   "cell_type": "code",
   "execution_count": null,
   "metadata": {},
   "outputs": [],
   "source": []
  }
 ],
 "metadata": {
  "kernelspec": {
   "display_name": "Python 3",
   "language": "python",
   "name": "python3"
  },
  "language_info": {
   "codemirror_mode": {
    "name": "ipython",
    "version": 3
   },
   "file_extension": ".py",
   "mimetype": "text/x-python",
   "name": "python",
   "nbconvert_exporter": "python",
   "pygments_lexer": "ipython3",
   "version": "3.7.4"
  }
 },
 "nbformat": 4,
 "nbformat_minor": 2
}
