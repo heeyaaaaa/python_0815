{
 "cells": [
  {
   "cell_type": "code",
   "execution_count": null,
   "metadata": {},
   "outputs": [],
   "source": [
    "from selenium import webdriver\n",
    "from bs4 import BeautifulSoup\n",
    "\n",
    "driver = webdriver.Chrome('/usr/bin/chromedriver')\n",
    "driver.get('https://www.investing.com/indices/us-spx-500')\n",
    "ui = driver.find_element_by_css_selector(\"#leftColumn > div:nth-child(20) > article:nth-child(3) > div.textDiv > a\")\n",
    "print(ui.text)\n",
    "ui = driver.find_element_by_css_selector(\"#leftColumn > div:nth-child(20) > article:nth-child(4) > div.textDiv > a\")\n",
    "print(ui.text)\n",
    "ui = driver.find_element_by_css_selector(\"#leftColumn > div:nth-child(20) > article:nth-child(5) > div.textDiv > a\")\n",
    "print(ui.text)"
   ]
  }
 ],
 "metadata": {
  "kernelspec": {
   "display_name": "Python 3",
   "language": "python",
   "name": "python3"
  },
  "language_info": {
   "codemirror_mode": {
    "name": "ipython",
    "version": 3
   },
   "file_extension": ".py",
   "mimetype": "text/x-python",
   "name": "python",
   "nbconvert_exporter": "python",
   "pygments_lexer": "ipython3",
   "version": "3.7.0"
  }
 },
 "nbformat": 4,
 "nbformat_minor": 2
}
