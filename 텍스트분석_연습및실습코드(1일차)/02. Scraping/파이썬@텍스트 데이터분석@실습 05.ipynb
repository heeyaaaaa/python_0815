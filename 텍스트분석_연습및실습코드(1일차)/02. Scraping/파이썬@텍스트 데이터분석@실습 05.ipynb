{
 "cells": [
  {
   "cell_type": "code",
   "execution_count": null,
   "metadata": {},
   "outputs": [],
   "source": [
    "import requests\n",
    "from bs4 import BeautifulSoup\n",
    "\n",
    "url = \"https://finance.naver.com/item/main.nhn?code=005490\"\n",
    "resp = requests.get(url)\n",
    "html = resp.text\n",
    "\n",
    "soup = BeautifulSoup(html, \"html5lib\")\n",
    "per_tags = soup.select(\"#_per\")\n",
    "pbr_tags = soup.select(\"#_pbr\")\n",
    "print(per_tags[0].text)\n",
    "print(pbr_tags[0].text)"
   ]
  }
 ],
 "metadata": {
  "kernelspec": {
   "display_name": "Python 3",
   "language": "python",
   "name": "python3"
  },
  "language_info": {
   "codemirror_mode": {
    "name": "ipython",
    "version": 3
   },
   "file_extension": ".py",
   "mimetype": "text/x-python",
   "name": "python",
   "nbconvert_exporter": "python",
   "pygments_lexer": "ipython3",
   "version": "3.7.0"
  }
 },
 "nbformat": 4,
 "nbformat_minor": 2
}
