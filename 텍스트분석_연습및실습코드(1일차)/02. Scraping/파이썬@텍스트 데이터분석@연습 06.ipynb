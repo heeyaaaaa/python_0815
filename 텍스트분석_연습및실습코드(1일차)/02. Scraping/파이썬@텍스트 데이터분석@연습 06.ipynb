{
 "cells": [
  {
   "cell_type": "code",
   "execution_count": null,
   "metadata": {},
   "outputs": [],
   "source": [
    "from bs4 import BeautifulSoup\n",
    "\n",
    "html = '''\n",
    "<div>\n",
    "  <div class=\"snack\">\n",
    "    <div id=\"first\"> 양파링 </div>\n",
    "    <div id=\"second\"> 새우깡 </div>\n",
    "  </div>\n",
    "  <div class=\"icecream\">\n",
    "    <div> 빵빠레 </div>\n",
    "    <div> 죠스바 </div>\n",
    "  </div>\n",
    "</div>\n",
    "'''\n",
    "\n",
    "soup = BeautifulSoup(html, \"html5lib\")\n",
    "tags = soup.select(\"div > div.icecream > div:nth-of-type(2)\")\n",
    "print(tags[0].text)"
   ]
  }
 ],
 "metadata": {
  "kernelspec": {
   "display_name": "Python 3",
   "language": "python",
   "name": "python3"
  },
  "language_info": {
   "codemirror_mode": {
    "name": "ipython",
    "version": 3
   },
   "file_extension": ".py",
   "mimetype": "text/x-python",
   "name": "python",
   "nbconvert_exporter": "python",
   "pygments_lexer": "ipython3",
   "version": "3.7.0"
  }
 },
 "nbformat": 4,
 "nbformat_minor": 2
}
