{
 "cells": [
  {
   "cell_type": "code",
   "execution_count": null,
   "metadata": {},
   "outputs": [],
   "source": [
    "import requests\n",
    "from bs4 import BeautifulSoup\n",
    "\n",
    "url = \"https://twitter.com/moonriver365\"\n",
    "resp = requests.get(url)\n",
    "html = resp.text\n",
    "\n",
    "#f = open(\"temp.html\", \"w\", encoding=\"utf-8\")\n",
    "#f.write(html)\n",
    "#f.close()\n",
    "\n",
    "soup = BeautifulSoup(html, \"html5lib\")\n",
    "tags = soup.select(\"#stream-items-id li.js-stream-item.stream-item.stream-item  div.content div.js-tweet-text-container > p\")\n",
    "for tag in tags[:3]:\n",
    "    print(tag.text)"
   ]
  }
 ],
 "metadata": {
  "kernelspec": {
   "display_name": "Python 3",
   "language": "python",
   "name": "python3"
  },
  "language_info": {
   "codemirror_mode": {
    "name": "ipython",
    "version": 3
   },
   "file_extension": ".py",
   "mimetype": "text/x-python",
   "name": "python",
   "nbconvert_exporter": "python",
   "pygments_lexer": "ipython3",
   "version": "3.7.0"
  }
 },
 "nbformat": 4,
 "nbformat_minor": 2
}
