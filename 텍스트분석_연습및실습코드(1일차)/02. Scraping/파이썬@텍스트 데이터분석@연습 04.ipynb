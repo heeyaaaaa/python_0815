{
 "cells": [
  {
   "cell_type": "code",
   "execution_count": null,
   "metadata": {},
   "outputs": [],
   "source": [
    "from bs4 import BeautifulSoup\n",
    "\n",
    "html = '''\n",
    "<table>\n",
    "  <tr>\n",
    "    <th> 재무정보 </th>\n",
    "    <th> 2018     </th>\n",
    "    <th> 2019     </th>\n",
    "  </tr>\n",
    "  <tr>\n",
    "    <td> 매출액 </td>\n",
    "    <td> 100    </td>\n",
    "    <td> 200    </td>\n",
    "  </tr>  \n",
    "</table>\n",
    "'''\n",
    "\n",
    "soup = BeautifulSoup(html, \"html5lib\")\n",
    "tags = soup.select(\"table tr td:nth-of-type(2)\")\n",
    "print(tags[0].text)"
   ]
  }
 ],
 "metadata": {
  "kernelspec": {
   "display_name": "Python 3",
   "language": "python",
   "name": "python3"
  },
  "language_info": {
   "codemirror_mode": {
    "name": "ipython",
    "version": 3
   },
   "file_extension": ".py",
   "mimetype": "text/x-python",
   "name": "python",
   "nbconvert_exporter": "python",
   "pygments_lexer": "ipython3",
   "version": "3.7.0"
  }
 },
 "nbformat": 4,
 "nbformat_minor": 2
}
